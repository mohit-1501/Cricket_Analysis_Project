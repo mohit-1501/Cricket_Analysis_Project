{
 "cells": [
  {
   "cell_type": "code",
   "execution_count": 1,
   "id": "4db36d36",
   "metadata": {},
   "outputs": [],
   "source": [
    "import pandas as pd\n",
    "import numpy as np\n",
    "import matplotlib.pyplot as plt \n",
    "import os\n",
    "import glob\n",
    "import shutil\n",
    "import seaborn as sns\n",
    "import math\n",
    "import scipy.stats as stats"
   ]
  },
  {
   "cell_type": "code",
   "execution_count": 2,
   "id": "719236b0",
   "metadata": {},
   "outputs": [],
   "source": [
    "dflp=pd.read_csv(r\"D:\\ime_project\\left-left_right-right\\file2_elaborated_bowlers_perspective\\leftpace_aggr.csv\")\n",
    "dfls=pd.read_csv(r\"D:\\ime_project\\left-left_right-right\\file2_elaborated_bowlers_perspective\\leftspin_aggr.csv\")\n",
    "dfrp=pd.read_csv(r\"D:\\ime_project\\left-left_right-right\\file2_elaborated_bowlers_perspective\\rightpace_aggr.csv\")\n",
    "dfrs=pd.read_csv(r\"D:\\ime_project\\left-left_right-right\\file2_elaborated_bowlers_perspective\\rightspin_aggr.csv\")"
   ]
  },
  {
   "cell_type": "code",
   "execution_count": 3,
   "id": "c988aaaa",
   "metadata": {},
   "outputs": [
    {
     "data": {
      "text/html": [
       "<div>\n",
       "<style scoped>\n",
       "    .dataframe tbody tr th:only-of-type {\n",
       "        vertical-align: middle;\n",
       "    }\n",
       "\n",
       "    .dataframe tbody tr th {\n",
       "        vertical-align: top;\n",
       "    }\n",
       "\n",
       "    .dataframe thead th {\n",
       "        text-align: right;\n",
       "    }\n",
       "</style>\n",
       "<table border=\"1\" class=\"dataframe\">\n",
       "  <thead>\n",
       "    <tr style=\"text-align: right;\">\n",
       "      <th></th>\n",
       "      <th>inning_number</th>\n",
       "      <th>Bowler</th>\n",
       "      <th>fours</th>\n",
       "      <th>sixes</th>\n",
       "      <th>Runs_Conceded</th>\n",
       "      <th>total_deliveries</th>\n",
       "      <th>runs_left</th>\n",
       "      <th>runs_right</th>\n",
       "      <th>delivery_left</th>\n",
       "      <th>delivery_right</th>\n",
       "      <th>...</th>\n",
       "      <th>bowled</th>\n",
       "      <th>caught</th>\n",
       "      <th>lbw</th>\n",
       "      <th>runout</th>\n",
       "      <th>stumped</th>\n",
       "      <th>economy</th>\n",
       "      <th>economy_left</th>\n",
       "      <th>economy_right</th>\n",
       "      <th>bowler_hand</th>\n",
       "      <th>bowler_type</th>\n",
       "    </tr>\n",
       "  </thead>\n",
       "  <tbody>\n",
       "    <tr>\n",
       "      <th>0</th>\n",
       "      <td>1.0</td>\n",
       "      <td>A Nehra</td>\n",
       "      <td>103.0</td>\n",
       "      <td>9.0</td>\n",
       "      <td>927.0</td>\n",
       "      <td>1106.0</td>\n",
       "      <td>155.0</td>\n",
       "      <td>745.0</td>\n",
       "      <td>189.0</td>\n",
       "      <td>917.0</td>\n",
       "      <td>...</td>\n",
       "      <td>8.0</td>\n",
       "      <td>21.0</td>\n",
       "      <td>6.0</td>\n",
       "      <td>0.0</td>\n",
       "      <td>0.0</td>\n",
       "      <td>5.028933</td>\n",
       "      <td>4.920635</td>\n",
       "      <td>4.874591</td>\n",
       "      <td>left</td>\n",
       "      <td>pace</td>\n",
       "    </tr>\n",
       "    <tr>\n",
       "      <th>1</th>\n",
       "      <td>1.0</td>\n",
       "      <td>AJ McKay</td>\n",
       "      <td>24.0</td>\n",
       "      <td>1.0</td>\n",
       "      <td>211.0</td>\n",
       "      <td>286.0</td>\n",
       "      <td>57.0</td>\n",
       "      <td>145.0</td>\n",
       "      <td>68.0</td>\n",
       "      <td>218.0</td>\n",
       "      <td>...</td>\n",
       "      <td>3.0</td>\n",
       "      <td>6.0</td>\n",
       "      <td>1.0</td>\n",
       "      <td>0.0</td>\n",
       "      <td>0.0</td>\n",
       "      <td>4.426573</td>\n",
       "      <td>5.029412</td>\n",
       "      <td>3.990826</td>\n",
       "      <td>left</td>\n",
       "      <td>pace</td>\n",
       "    </tr>\n",
       "    <tr>\n",
       "      <th>2</th>\n",
       "      <td>1.0</td>\n",
       "      <td>AK Peters</td>\n",
       "      <td>2.0</td>\n",
       "      <td>0.0</td>\n",
       "      <td>34.0</td>\n",
       "      <td>49.0</td>\n",
       "      <td>0.0</td>\n",
       "      <td>29.0</td>\n",
       "      <td>0.0</td>\n",
       "      <td>49.0</td>\n",
       "      <td>...</td>\n",
       "      <td>0.0</td>\n",
       "      <td>0.0</td>\n",
       "      <td>0.0</td>\n",
       "      <td>0.0</td>\n",
       "      <td>0.0</td>\n",
       "      <td>4.163265</td>\n",
       "      <td>NaN</td>\n",
       "      <td>3.551020</td>\n",
       "      <td>left</td>\n",
       "      <td>pace</td>\n",
       "    </tr>\n",
       "    <tr>\n",
       "      <th>3</th>\n",
       "      <td>1.0</td>\n",
       "      <td>AM Guruge</td>\n",
       "      <td>10.0</td>\n",
       "      <td>8.0</td>\n",
       "      <td>163.0</td>\n",
       "      <td>143.0</td>\n",
       "      <td>0.0</td>\n",
       "      <td>158.0</td>\n",
       "      <td>0.0</td>\n",
       "      <td>143.0</td>\n",
       "      <td>...</td>\n",
       "      <td>0.0</td>\n",
       "      <td>5.0</td>\n",
       "      <td>0.0</td>\n",
       "      <td>0.0</td>\n",
       "      <td>0.0</td>\n",
       "      <td>6.839161</td>\n",
       "      <td>NaN</td>\n",
       "      <td>6.629371</td>\n",
       "      <td>left</td>\n",
       "      <td>pace</td>\n",
       "    </tr>\n",
       "    <tr>\n",
       "      <th>4</th>\n",
       "      <td>1.0</td>\n",
       "      <td>APC Kilowan</td>\n",
       "      <td>1.0</td>\n",
       "      <td>0.0</td>\n",
       "      <td>18.0</td>\n",
       "      <td>54.0</td>\n",
       "      <td>0.0</td>\n",
       "      <td>16.0</td>\n",
       "      <td>0.0</td>\n",
       "      <td>54.0</td>\n",
       "      <td>...</td>\n",
       "      <td>1.0</td>\n",
       "      <td>1.0</td>\n",
       "      <td>0.0</td>\n",
       "      <td>0.0</td>\n",
       "      <td>0.0</td>\n",
       "      <td>2.000000</td>\n",
       "      <td>NaN</td>\n",
       "      <td>1.777778</td>\n",
       "      <td>left</td>\n",
       "      <td>pace</td>\n",
       "    </tr>\n",
       "    <tr>\n",
       "      <th>...</th>\n",
       "      <td>...</td>\n",
       "      <td>...</td>\n",
       "      <td>...</td>\n",
       "      <td>...</td>\n",
       "      <td>...</td>\n",
       "      <td>...</td>\n",
       "      <td>...</td>\n",
       "      <td>...</td>\n",
       "      <td>...</td>\n",
       "      <td>...</td>\n",
       "      <td>...</td>\n",
       "      <td>...</td>\n",
       "      <td>...</td>\n",
       "      <td>...</td>\n",
       "      <td>...</td>\n",
       "      <td>...</td>\n",
       "      <td>...</td>\n",
       "      <td>...</td>\n",
       "      <td>...</td>\n",
       "      <td>...</td>\n",
       "      <td>...</td>\n",
       "    </tr>\n",
       "    <tr>\n",
       "      <th>176</th>\n",
       "      <td>2.0</td>\n",
       "      <td>UWMBCA Welegedara</td>\n",
       "      <td>7.0</td>\n",
       "      <td>0.0</td>\n",
       "      <td>32.0</td>\n",
       "      <td>38.0</td>\n",
       "      <td>0.0</td>\n",
       "      <td>32.0</td>\n",
       "      <td>0.0</td>\n",
       "      <td>38.0</td>\n",
       "      <td>...</td>\n",
       "      <td>0.0</td>\n",
       "      <td>3.0</td>\n",
       "      <td>0.0</td>\n",
       "      <td>0.0</td>\n",
       "      <td>0.0</td>\n",
       "      <td>5.052632</td>\n",
       "      <td>NaN</td>\n",
       "      <td>5.052632</td>\n",
       "      <td>left</td>\n",
       "      <td>pace</td>\n",
       "    </tr>\n",
       "    <tr>\n",
       "      <th>177</th>\n",
       "      <td>2.0</td>\n",
       "      <td>Usman Shinwari</td>\n",
       "      <td>3.0</td>\n",
       "      <td>1.0</td>\n",
       "      <td>41.0</td>\n",
       "      <td>68.0</td>\n",
       "      <td>0.0</td>\n",
       "      <td>38.0</td>\n",
       "      <td>0.0</td>\n",
       "      <td>68.0</td>\n",
       "      <td>...</td>\n",
       "      <td>0.0</td>\n",
       "      <td>6.0</td>\n",
       "      <td>0.0</td>\n",
       "      <td>0.0</td>\n",
       "      <td>0.0</td>\n",
       "      <td>3.617647</td>\n",
       "      <td>NaN</td>\n",
       "      <td>3.352941</td>\n",
       "      <td>left</td>\n",
       "      <td>pace</td>\n",
       "    </tr>\n",
       "    <tr>\n",
       "      <th>178</th>\n",
       "      <td>2.0</td>\n",
       "      <td>WD Parnell</td>\n",
       "      <td>113.0</td>\n",
       "      <td>13.0</td>\n",
       "      <td>1028.0</td>\n",
       "      <td>1146.0</td>\n",
       "      <td>133.0</td>\n",
       "      <td>854.0</td>\n",
       "      <td>125.0</td>\n",
       "      <td>1021.0</td>\n",
       "      <td>...</td>\n",
       "      <td>1.0</td>\n",
       "      <td>25.0</td>\n",
       "      <td>2.0</td>\n",
       "      <td>0.0</td>\n",
       "      <td>0.0</td>\n",
       "      <td>5.382199</td>\n",
       "      <td>6.384000</td>\n",
       "      <td>5.018609</td>\n",
       "      <td>left</td>\n",
       "      <td>pace</td>\n",
       "    </tr>\n",
       "    <tr>\n",
       "      <th>179</th>\n",
       "      <td>2.0</td>\n",
       "      <td>WPUJC Vaas</td>\n",
       "      <td>88.0</td>\n",
       "      <td>9.0</td>\n",
       "      <td>753.0</td>\n",
       "      <td>960.0</td>\n",
       "      <td>225.0</td>\n",
       "      <td>513.0</td>\n",
       "      <td>268.0</td>\n",
       "      <td>692.0</td>\n",
       "      <td>...</td>\n",
       "      <td>2.0</td>\n",
       "      <td>6.0</td>\n",
       "      <td>7.0</td>\n",
       "      <td>0.0</td>\n",
       "      <td>1.0</td>\n",
       "      <td>4.706250</td>\n",
       "      <td>5.037313</td>\n",
       "      <td>4.447977</td>\n",
       "      <td>left</td>\n",
       "      <td>pace</td>\n",
       "    </tr>\n",
       "    <tr>\n",
       "      <th>180</th>\n",
       "      <td>2.0</td>\n",
       "      <td>Wahab Riaz</td>\n",
       "      <td>90.0</td>\n",
       "      <td>13.0</td>\n",
       "      <td>907.0</td>\n",
       "      <td>1031.0</td>\n",
       "      <td>104.0</td>\n",
       "      <td>745.0</td>\n",
       "      <td>128.0</td>\n",
       "      <td>903.0</td>\n",
       "      <td>...</td>\n",
       "      <td>10.0</td>\n",
       "      <td>18.0</td>\n",
       "      <td>0.0</td>\n",
       "      <td>0.0</td>\n",
       "      <td>0.0</td>\n",
       "      <td>5.278371</td>\n",
       "      <td>4.875000</td>\n",
       "      <td>4.950166</td>\n",
       "      <td>left</td>\n",
       "      <td>pace</td>\n",
       "    </tr>\n",
       "  </tbody>\n",
       "</table>\n",
       "<p>181 rows × 40 columns</p>\n",
       "</div>"
      ],
      "text/plain": [
       "     inning_number             Bowler  fours  sixes  Runs_Conceded  \\\n",
       "0              1.0            A Nehra  103.0    9.0          927.0   \n",
       "1              1.0           AJ McKay   24.0    1.0          211.0   \n",
       "2              1.0          AK Peters    2.0    0.0           34.0   \n",
       "3              1.0          AM Guruge   10.0    8.0          163.0   \n",
       "4              1.0        APC Kilowan    1.0    0.0           18.0   \n",
       "..             ...                ...    ...    ...            ...   \n",
       "176            2.0  UWMBCA Welegedara    7.0    0.0           32.0   \n",
       "177            2.0     Usman Shinwari    3.0    1.0           41.0   \n",
       "178            2.0         WD Parnell  113.0   13.0         1028.0   \n",
       "179            2.0         WPUJC Vaas   88.0    9.0          753.0   \n",
       "180            2.0         Wahab Riaz   90.0   13.0          907.0   \n",
       "\n",
       "     total_deliveries  runs_left  runs_right  delivery_left  delivery_right  \\\n",
       "0              1106.0      155.0       745.0          189.0           917.0   \n",
       "1               286.0       57.0       145.0           68.0           218.0   \n",
       "2                49.0        0.0        29.0            0.0            49.0   \n",
       "3               143.0        0.0       158.0            0.0           143.0   \n",
       "4                54.0        0.0        16.0            0.0            54.0   \n",
       "..                ...        ...         ...            ...             ...   \n",
       "176              38.0        0.0        32.0            0.0            38.0   \n",
       "177              68.0        0.0        38.0            0.0            68.0   \n",
       "178            1146.0      133.0       854.0          125.0          1021.0   \n",
       "179             960.0      225.0       513.0          268.0           692.0   \n",
       "180            1031.0      104.0       745.0          128.0           903.0   \n",
       "\n",
       "     ...  bowled  caught  lbw  runout  stumped   economy  economy_left  \\\n",
       "0    ...     8.0    21.0  6.0     0.0      0.0  5.028933      4.920635   \n",
       "1    ...     3.0     6.0  1.0     0.0      0.0  4.426573      5.029412   \n",
       "2    ...     0.0     0.0  0.0     0.0      0.0  4.163265           NaN   \n",
       "3    ...     0.0     5.0  0.0     0.0      0.0  6.839161           NaN   \n",
       "4    ...     1.0     1.0  0.0     0.0      0.0  2.000000           NaN   \n",
       "..   ...     ...     ...  ...     ...      ...       ...           ...   \n",
       "176  ...     0.0     3.0  0.0     0.0      0.0  5.052632           NaN   \n",
       "177  ...     0.0     6.0  0.0     0.0      0.0  3.617647           NaN   \n",
       "178  ...     1.0    25.0  2.0     0.0      0.0  5.382199      6.384000   \n",
       "179  ...     2.0     6.0  7.0     0.0      1.0  4.706250      5.037313   \n",
       "180  ...    10.0    18.0  0.0     0.0      0.0  5.278371      4.875000   \n",
       "\n",
       "     economy_right  bowler_hand  bowler_type  \n",
       "0         4.874591         left         pace  \n",
       "1         3.990826         left         pace  \n",
       "2         3.551020         left         pace  \n",
       "3         6.629371         left         pace  \n",
       "4         1.777778         left         pace  \n",
       "..             ...          ...          ...  \n",
       "176       5.052632         left         pace  \n",
       "177       3.352941         left         pace  \n",
       "178       5.018609         left         pace  \n",
       "179       4.447977         left         pace  \n",
       "180       4.950166         left         pace  \n",
       "\n",
       "[181 rows x 40 columns]"
      ]
     },
     "execution_count": 3,
     "metadata": {},
     "output_type": "execute_result"
    }
   ],
   "source": [
    "dflp"
   ]
  },
  {
   "cell_type": "code",
   "execution_count": 4,
   "id": "aa94a87f",
   "metadata": {},
   "outputs": [],
   "source": [
    "for i in range(dflp.shape[0]):\n",
    "    if(pd.isnull(dflp.iloc[i,34])):\n",
    "        dflp['economy_left'][i]=dflp['economy'][i]\n",
    "    if(pd.isnull(dflp.iloc[i,35])):\n",
    "        dflp['economy_right'][i]=dflp['economy'][i]\n",
    "        \n",
    "for i in range(dfls.shape[0]):\n",
    "    if(pd.isnull(dfls.iloc[i,34])):\n",
    "        dfls['economy_left'][i]=dfls['economy'][i]\n",
    "    if(pd.isnull(dfls.iloc[i,35])):\n",
    "        dfls['economy_right'][i]=dfls['economy'][i]\n",
    "        \n",
    "for i in range(dfrp.shape[0]):\n",
    "    if(pd.isnull(dfrp.iloc[i,34])):\n",
    "        dfrp['economy_left'][i]=dfrp['economy'][i]\n",
    "    if(pd.isnull(dfrp.iloc[i,35])):\n",
    "        dfrp['economy_right'][i]=dfrp['economy'][i]\n",
    "        \n",
    "for i in range(dfrs.shape[0]):\n",
    "    if(pd.isnull(dfrs.iloc[i,34])):\n",
    "        dfrs['economy_left'][i]=dfrs['economy'][i]\n",
    "    if(pd.isnull(dfrs.iloc[i,35])):\n",
    "        dfrs['economy_right'][i]=dfrs['economy'][i]"
   ]
  },
  {
   "cell_type": "code",
   "execution_count": 5,
   "id": "bc18eab2",
   "metadata": {},
   "outputs": [],
   "source": [
    "bowllp=[]\n",
    "for i in range(len(dflp)):\n",
    "    if(dflp['inning_number'][i]==2.0):\n",
    "        bowllp.append(dflp['Bowler'][i])\n",
    "    \n",
    "bowlls=[]\n",
    "for i in range(len(dfls)):\n",
    "    if(dfls['inning_number'][i]==2.0):\n",
    "        bowlls.append(dfls['Bowler'][i])\n",
    "\n",
    "bowlrp=[]\n",
    "for i in range(len(dfrp)):\n",
    "    if(dfrp['inning_number'][i]==2.0):\n",
    "        bowlrp.append(dfrp['Bowler'][i])\n",
    "\n",
    "bowlrs=[]\n",
    "for i in range(len(dfrs)):\n",
    "    if(dfrs['inning_number'][i]==2.0):\n",
    "        bowlrs.append(dfrs['Bowler'][i])"
   ]
  },
  {
   "cell_type": "markdown",
   "id": "c6163a36",
   "metadata": {},
   "source": [
    "## Analysis on the fours and sixes conceded by bowlers "
   ]
  },
  {
   "cell_type": "code",
   "execution_count": 6,
   "id": "c7880337",
   "metadata": {},
   "outputs": [],
   "source": [
    "ecolp=[]\n",
    "for i in range(len(dflp)):\n",
    "    if(dflp['inning_number'][i]==2.0):\n",
    "        ecolp.append(dflp['fours'][i]/dflp['total_deliveries'][i])\n",
    "ecols=[]\n",
    "for i in range(len(dfls)):\n",
    "    if(dfls['inning_number'][i]==2.0):\n",
    "        ecols.append(dfls['fours'][i]/dfls['total_deliveries'][i])\n",
    "ecorp=[]\n",
    "for i in range(len(dfrp)):\n",
    "    if(dfrp['inning_number'][i]==2.0):\n",
    "        ecorp.append(dfrp['fours'][i]/dfrp['total_deliveries'][i])\n",
    "        \n",
    "ecors=[]\n",
    "for i in range(len(dfrs)):\n",
    "    if(dfrs['inning_number'][i]==2.0):\n",
    "        ecors.append(dfrs['fours'][i]/dfrs['total_deliveries'][i])"
   ]
  },
  {
   "cell_type": "code",
   "execution_count": 7,
   "id": "d417f5a2",
   "metadata": {},
   "outputs": [],
   "source": [
    "def variance(data):\n",
    "    n=len(data)\n",
    "    mean=sum(data)/n;\n",
    "    dev=[(x-mean)**2 for x in data]\n",
    "    var=sum(dev)/n\n",
    "    return var\n",
    "\n",
    "def stddev(data):\n",
    "    n=len(data)\n",
    "    var=variance(data)\n",
    "    return math.sqrt(var)"
   ]
  },
  {
   "cell_type": "code",
   "execution_count": 8,
   "id": "6c8f3a48",
   "metadata": {},
   "outputs": [],
   "source": [
    "## fours per ball"
   ]
  },
  {
   "cell_type": "code",
   "execution_count": 9,
   "id": "00ee257a",
   "metadata": {},
   "outputs": [
    {
     "name": "stdout",
     "output_type": "stream",
     "text": [
      "The mean fours given by the bowlers of left pace are: 0.08078271067491408\n",
      "The variance of fours given by the bowlers of left pace are: 0.0018839626144688515\n",
      "The standard deviation of fours given by the bowlers of left pace are: 0.04340463816769875\n"
     ]
    }
   ],
   "source": [
    "#variance and standard deviation for left pace\n",
    "print(\"The mean fours given by the bowlers of left pace are:\",np.mean(ecolp))\n",
    "print(\"The variance of fours given by the bowlers of left pace are:\",variance(ecolp))\n",
    "print(\"The standard deviation of fours given by the bowlers of left pace are:\",stddev(ecolp))"
   ]
  },
  {
   "cell_type": "code",
   "execution_count": 10,
   "id": "ab691c62",
   "metadata": {},
   "outputs": [
    {
     "name": "stdout",
     "output_type": "stream",
     "text": [
      "The mean fours given by the bowlers of left spin are: 0.05933519687405245\n",
      "The variance fours given by the bowlers of left spin are: 0.0017626568815978887\n",
      "The standard deviation of fours given by the bowlers of left spin are: 0.04198400745043151\n"
     ]
    }
   ],
   "source": [
    "#variance and standard deviation for left spin\n",
    "print(\"The mean fours given by the bowlers of left spin are:\",np.mean(ecols))\n",
    "print(\"The variance fours given by the bowlers of left spin are:\",variance(ecols))\n",
    "print(\"The standard deviation of fours given by the bowlers of left spin are:\",stddev(ecols))"
   ]
  },
  {
   "cell_type": "code",
   "execution_count": 11,
   "id": "3184f216",
   "metadata": {},
   "outputs": [
    {
     "name": "stdout",
     "output_type": "stream",
     "text": [
      "The mean economy of fours given by bowlers of right pace are: 0.08813223721029485\n",
      "The variance of fours given by the bowlers of right pace are: 0.0027147880368925885\n",
      "The standard deviation of fours given by the bowlers of right pace are: 0.05210362786690183\n"
     ]
    }
   ],
   "source": [
    "#variance and standard deviation for right pace\n",
    "print(\"The mean economy of fours given by bowlers of right pace are:\",np.mean(ecorp))\n",
    "print(\"The variance of fours given by the bowlers of right pace are:\",variance(ecorp))\n",
    "print(\"The standard deviation of fours given by the bowlers of right pace are:\",stddev(ecorp))"
   ]
  },
  {
   "cell_type": "code",
   "execution_count": 12,
   "id": "90f2c004",
   "metadata": {},
   "outputs": [
    {
     "name": "stdout",
     "output_type": "stream",
     "text": [
      "The mean fours given by the bowlers of right spin are: 0.06920041755181967\n",
      "The variance of fours given by the bowlers of right spin are: 0.0029479794661982075\n",
      "The standard deviation of fours given by the bowlers of right spin are: 0.054295298748586025\n"
     ]
    }
   ],
   "source": [
    "#variance and standard deviation for right spin\n",
    "print(\"The mean fours given by the bowlers of right spin are:\",np.mean(ecors))\n",
    "print(\"The variance of fours given by the bowlers of right spin are:\",variance(ecors))\n",
    "print(\"The standard deviation of fours given by the bowlers of right spin are:\",stddev(ecors))"
   ]
  },
  {
   "cell_type": "code",
   "execution_count": 13,
   "id": "75354907",
   "metadata": {},
   "outputs": [
    {
     "name": "stdout",
     "output_type": "stream",
     "text": [
      "92\n",
      "139\n",
      "560\n",
      "320\n"
     ]
    }
   ],
   "source": [
    "print(len(ecolp))\n",
    "print(len(ecols))\n",
    "print(len(ecorp))\n",
    "print(len(ecors))"
   ]
  },
  {
   "cell_type": "code",
   "execution_count": 14,
   "id": "16565a30",
   "metadata": {},
   "outputs": [
    {
     "name": "stdout",
     "output_type": "stream",
     "text": [
      "Ttest_indResult(statistic=-2.1025940954775435, pvalue=0.036248791793894015)\n",
      "Ttest_indResult(statistic=-6.858502243874947, pvalue=5.2814696240607647e-11)\n",
      "Ttest_indResult(statistic=-3.7069072633871563, pvalue=0.00027509073469972377)\n"
     ]
    }
   ],
   "source": [
    "################ double tailed t-test #####################\n",
    "print(stats.ttest_ind(a=ecols, b=ecors, equal_var=False))\n",
    "print(stats.ttest_ind(a=ecols, b=ecorp, equal_var=False))\n",
    "print(stats.ttest_ind(a=ecols, b=ecolp, equal_var=False))\n",
    "################         end          #####################"
   ]
  },
  {
   "cell_type": "code",
   "execution_count": 15,
   "id": "fd3de449",
   "metadata": {},
   "outputs": [
    {
     "name": "stdout",
     "output_type": "stream",
     "text": [
      "Ttest_indResult(statistic=2.1025940954775435, pvalue=0.036248791793894015)\n",
      "Ttest_indResult(statistic=-5.042156613529415, pvalue=5.997714083584755e-07)\n",
      "Ttest_indResult(statistic=-2.1165970597380515, pvalue=0.03566732195542082)\n"
     ]
    }
   ],
   "source": [
    "################ double tailed t-test #####################\n",
    "print(stats.ttest_ind(a=ecors, b=ecols, equal_var=False))\n",
    "print(stats.ttest_ind(a=ecors, b=ecorp, equal_var=False))\n",
    "print(stats.ttest_ind(a=ecors, b=ecolp, equal_var=False))\n",
    "################         end          #####################"
   ]
  },
  {
   "cell_type": "code",
   "execution_count": 16,
   "id": "46131d9d",
   "metadata": {},
   "outputs": [],
   "source": [
    "ecolp=[]\n",
    "for i in range(len(dflp)):\n",
    "    if(dflp['inning_number'][i]==1.0):\n",
    "        ecolp.append(dflp['sixes'][i]/dflp['total_deliveries'][i])\n",
    "    else:\n",
    "        break\n",
    "ecols=[]\n",
    "for i in range(len(dfls)):\n",
    "    if(dfls['inning_number'][i]==1.0):\n",
    "        ecols.append(dfls['sixes'][i]/dfls['total_deliveries'][i])\n",
    "    else:\n",
    "        break\n",
    "ecorp=[]\n",
    "for i in range(len(dfrp)):\n",
    "    if(dfrp['inning_number'][i]==1.0):\n",
    "        ecorp.append(dfrp['sixes'][i]/dfrp['total_deliveries'][i])\n",
    "    else:\n",
    "        break\n",
    "        \n",
    "ecors=[]\n",
    "for i in range(len(dfrs)):\n",
    "    if(dfrs['inning_number'][i]==1.0):\n",
    "        ecors.append(dfrs['sixes'][i]/dfrs['total_deliveries'][i])\n",
    "    else:\n",
    "        break"
   ]
  },
  {
   "cell_type": "code",
   "execution_count": 17,
   "id": "183a1acb",
   "metadata": {},
   "outputs": [
    {
     "name": "stdout",
     "output_type": "stream",
     "text": [
      "The mean sixes given by the bowlers of left pace are: 0.015115595250006886\n",
      "The variance of sixes given by the bowlers of left pace are: 0.0009244968356624805\n",
      "The standard deviation of sixes given by the bowlers of left pace are: 0.030405539555523112\n"
     ]
    }
   ],
   "source": [
    "#variance and standard deviation for left pace\n",
    "print(\"The mean sixes given by the bowlers of left pace are:\",np.mean(ecolp))\n",
    "print(\"The variance of sixes given by the bowlers of left pace are:\",variance(ecolp))\n",
    "print(\"The standard deviation of sixes given by the bowlers of left pace are:\",stddev(ecolp))"
   ]
  },
  {
   "cell_type": "code",
   "execution_count": 18,
   "id": "0f3ff28a",
   "metadata": {},
   "outputs": [
    {
     "name": "stdout",
     "output_type": "stream",
     "text": [
      "The mean sixes given by the bowlers of left spin are: 0.013107545783728115\n",
      "The variance sixes given by the bowlers of left spin are: 0.0002172885428621766\n",
      "The standard deviation of sixes given by the bowlers of left spin are: 0.014740710392046124\n"
     ]
    }
   ],
   "source": [
    "#variance and standard deviation for left spin\n",
    "print(\"The mean sixes given by the bowlers of left spin are:\",np.mean(ecols))\n",
    "print(\"The variance sixes given by the bowlers of left spin are:\",variance(ecols))\n",
    "print(\"The standard deviation of sixes given by the bowlers of left spin are:\",stddev(ecols))"
   ]
  },
  {
   "cell_type": "code",
   "execution_count": 19,
   "id": "a971bd34",
   "metadata": {},
   "outputs": [
    {
     "name": "stdout",
     "output_type": "stream",
     "text": [
      "The mean economy of sixes given by bowlers of right pace are: 0.012634876409419257\n",
      "The variance of sixes given by the bowlers of right pace are: 0.0004648457627473526\n",
      "The standard deviation of sixes given by the bowlers of right pace are: 0.021560282065579583\n"
     ]
    }
   ],
   "source": [
    "print(\"The mean economy of sixes given by bowlers of right pace are:\",np.mean(ecorp))\n",
    "print(\"The variance of sixes given by the bowlers of right pace are:\",variance(ecorp))\n",
    "print(\"The standard deviation of sixes given by the bowlers of right pace are:\",stddev(ecorp))"
   ]
  },
  {
   "cell_type": "code",
   "execution_count": 20,
   "id": "748f1638",
   "metadata": {},
   "outputs": [
    {
     "name": "stdout",
     "output_type": "stream",
     "text": [
      "The mean sixes given by the bowlers of right spin are: 0.016113777701028946\n",
      "The variance of sixes given by the bowlers of right spin are: 0.0004220170142872355\n",
      "The standard deviation of sixes given by the bowlers of right spin are: 0.020543052701271918\n"
     ]
    }
   ],
   "source": [
    "#variance and standard deviation for right spin\n",
    "print(\"The mean sixes given by the bowlers of right spin are:\",np.mean(ecors))\n",
    "print(\"The variance of sixes given by the bowlers of right spin are:\",variance(ecors))\n",
    "print(\"The standard deviation of sixes given by the bowlers of right spin are:\",stddev(ecors))"
   ]
  },
  {
   "cell_type": "code",
   "execution_count": 21,
   "id": "0c8abc0b",
   "metadata": {},
   "outputs": [
    {
     "name": "stdout",
     "output_type": "stream",
     "text": [
      "Ttest_indResult(statistic=-1.776713589733621, pvalue=0.07640629906306255)\n",
      "Ttest_indResult(statistic=0.31264841614553635, pvalue=0.7547506451685035)\n",
      "Ttest_indResult(statistic=-0.5798207706878638, pvalue=0.5631864405178292)\n"
     ]
    }
   ],
   "source": [
    "################ double tailed t-test #####################\n",
    "print(stats.ttest_ind(a=ecols, b=ecors, equal_var=False))\n",
    "print(stats.ttest_ind(a=ecols, b=ecorp, equal_var=False))\n",
    "print(stats.ttest_ind(a=ecols, b=ecolp, equal_var=False))\n",
    "################         end          #####################"
   ]
  },
  {
   "cell_type": "code",
   "execution_count": 22,
   "id": "bc8678b7",
   "metadata": {},
   "outputs": [
    {
     "name": "stdout",
     "output_type": "stream",
     "text": [
      "89\n",
      "147\n",
      "584\n",
      "308\n"
     ]
    }
   ],
   "source": [
    "print(len(ecolp))\n",
    "print(len(ecols))\n",
    "print(len(ecorp))\n",
    "print(len(ecors))"
   ]
  },
  {
   "cell_type": "code",
   "execution_count": null,
   "id": "70b2c5c5-765c-4cbb-8721-6ab69ce2a4fe",
   "metadata": {},
   "outputs": [],
   "source": []
  }
 ],
 "metadata": {
  "kernelspec": {
   "display_name": "Python 3 (ipykernel)",
   "language": "python",
   "name": "python3"
  },
  "language_info": {
   "codemirror_mode": {
    "name": "ipython",
    "version": 3
   },
   "file_extension": ".py",
   "mimetype": "text/x-python",
   "name": "python",
   "nbconvert_exporter": "python",
   "pygments_lexer": "ipython3",
   "version": "3.9.12"
  }
 },
 "nbformat": 4,
 "nbformat_minor": 5
}
