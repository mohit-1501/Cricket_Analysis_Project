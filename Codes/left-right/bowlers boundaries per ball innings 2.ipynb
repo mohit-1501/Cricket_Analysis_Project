{
 "cells": [
  {
   "cell_type": "code",
   "execution_count": 14,
   "id": "4db36d36",
   "metadata": {},
   "outputs": [],
   "source": [
    "import pandas as pd\n",
    "import numpy as np\n",
    "import matplotlib.pyplot as plt \n",
    "import os\n",
    "import glob\n",
    "import shutil\n",
    "import seaborn as sns\n",
    "import math\n",
    "import scipy.stats as stats"
   ]
  },
  {
   "cell_type": "code",
   "execution_count": 15,
   "id": "719236b0",
   "metadata": {},
   "outputs": [],
   "source": [
    "dflp=pd.read_csv(r\"D:\\ime_project\\left-right\\file2_elaborated_bowlers_perspective\\leftpace_aggr.csv\")\n",
    "dfls=pd.read_csv(r\"D:\\ime_project\\left-right\\file2_elaborated_bowlers_perspective\\leftspin_aggr.csv\")\n",
    "dfrp=pd.read_csv(r\"D:\\ime_project\\left-right\\file2_elaborated_bowlers_perspective\\rightpace_aggr.csv\")\n",
    "dfrs=pd.read_csv(r\"D:\\ime_project\\left-right\\file2_elaborated_bowlers_perspective\\rightspin_aggr.csv\")"
   ]
  },
  {
   "cell_type": "code",
   "execution_count": 16,
   "id": "c988aaaa",
   "metadata": {},
   "outputs": [
    {
     "data": {
      "text/html": [
       "<div>\n",
       "<style scoped>\n",
       "    .dataframe tbody tr th:only-of-type {\n",
       "        vertical-align: middle;\n",
       "    }\n",
       "\n",
       "    .dataframe tbody tr th {\n",
       "        vertical-align: top;\n",
       "    }\n",
       "\n",
       "    .dataframe thead th {\n",
       "        text-align: right;\n",
       "    }\n",
       "</style>\n",
       "<table border=\"1\" class=\"dataframe\">\n",
       "  <thead>\n",
       "    <tr style=\"text-align: right;\">\n",
       "      <th></th>\n",
       "      <th>inning_number</th>\n",
       "      <th>Bowler</th>\n",
       "      <th>fours</th>\n",
       "      <th>sixes</th>\n",
       "      <th>Runs_Conceded</th>\n",
       "      <th>total_deliveries</th>\n",
       "      <th>runs_left</th>\n",
       "      <th>runs_right</th>\n",
       "      <th>delivery_left</th>\n",
       "      <th>delivery_right</th>\n",
       "      <th>...</th>\n",
       "      <th>bowled</th>\n",
       "      <th>caught</th>\n",
       "      <th>lbw</th>\n",
       "      <th>runout</th>\n",
       "      <th>stumped</th>\n",
       "      <th>economy</th>\n",
       "      <th>economy_left</th>\n",
       "      <th>economy_right</th>\n",
       "      <th>bowler_hand</th>\n",
       "      <th>bowler_type</th>\n",
       "    </tr>\n",
       "  </thead>\n",
       "  <tbody>\n",
       "    <tr>\n",
       "      <th>0</th>\n",
       "      <td>1.0</td>\n",
       "      <td>A Nehra</td>\n",
       "      <td>75.0</td>\n",
       "      <td>8.0</td>\n",
       "      <td>709.0</td>\n",
       "      <td>718.0</td>\n",
       "      <td>335.0</td>\n",
       "      <td>341.0</td>\n",
       "      <td>349.0</td>\n",
       "      <td>369.0</td>\n",
       "      <td>...</td>\n",
       "      <td>2.0</td>\n",
       "      <td>18.0</td>\n",
       "      <td>3.0</td>\n",
       "      <td>0.0</td>\n",
       "      <td>0.0</td>\n",
       "      <td>5.924791</td>\n",
       "      <td>5.759312</td>\n",
       "      <td>5.544715</td>\n",
       "      <td>left</td>\n",
       "      <td>pace</td>\n",
       "    </tr>\n",
       "    <tr>\n",
       "      <th>1</th>\n",
       "      <td>1.0</td>\n",
       "      <td>AJ McKay</td>\n",
       "      <td>13.0</td>\n",
       "      <td>0.0</td>\n",
       "      <td>121.0</td>\n",
       "      <td>173.0</td>\n",
       "      <td>53.0</td>\n",
       "      <td>52.0</td>\n",
       "      <td>96.0</td>\n",
       "      <td>77.0</td>\n",
       "      <td>...</td>\n",
       "      <td>2.0</td>\n",
       "      <td>5.0</td>\n",
       "      <td>0.0</td>\n",
       "      <td>0.0</td>\n",
       "      <td>0.0</td>\n",
       "      <td>4.196532</td>\n",
       "      <td>3.312500</td>\n",
       "      <td>4.051948</td>\n",
       "      <td>left</td>\n",
       "      <td>pace</td>\n",
       "    </tr>\n",
       "    <tr>\n",
       "      <th>2</th>\n",
       "      <td>1.0</td>\n",
       "      <td>AK Peters</td>\n",
       "      <td>0.0</td>\n",
       "      <td>0.0</td>\n",
       "      <td>4.0</td>\n",
       "      <td>6.0</td>\n",
       "      <td>1.0</td>\n",
       "      <td>3.0</td>\n",
       "      <td>2.0</td>\n",
       "      <td>4.0</td>\n",
       "      <td>...</td>\n",
       "      <td>0.0</td>\n",
       "      <td>0.0</td>\n",
       "      <td>0.0</td>\n",
       "      <td>0.0</td>\n",
       "      <td>0.0</td>\n",
       "      <td>4.000000</td>\n",
       "      <td>3.000000</td>\n",
       "      <td>4.500000</td>\n",
       "      <td>left</td>\n",
       "      <td>pace</td>\n",
       "    </tr>\n",
       "    <tr>\n",
       "      <th>3</th>\n",
       "      <td>1.0</td>\n",
       "      <td>AM Guruge</td>\n",
       "      <td>4.0</td>\n",
       "      <td>0.0</td>\n",
       "      <td>27.0</td>\n",
       "      <td>32.0</td>\n",
       "      <td>9.0</td>\n",
       "      <td>16.0</td>\n",
       "      <td>12.0</td>\n",
       "      <td>20.0</td>\n",
       "      <td>...</td>\n",
       "      <td>0.0</td>\n",
       "      <td>1.0</td>\n",
       "      <td>0.0</td>\n",
       "      <td>0.0</td>\n",
       "      <td>0.0</td>\n",
       "      <td>5.062500</td>\n",
       "      <td>4.500000</td>\n",
       "      <td>4.800000</td>\n",
       "      <td>left</td>\n",
       "      <td>pace</td>\n",
       "    </tr>\n",
       "    <tr>\n",
       "      <th>4</th>\n",
       "      <td>1.0</td>\n",
       "      <td>APC Kilowan</td>\n",
       "      <td>2.0</td>\n",
       "      <td>0.0</td>\n",
       "      <td>20.0</td>\n",
       "      <td>42.0</td>\n",
       "      <td>5.0</td>\n",
       "      <td>9.0</td>\n",
       "      <td>20.0</td>\n",
       "      <td>22.0</td>\n",
       "      <td>...</td>\n",
       "      <td>0.0</td>\n",
       "      <td>0.0</td>\n",
       "      <td>0.0</td>\n",
       "      <td>0.0</td>\n",
       "      <td>0.0</td>\n",
       "      <td>2.857143</td>\n",
       "      <td>1.500000</td>\n",
       "      <td>2.454545</td>\n",
       "      <td>left</td>\n",
       "      <td>pace</td>\n",
       "    </tr>\n",
       "    <tr>\n",
       "      <th>...</th>\n",
       "      <td>...</td>\n",
       "      <td>...</td>\n",
       "      <td>...</td>\n",
       "      <td>...</td>\n",
       "      <td>...</td>\n",
       "      <td>...</td>\n",
       "      <td>...</td>\n",
       "      <td>...</td>\n",
       "      <td>...</td>\n",
       "      <td>...</td>\n",
       "      <td>...</td>\n",
       "      <td>...</td>\n",
       "      <td>...</td>\n",
       "      <td>...</td>\n",
       "      <td>...</td>\n",
       "      <td>...</td>\n",
       "      <td>...</td>\n",
       "      <td>...</td>\n",
       "      <td>...</td>\n",
       "      <td>...</td>\n",
       "      <td>...</td>\n",
       "    </tr>\n",
       "    <tr>\n",
       "      <th>162</th>\n",
       "      <td>2.0</td>\n",
       "      <td>UWMBCA Welegedara</td>\n",
       "      <td>11.0</td>\n",
       "      <td>0.0</td>\n",
       "      <td>85.0</td>\n",
       "      <td>98.0</td>\n",
       "      <td>37.0</td>\n",
       "      <td>38.0</td>\n",
       "      <td>52.0</td>\n",
       "      <td>46.0</td>\n",
       "      <td>...</td>\n",
       "      <td>0.0</td>\n",
       "      <td>1.0</td>\n",
       "      <td>0.0</td>\n",
       "      <td>0.0</td>\n",
       "      <td>0.0</td>\n",
       "      <td>5.204082</td>\n",
       "      <td>4.269231</td>\n",
       "      <td>4.956522</td>\n",
       "      <td>left</td>\n",
       "      <td>pace</td>\n",
       "    </tr>\n",
       "    <tr>\n",
       "      <th>163</th>\n",
       "      <td>2.0</td>\n",
       "      <td>Usman Shinwari</td>\n",
       "      <td>10.0</td>\n",
       "      <td>6.0</td>\n",
       "      <td>124.0</td>\n",
       "      <td>124.0</td>\n",
       "      <td>60.0</td>\n",
       "      <td>61.0</td>\n",
       "      <td>63.0</td>\n",
       "      <td>61.0</td>\n",
       "      <td>...</td>\n",
       "      <td>1.0</td>\n",
       "      <td>3.0</td>\n",
       "      <td>0.0</td>\n",
       "      <td>0.0</td>\n",
       "      <td>0.0</td>\n",
       "      <td>6.000000</td>\n",
       "      <td>5.714286</td>\n",
       "      <td>6.000000</td>\n",
       "      <td>left</td>\n",
       "      <td>pace</td>\n",
       "    </tr>\n",
       "    <tr>\n",
       "      <th>164</th>\n",
       "      <td>2.0</td>\n",
       "      <td>WD Parnell</td>\n",
       "      <td>54.0</td>\n",
       "      <td>4.0</td>\n",
       "      <td>531.0</td>\n",
       "      <td>682.0</td>\n",
       "      <td>266.0</td>\n",
       "      <td>243.0</td>\n",
       "      <td>353.0</td>\n",
       "      <td>329.0</td>\n",
       "      <td>...</td>\n",
       "      <td>5.0</td>\n",
       "      <td>18.0</td>\n",
       "      <td>4.0</td>\n",
       "      <td>0.0</td>\n",
       "      <td>0.0</td>\n",
       "      <td>4.671554</td>\n",
       "      <td>4.521246</td>\n",
       "      <td>4.431611</td>\n",
       "      <td>left</td>\n",
       "      <td>pace</td>\n",
       "    </tr>\n",
       "    <tr>\n",
       "      <th>165</th>\n",
       "      <td>2.0</td>\n",
       "      <td>WPUJC Vaas</td>\n",
       "      <td>84.0</td>\n",
       "      <td>3.0</td>\n",
       "      <td>728.0</td>\n",
       "      <td>1177.0</td>\n",
       "      <td>325.0</td>\n",
       "      <td>385.0</td>\n",
       "      <td>578.0</td>\n",
       "      <td>599.0</td>\n",
       "      <td>...</td>\n",
       "      <td>6.0</td>\n",
       "      <td>15.0</td>\n",
       "      <td>4.0</td>\n",
       "      <td>0.0</td>\n",
       "      <td>0.0</td>\n",
       "      <td>3.711130</td>\n",
       "      <td>3.373702</td>\n",
       "      <td>3.856427</td>\n",
       "      <td>left</td>\n",
       "      <td>pace</td>\n",
       "    </tr>\n",
       "    <tr>\n",
       "      <th>166</th>\n",
       "      <td>2.0</td>\n",
       "      <td>Wahab Riaz</td>\n",
       "      <td>58.0</td>\n",
       "      <td>5.0</td>\n",
       "      <td>578.0</td>\n",
       "      <td>728.0</td>\n",
       "      <td>261.0</td>\n",
       "      <td>291.0</td>\n",
       "      <td>355.0</td>\n",
       "      <td>373.0</td>\n",
       "      <td>...</td>\n",
       "      <td>8.0</td>\n",
       "      <td>13.0</td>\n",
       "      <td>1.0</td>\n",
       "      <td>0.0</td>\n",
       "      <td>0.0</td>\n",
       "      <td>4.763736</td>\n",
       "      <td>4.411268</td>\n",
       "      <td>4.680965</td>\n",
       "      <td>left</td>\n",
       "      <td>pace</td>\n",
       "    </tr>\n",
       "  </tbody>\n",
       "</table>\n",
       "<p>167 rows × 40 columns</p>\n",
       "</div>"
      ],
      "text/plain": [
       "     inning_number             Bowler  fours  sixes  Runs_Conceded  \\\n",
       "0              1.0            A Nehra   75.0    8.0          709.0   \n",
       "1              1.0           AJ McKay   13.0    0.0          121.0   \n",
       "2              1.0          AK Peters    0.0    0.0            4.0   \n",
       "3              1.0          AM Guruge    4.0    0.0           27.0   \n",
       "4              1.0        APC Kilowan    2.0    0.0           20.0   \n",
       "..             ...                ...    ...    ...            ...   \n",
       "162            2.0  UWMBCA Welegedara   11.0    0.0           85.0   \n",
       "163            2.0     Usman Shinwari   10.0    6.0          124.0   \n",
       "164            2.0         WD Parnell   54.0    4.0          531.0   \n",
       "165            2.0         WPUJC Vaas   84.0    3.0          728.0   \n",
       "166            2.0         Wahab Riaz   58.0    5.0          578.0   \n",
       "\n",
       "     total_deliveries  runs_left  runs_right  delivery_left  delivery_right  \\\n",
       "0               718.0      335.0       341.0          349.0           369.0   \n",
       "1               173.0       53.0        52.0           96.0            77.0   \n",
       "2                 6.0        1.0         3.0            2.0             4.0   \n",
       "3                32.0        9.0        16.0           12.0            20.0   \n",
       "4                42.0        5.0         9.0           20.0            22.0   \n",
       "..                ...        ...         ...            ...             ...   \n",
       "162              98.0       37.0        38.0           52.0            46.0   \n",
       "163             124.0       60.0        61.0           63.0            61.0   \n",
       "164             682.0      266.0       243.0          353.0           329.0   \n",
       "165            1177.0      325.0       385.0          578.0           599.0   \n",
       "166             728.0      261.0       291.0          355.0           373.0   \n",
       "\n",
       "     ...  bowled  caught  lbw  runout  stumped   economy  economy_left  \\\n",
       "0    ...     2.0    18.0  3.0     0.0      0.0  5.924791      5.759312   \n",
       "1    ...     2.0     5.0  0.0     0.0      0.0  4.196532      3.312500   \n",
       "2    ...     0.0     0.0  0.0     0.0      0.0  4.000000      3.000000   \n",
       "3    ...     0.0     1.0  0.0     0.0      0.0  5.062500      4.500000   \n",
       "4    ...     0.0     0.0  0.0     0.0      0.0  2.857143      1.500000   \n",
       "..   ...     ...     ...  ...     ...      ...       ...           ...   \n",
       "162  ...     0.0     1.0  0.0     0.0      0.0  5.204082      4.269231   \n",
       "163  ...     1.0     3.0  0.0     0.0      0.0  6.000000      5.714286   \n",
       "164  ...     5.0    18.0  4.0     0.0      0.0  4.671554      4.521246   \n",
       "165  ...     6.0    15.0  4.0     0.0      0.0  3.711130      3.373702   \n",
       "166  ...     8.0    13.0  1.0     0.0      0.0  4.763736      4.411268   \n",
       "\n",
       "     economy_right  bowler_hand  bowler_type  \n",
       "0         5.544715         left         pace  \n",
       "1         4.051948         left         pace  \n",
       "2         4.500000         left         pace  \n",
       "3         4.800000         left         pace  \n",
       "4         2.454545         left         pace  \n",
       "..             ...          ...          ...  \n",
       "162       4.956522         left         pace  \n",
       "163       6.000000         left         pace  \n",
       "164       4.431611         left         pace  \n",
       "165       3.856427         left         pace  \n",
       "166       4.680965         left         pace  \n",
       "\n",
       "[167 rows x 40 columns]"
      ]
     },
     "execution_count": 16,
     "metadata": {},
     "output_type": "execute_result"
    }
   ],
   "source": [
    "dflp"
   ]
  },
  {
   "cell_type": "code",
   "execution_count": 17,
   "id": "aa94a87f",
   "metadata": {},
   "outputs": [],
   "source": [
    "for i in range(dflp.shape[0]):\n",
    "    if(pd.isnull(dflp.iloc[i,34])):\n",
    "        dflp['economy_left'][i]=dflp['economy'][i]\n",
    "    if(pd.isnull(dflp.iloc[i,35])):\n",
    "        dflp['economy_right'][i]=dflp['economy'][i]\n",
    "        \n",
    "for i in range(dfls.shape[0]):\n",
    "    if(pd.isnull(dfls.iloc[i,34])):\n",
    "        dfls['economy_left'][i]=dfls['economy'][i]\n",
    "    if(pd.isnull(dfls.iloc[i,35])):\n",
    "        dfls['economy_right'][i]=dfls['economy'][i]\n",
    "        \n",
    "for i in range(dfrp.shape[0]):\n",
    "    if(pd.isnull(dfrp.iloc[i,34])):\n",
    "        dfrp['economy_left'][i]=dfrp['economy'][i]\n",
    "    if(pd.isnull(dfrp.iloc[i,35])):\n",
    "        dfrp['economy_right'][i]=dfrp['economy'][i]\n",
    "        \n",
    "for i in range(dfrs.shape[0]):\n",
    "    if(pd.isnull(dfrs.iloc[i,34])):\n",
    "        dfrs['economy_left'][i]=dfrs['economy'][i]\n",
    "    if(pd.isnull(dfrs.iloc[i,35])):\n",
    "        dfrs['economy_right'][i]=dfrs['economy'][i]"
   ]
  },
  {
   "cell_type": "code",
   "execution_count": 18,
   "id": "bc18eab2",
   "metadata": {},
   "outputs": [],
   "source": [
    "bowllp=[]\n",
    "for i in range(len(dflp)):\n",
    "    if(dflp['inning_number'][i]==2.0):\n",
    "        bowllp.append(dflp['Bowler'][i])\n",
    "    \n",
    "bowlls=[]\n",
    "for i in range(len(dfls)):\n",
    "    if(dfls['inning_number'][i]==2.0):\n",
    "        bowlls.append(dfls['Bowler'][i])\n",
    "\n",
    "bowlrp=[]\n",
    "for i in range(len(dfrp)):\n",
    "    if(dfrp['inning_number'][i]==2.0):\n",
    "        bowlrp.append(dfrp['Bowler'][i])\n",
    "\n",
    "bowlrs=[]\n",
    "for i in range(len(dfrs)):\n",
    "    if(dfrs['inning_number'][i]==2.0):\n",
    "        bowlrs.append(dfrs['Bowler'][i])"
   ]
  },
  {
   "cell_type": "markdown",
   "id": "c6163a36",
   "metadata": {},
   "source": [
    "## Analysis on the fours and sixes conceded by bowlers "
   ]
  },
  {
   "cell_type": "code",
   "execution_count": 19,
   "id": "c7880337",
   "metadata": {},
   "outputs": [],
   "source": [
    "ecolp=[]\n",
    "for i in range(len(dflp)):\n",
    "    if(dflp['inning_number'][i]==2.0):\n",
    "        ecolp.append(dflp['fours'][i]/dflp['total_deliveries'][i])\n",
    "ecols=[]\n",
    "for i in range(len(dfls)):\n",
    "    if(dfls['inning_number'][i]==2.0):\n",
    "        ecols.append(dfls['fours'][i]/dfls['total_deliveries'][i])\n",
    "ecorp=[]\n",
    "for i in range(len(dfrp)):\n",
    "    if(dfrp['inning_number'][i]==2.0):\n",
    "        ecorp.append(dfrp['fours'][i]/dfrp['total_deliveries'][i])\n",
    "        \n",
    "ecors=[]\n",
    "for i in range(len(dfrs)):\n",
    "    if(dfrs['inning_number'][i]==2.0):\n",
    "        ecors.append(dfrs['fours'][i]/dfrs['total_deliveries'][i])"
   ]
  },
  {
   "cell_type": "code",
   "execution_count": 20,
   "id": "d417f5a2",
   "metadata": {},
   "outputs": [],
   "source": [
    "def variance(data):\n",
    "    n=len(data)\n",
    "    mean=sum(data)/n;\n",
    "    dev=[(x-mean)**2 for x in data]\n",
    "    var=sum(dev)/n\n",
    "    return var\n",
    "\n",
    "def stddev(data):\n",
    "    n=len(data)\n",
    "    var=variance(data)\n",
    "    return math.sqrt(var)"
   ]
  },
  {
   "cell_type": "code",
   "execution_count": 21,
   "id": "6c8f3a48",
   "metadata": {},
   "outputs": [],
   "source": [
    "## fours per ball"
   ]
  },
  {
   "cell_type": "code",
   "execution_count": 22,
   "id": "00ee257a",
   "metadata": {},
   "outputs": [
    {
     "name": "stdout",
     "output_type": "stream",
     "text": [
      "The mean fours given by the bowlers of left pace are: 0.08978881683344148\n",
      "The variance of fours given by the bowlers of left pace are: 0.0032210637689955653\n",
      "The standard deviation of fours given by the bowlers of left pace are: 0.05675441629508285\n"
     ]
    }
   ],
   "source": [
    "#variance and standard deviation for left pace\n",
    "print(\"The mean fours given by the bowlers of left pace are:\",np.mean(ecolp))\n",
    "print(\"The variance of fours given by the bowlers of left pace are:\",variance(ecolp))\n",
    "print(\"The standard deviation of fours given by the bowlers of left pace are:\",stddev(ecolp))"
   ]
  },
  {
   "cell_type": "code",
   "execution_count": 23,
   "id": "ab691c62",
   "metadata": {},
   "outputs": [
    {
     "name": "stdout",
     "output_type": "stream",
     "text": [
      "The mean fours given by the bowlers of left spin are: 0.06411394672586826\n",
      "The variance fours given by the bowlers of left spin are: 0.001861040978773128\n",
      "The standard deviation of fours given by the bowlers of left spin are: 0.043139784176246504\n"
     ]
    }
   ],
   "source": [
    "#variance and standard deviation for left spin\n",
    "print(\"The mean fours given by the bowlers of left spin are:\",np.mean(ecols))\n",
    "print(\"The variance fours given by the bowlers of left spin are:\",variance(ecols))\n",
    "print(\"The standard deviation of fours given by the bowlers of left spin are:\",stddev(ecols))"
   ]
  },
  {
   "cell_type": "code",
   "execution_count": 24,
   "id": "3184f216",
   "metadata": {},
   "outputs": [
    {
     "name": "stdout",
     "output_type": "stream",
     "text": [
      "The mean economy of fours given by bowlers of right pace are: 0.09491296091542538\n",
      "The variance of fours given by the bowlers of right pace are: 0.0036687255366062823\n",
      "The standard deviation of fours given by the bowlers of right pace are: 0.0605700052551284\n"
     ]
    }
   ],
   "source": [
    "#variance and standard deviation for right pace\n",
    "print(\"The mean economy of fours given by bowlers of right pace are:\",np.mean(ecorp))\n",
    "print(\"The variance of fours given by the bowlers of right pace are:\",variance(ecorp))\n",
    "print(\"The standard deviation of fours given by the bowlers of right pace are:\",stddev(ecorp))"
   ]
  },
  {
   "cell_type": "code",
   "execution_count": 25,
   "id": "90f2c004",
   "metadata": {},
   "outputs": [
    {
     "name": "stdout",
     "output_type": "stream",
     "text": [
      "The mean fours given by the bowlers of right spin are: 0.0655303911309715\n",
      "The variance of fours given by the bowlers of right spin are: 0.0037303758738337443\n",
      "The standard deviation of fours given by the bowlers of right spin are: 0.06107680307476599\n"
     ]
    }
   ],
   "source": [
    "#variance and standard deviation for right spin\n",
    "print(\"The mean fours given by the bowlers of right spin are:\",np.mean(ecors))\n",
    "print(\"The variance of fours given by the bowlers of right spin are:\",variance(ecors))\n",
    "print(\"The standard deviation of fours given by the bowlers of right spin are:\",stddev(ecors))"
   ]
  },
  {
   "cell_type": "code",
   "execution_count": 26,
   "id": "75354907",
   "metadata": {},
   "outputs": [
    {
     "name": "stdout",
     "output_type": "stream",
     "text": [
      "83\n",
      "126\n",
      "527\n",
      "289\n"
     ]
    }
   ],
   "source": [
    "print(len(ecolp))\n",
    "print(len(ecols))\n",
    "print(len(ecorp))\n",
    "print(len(ecors))"
   ]
  },
  {
   "cell_type": "code",
   "execution_count": 27,
   "id": "16565a30",
   "metadata": {},
   "outputs": [
    {
     "name": "stdout",
     "output_type": "stream",
     "text": [
      "Ttest_indResult(statistic=-0.2684460066243918, pvalue=0.7885242629296256)\n",
      "Ttest_indResult(statistic=-6.586899430056645, pvalue=2.533726072954018e-10)\n",
      "Ttest_indResult(statistic=-3.4884336540786527, pvalue=0.0006466047070616851)\n"
     ]
    }
   ],
   "source": [
    "################ double tailed t-test #####################\n",
    "print(stats.ttest_ind(a=ecols, b=ecors, equal_var=False))\n",
    "print(stats.ttest_ind(a=ecols, b=ecorp, equal_var=False))\n",
    "print(stats.ttest_ind(a=ecols, b=ecolp, equal_var=False))\n",
    "################         end          #####################"
   ]
  },
  {
   "cell_type": "code",
   "execution_count": 28,
   "id": "6f11f242-0547-4c65-acfe-16e8be58c19a",
   "metadata": {},
   "outputs": [
    {
     "name": "stdout",
     "output_type": "stream",
     "text": [
      "Ttest_indResult(statistic=0.2684460066243918, pvalue=0.7885242629296256)\n",
      "Ttest_indResult(statistic=-6.582090234271182, pvalue=1.0279580216973952e-10)\n",
      "Ttest_indResult(statistic=-3.3564960400449144, pvalue=0.0010153572024015004)\n"
     ]
    }
   ],
   "source": [
    "################ double tailed t-test #####################\n",
    "print(stats.ttest_ind(a=ecors, b=ecols, equal_var=False))\n",
    "print(stats.ttest_ind(a=ecors, b=ecorp, equal_var=False))\n",
    "print(stats.ttest_ind(a=ecors, b=ecolp, equal_var=False))\n",
    "################         end          #####################"
   ]
  },
  {
   "cell_type": "code",
   "execution_count": 29,
   "id": "46131d9d",
   "metadata": {},
   "outputs": [],
   "source": [
    "ecolp=[]\n",
    "for i in range(len(dflp)):\n",
    "    if(dflp['inning_number'][i]==1.0):\n",
    "        ecolp.append(dflp['sixes'][i]/dflp['total_deliveries'][i])\n",
    "    else:\n",
    "        break\n",
    "ecols=[]\n",
    "for i in range(len(dfls)):\n",
    "    if(dfls['inning_number'][i]==1.0):\n",
    "        ecols.append(dfls['sixes'][i]/dfls['total_deliveries'][i])\n",
    "    else:\n",
    "        break\n",
    "ecorp=[]\n",
    "for i in range(len(dfrp)):\n",
    "    if(dfrp['inning_number'][i]==1.0):\n",
    "        ecorp.append(dfrp['sixes'][i]/dfrp['total_deliveries'][i])\n",
    "    else:\n",
    "        break\n",
    "        \n",
    "ecors=[]\n",
    "for i in range(len(dfrs)):\n",
    "    if(dfrs['inning_number'][i]==1.0):\n",
    "        ecors.append(dfrs['sixes'][i]/dfrs['total_deliveries'][i])\n",
    "    else:\n",
    "        break"
   ]
  },
  {
   "cell_type": "code",
   "execution_count": 30,
   "id": "183a1acb",
   "metadata": {},
   "outputs": [
    {
     "name": "stdout",
     "output_type": "stream",
     "text": [
      "The mean sixes given by the bowlers of left pace are: 0.014351874502434605\n",
      "The variance of sixes given by the bowlers of left pace are: 0.0007261042169327934\n",
      "The standard deviation of sixes given by the bowlers of left pace are: 0.02694632102779141\n"
     ]
    }
   ],
   "source": [
    "#variance and standard deviation for left pace\n",
    "print(\"The mean sixes given by the bowlers of left pace are:\",np.mean(ecolp))\n",
    "print(\"The variance of sixes given by the bowlers of left pace are:\",variance(ecolp))\n",
    "print(\"The standard deviation of sixes given by the bowlers of left pace are:\",stddev(ecolp))"
   ]
  },
  {
   "cell_type": "code",
   "execution_count": 31,
   "id": "0f3ff28a",
   "metadata": {},
   "outputs": [
    {
     "name": "stdout",
     "output_type": "stream",
     "text": [
      "The mean sixes given by the bowlers of left spin are: 0.013169210707477836\n",
      "The variance sixes given by the bowlers of left spin are: 0.0002542192271140844\n",
      "The standard deviation of sixes given by the bowlers of left spin are: 0.015944253733370037\n"
     ]
    }
   ],
   "source": [
    "#variance and standard deviation for left spin\n",
    "print(\"The mean sixes given by the bowlers of left spin are:\",np.mean(ecols))\n",
    "print(\"The variance sixes given by the bowlers of left spin are:\",variance(ecols))\n",
    "print(\"The standard deviation of sixes given by the bowlers of left spin are:\",stddev(ecols))"
   ]
  },
  {
   "cell_type": "code",
   "execution_count": 32,
   "id": "a971bd34",
   "metadata": {},
   "outputs": [
    {
     "name": "stdout",
     "output_type": "stream",
     "text": [
      "The mean economy of sixes given by bowlers of right pace are: 0.013790039504297216\n",
      "The variance of sixes given by the bowlers of right pace are: 0.000543623311470895\n",
      "The standard deviation of sixes given by the bowlers of right pace are: 0.02331573098727327\n"
     ]
    }
   ],
   "source": [
    "print(\"The mean economy of sixes given by bowlers of right pace are:\",np.mean(ecorp))\n",
    "print(\"The variance of sixes given by the bowlers of right pace are:\",variance(ecorp))\n",
    "print(\"The standard deviation of sixes given by the bowlers of right pace are:\",stddev(ecorp))"
   ]
  },
  {
   "cell_type": "code",
   "execution_count": 33,
   "id": "748f1638",
   "metadata": {},
   "outputs": [
    {
     "name": "stdout",
     "output_type": "stream",
     "text": [
      "The mean sixes given by the bowlers of right spin are: 0.014257325968267759\n",
      "The variance of sixes given by the bowlers of right spin are: 0.0004340609955317494\n",
      "The standard deviation of sixes given by the bowlers of right spin are: 0.02083413054417557\n"
     ]
    }
   ],
   "source": [
    "#variance and standard deviation for right spin\n",
    "print(\"The mean sixes given by the bowlers of right spin are:\",np.mean(ecors))\n",
    "print(\"The variance of sixes given by the bowlers of right spin are:\",variance(ecors))\n",
    "print(\"The standard deviation of sixes given by the bowlers of right spin are:\",stddev(ecors))"
   ]
  },
  {
   "cell_type": "code",
   "execution_count": 34,
   "id": "0c8abc0b",
   "metadata": {},
   "outputs": [
    {
     "name": "stdout",
     "output_type": "stream",
     "text": [
      "Ttest_indResult(statistic=-0.5906416532231044, pvalue=0.5551611208334792)\n",
      "Ttest_indResult(statistic=-0.3651311719488023, pvalue=0.7152782152086197)\n",
      "Ttest_indResult(statistic=-0.3624768449297801, pvalue=0.7176364046123297)\n"
     ]
    }
   ],
   "source": [
    "################ double tailed t-test #####################\n",
    "print(stats.ttest_ind(a=ecols, b=ecors, equal_var=False))\n",
    "print(stats.ttest_ind(a=ecols, b=ecorp, equal_var=False))\n",
    "print(stats.ttest_ind(a=ecols, b=ecolp, equal_var=False))\n",
    "################         end          #####################"
   ]
  },
  {
   "cell_type": "code",
   "execution_count": 35,
   "id": "bc8678b7",
   "metadata": {},
   "outputs": [
    {
     "name": "stdout",
     "output_type": "stream",
     "text": [
      "84\n",
      "135\n",
      "548\n",
      "291\n"
     ]
    }
   ],
   "source": [
    "print(len(ecolp))\n",
    "print(len(ecols))\n",
    "print(len(ecorp))\n",
    "print(len(ecors))"
   ]
  }
 ],
 "metadata": {
  "kernelspec": {
   "display_name": "Python 3 (ipykernel)",
   "language": "python",
   "name": "python3"
  },
  "language_info": {
   "codemirror_mode": {
    "name": "ipython",
    "version": 3
   },
   "file_extension": ".py",
   "mimetype": "text/x-python",
   "name": "python",
   "nbconvert_exporter": "python",
   "pygments_lexer": "ipython3",
   "version": "3.9.12"
  }
 },
 "nbformat": 4,
 "nbformat_minor": 5
}
