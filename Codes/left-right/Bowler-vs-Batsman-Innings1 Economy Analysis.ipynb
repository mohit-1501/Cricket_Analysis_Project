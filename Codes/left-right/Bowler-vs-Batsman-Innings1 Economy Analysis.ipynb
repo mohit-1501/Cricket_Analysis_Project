{
 "cells": [
  {
   "cell_type": "markdown",
   "id": "f52ea3bc",
   "metadata": {},
   "source": [
    "# Importing the necessary libraries and data"
   ]
  },
  {
   "cell_type": "code",
   "execution_count": 1,
   "id": "cdfdb01a",
   "metadata": {},
   "outputs": [],
   "source": [
    "import pandas as pd\n",
    "import numpy as np\n",
    "import matplotlib.pyplot as plt \n",
    "import os\n",
    "import glob\n",
    "import shutil\n",
    "import seaborn as sns\n",
    "import math\n",
    "import scipy.stats as stats"
   ]
  },
  {
   "cell_type": "code",
   "execution_count": 2,
   "id": "2008568c",
   "metadata": {},
   "outputs": [],
   "source": [
    "dflp=pd.read_csv(r\"C:\\ime_project\\left-right\\file2_elaborated_bowlers_perspective\\leftpace_aggr.csv\")\n",
    "dfls=pd.read_csv(r\"C:\\ime_project\\left-right\\file2_elaborated_bowlers_perspective\\leftspin_aggr.csv\")\n",
    "dfrp=pd.read_csv(r\"C:\\ime_project\\left-right\\file2_elaborated_bowlers_perspective\\rightpace_aggr.csv\")\n",
    "dfrs=pd.read_csv(r\"C:\\ime_project\\left-right\\file2_elaborated_bowlers_perspective\\rightspin_aggr.csv\")"
   ]
  },
  {
   "cell_type": "code",
   "execution_count": 3,
   "id": "16f27b32",
   "metadata": {},
   "outputs": [
    {
     "data": {
      "text/html": [
       "<div>\n",
       "<style scoped>\n",
       "    .dataframe tbody tr th:only-of-type {\n",
       "        vertical-align: middle;\n",
       "    }\n",
       "\n",
       "    .dataframe tbody tr th {\n",
       "        vertical-align: top;\n",
       "    }\n",
       "\n",
       "    .dataframe thead th {\n",
       "        text-align: right;\n",
       "    }\n",
       "</style>\n",
       "<table border=\"1\" class=\"dataframe\">\n",
       "  <thead>\n",
       "    <tr style=\"text-align: right;\">\n",
       "      <th></th>\n",
       "      <th>inning_number</th>\n",
       "      <th>Bowler</th>\n",
       "      <th>Runs_Conceded</th>\n",
       "      <th>total_deliveries</th>\n",
       "      <th>runs_left</th>\n",
       "      <th>runs_right</th>\n",
       "      <th>delivery_left</th>\n",
       "      <th>delivery_right</th>\n",
       "      <th>wickets_taken</th>\n",
       "      <th>wickets_left</th>\n",
       "      <th>...</th>\n",
       "      <th>bowled</th>\n",
       "      <th>caught</th>\n",
       "      <th>lbw</th>\n",
       "      <th>runout</th>\n",
       "      <th>stumped</th>\n",
       "      <th>economy</th>\n",
       "      <th>economy_left</th>\n",
       "      <th>economy_right</th>\n",
       "      <th>bowler_hand</th>\n",
       "      <th>bowler_type</th>\n",
       "    </tr>\n",
       "  </thead>\n",
       "  <tbody>\n",
       "    <tr>\n",
       "      <th>0</th>\n",
       "      <td>1.0</td>\n",
       "      <td>A Nehra</td>\n",
       "      <td>709.0</td>\n",
       "      <td>718.0</td>\n",
       "      <td>335.0</td>\n",
       "      <td>341.0</td>\n",
       "      <td>349.0</td>\n",
       "      <td>369.0</td>\n",
       "      <td>28.0</td>\n",
       "      <td>19.0</td>\n",
       "      <td>...</td>\n",
       "      <td>2.0</td>\n",
       "      <td>18.0</td>\n",
       "      <td>3.0</td>\n",
       "      <td>0.0</td>\n",
       "      <td>0.0</td>\n",
       "      <td>5.924791</td>\n",
       "      <td>5.759312</td>\n",
       "      <td>5.544715</td>\n",
       "      <td>left</td>\n",
       "      <td>pace</td>\n",
       "    </tr>\n",
       "    <tr>\n",
       "      <th>1</th>\n",
       "      <td>1.0</td>\n",
       "      <td>AJ McKay</td>\n",
       "      <td>121.0</td>\n",
       "      <td>173.0</td>\n",
       "      <td>53.0</td>\n",
       "      <td>52.0</td>\n",
       "      <td>96.0</td>\n",
       "      <td>77.0</td>\n",
       "      <td>7.0</td>\n",
       "      <td>5.0</td>\n",
       "      <td>...</td>\n",
       "      <td>2.0</td>\n",
       "      <td>5.0</td>\n",
       "      <td>0.0</td>\n",
       "      <td>0.0</td>\n",
       "      <td>0.0</td>\n",
       "      <td>4.196532</td>\n",
       "      <td>3.312500</td>\n",
       "      <td>4.051948</td>\n",
       "      <td>left</td>\n",
       "      <td>pace</td>\n",
       "    </tr>\n",
       "    <tr>\n",
       "      <th>2</th>\n",
       "      <td>1.0</td>\n",
       "      <td>AK Peters</td>\n",
       "      <td>4.0</td>\n",
       "      <td>6.0</td>\n",
       "      <td>1.0</td>\n",
       "      <td>3.0</td>\n",
       "      <td>2.0</td>\n",
       "      <td>4.0</td>\n",
       "      <td>0.0</td>\n",
       "      <td>0.0</td>\n",
       "      <td>...</td>\n",
       "      <td>0.0</td>\n",
       "      <td>0.0</td>\n",
       "      <td>0.0</td>\n",
       "      <td>0.0</td>\n",
       "      <td>0.0</td>\n",
       "      <td>4.000000</td>\n",
       "      <td>3.000000</td>\n",
       "      <td>4.500000</td>\n",
       "      <td>left</td>\n",
       "      <td>pace</td>\n",
       "    </tr>\n",
       "    <tr>\n",
       "      <th>3</th>\n",
       "      <td>1.0</td>\n",
       "      <td>AM Guruge</td>\n",
       "      <td>27.0</td>\n",
       "      <td>32.0</td>\n",
       "      <td>9.0</td>\n",
       "      <td>16.0</td>\n",
       "      <td>12.0</td>\n",
       "      <td>20.0</td>\n",
       "      <td>1.0</td>\n",
       "      <td>1.0</td>\n",
       "      <td>...</td>\n",
       "      <td>0.0</td>\n",
       "      <td>1.0</td>\n",
       "      <td>0.0</td>\n",
       "      <td>0.0</td>\n",
       "      <td>0.0</td>\n",
       "      <td>5.062500</td>\n",
       "      <td>4.500000</td>\n",
       "      <td>4.800000</td>\n",
       "      <td>left</td>\n",
       "      <td>pace</td>\n",
       "    </tr>\n",
       "    <tr>\n",
       "      <th>4</th>\n",
       "      <td>1.0</td>\n",
       "      <td>APC Kilowan</td>\n",
       "      <td>20.0</td>\n",
       "      <td>42.0</td>\n",
       "      <td>5.0</td>\n",
       "      <td>9.0</td>\n",
       "      <td>20.0</td>\n",
       "      <td>22.0</td>\n",
       "      <td>0.0</td>\n",
       "      <td>0.0</td>\n",
       "      <td>...</td>\n",
       "      <td>0.0</td>\n",
       "      <td>0.0</td>\n",
       "      <td>0.0</td>\n",
       "      <td>0.0</td>\n",
       "      <td>0.0</td>\n",
       "      <td>2.857143</td>\n",
       "      <td>1.500000</td>\n",
       "      <td>2.454545</td>\n",
       "      <td>left</td>\n",
       "      <td>pace</td>\n",
       "    </tr>\n",
       "  </tbody>\n",
       "</table>\n",
       "<p>5 rows × 38 columns</p>\n",
       "</div>"
      ],
      "text/plain": [
       "   inning_number       Bowler  Runs_Conceded  total_deliveries  runs_left  \\\n",
       "0            1.0      A Nehra          709.0             718.0      335.0   \n",
       "1            1.0     AJ McKay          121.0             173.0       53.0   \n",
       "2            1.0    AK Peters            4.0               6.0        1.0   \n",
       "3            1.0    AM Guruge           27.0              32.0        9.0   \n",
       "4            1.0  APC Kilowan           20.0              42.0        5.0   \n",
       "\n",
       "   runs_right  delivery_left  delivery_right  wickets_taken  wickets_left  \\\n",
       "0       341.0          349.0           369.0           28.0          19.0   \n",
       "1        52.0           96.0            77.0            7.0           5.0   \n",
       "2         3.0            2.0             4.0            0.0           0.0   \n",
       "3        16.0           12.0            20.0            1.0           1.0   \n",
       "4         9.0           20.0            22.0            0.0           0.0   \n",
       "\n",
       "   ...  bowled  caught  lbw  runout  stumped   economy  economy_left  \\\n",
       "0  ...     2.0    18.0  3.0     0.0      0.0  5.924791      5.759312   \n",
       "1  ...     2.0     5.0  0.0     0.0      0.0  4.196532      3.312500   \n",
       "2  ...     0.0     0.0  0.0     0.0      0.0  4.000000      3.000000   \n",
       "3  ...     0.0     1.0  0.0     0.0      0.0  5.062500      4.500000   \n",
       "4  ...     0.0     0.0  0.0     0.0      0.0  2.857143      1.500000   \n",
       "\n",
       "   economy_right  bowler_hand  bowler_type  \n",
       "0       5.544715         left         pace  \n",
       "1       4.051948         left         pace  \n",
       "2       4.500000         left         pace  \n",
       "3       4.800000         left         pace  \n",
       "4       2.454545         left         pace  \n",
       "\n",
       "[5 rows x 38 columns]"
      ]
     },
     "execution_count": 3,
     "metadata": {},
     "output_type": "execute_result"
    }
   ],
   "source": [
    "dflp.head()"
   ]
  },
  {
   "cell_type": "code",
   "execution_count": 4,
   "id": "8856b153",
   "metadata": {},
   "outputs": [
    {
     "name": "stdout",
     "output_type": "stream",
     "text": [
      "inning_number       0\n",
      "Bowler              0\n",
      "Runs_Conceded       0\n",
      "total_deliveries    0\n",
      "runs_left           0\n",
      "runs_right          0\n",
      "delivery_left       0\n",
      "delivery_right      0\n",
      "wickets_taken       0\n",
      "wickets_left        0\n",
      "wickets_right       0\n",
      "wide                0\n",
      "no_ball             0\n",
      "leg_byes            0\n",
      "byes                0\n",
      "match_number        0\n",
      "P1_balls            0\n",
      "P2_balls            0\n",
      "P3_balls            0\n",
      "P1_Runs_Left        0\n",
      "P2_Runs_Left        0\n",
      "P3_Runs_Left        0\n",
      "P1_Runs_Right       0\n",
      "P2_Runs_Right       0\n",
      "P3_Runs_Right       0\n",
      "P1_Runs             0\n",
      "P2_Runs             0\n",
      "P3_Runs             0\n",
      "bowled              0\n",
      "caught              0\n",
      "lbw                 0\n",
      "runout              0\n",
      "stumped             0\n",
      "economy             0\n",
      "economy_left        0\n",
      "economy_right       1\n",
      "bowler_hand         0\n",
      "bowler_type         0\n",
      "dtype: int64\n"
     ]
    }
   ],
   "source": [
    "print(dflp.isna().sum())"
   ]
  },
  {
   "cell_type": "code",
   "execution_count": 5,
   "id": "f7bf6cf5",
   "metadata": {},
   "outputs": [
    {
     "name": "stdout",
     "output_type": "stream",
     "text": [
      "inning_number       0\n",
      "Bowler              0\n",
      "Runs_Conceded       0\n",
      "total_deliveries    0\n",
      "runs_left           0\n",
      "runs_right          0\n",
      "delivery_left       0\n",
      "delivery_right      0\n",
      "wickets_taken       0\n",
      "wickets_left        0\n",
      "wickets_right       0\n",
      "wide                0\n",
      "no_ball             0\n",
      "leg_byes            0\n",
      "byes                0\n",
      "match_number        0\n",
      "P1_balls            0\n",
      "P2_balls            0\n",
      "P3_balls            0\n",
      "P1_Runs_Left        0\n",
      "P2_Runs_Left        0\n",
      "P3_Runs_Left        0\n",
      "P1_Runs_Right       0\n",
      "P2_Runs_Right       0\n",
      "P3_Runs_Right       0\n",
      "P1_Runs             0\n",
      "P2_Runs             0\n",
      "P3_Runs             0\n",
      "bowled              0\n",
      "caught              0\n",
      "lbw                 0\n",
      "runout              0\n",
      "stumped             0\n",
      "economy             0\n",
      "economy_left        0\n",
      "economy_right       2\n",
      "bowler_hand         0\n",
      "bowler_type         0\n",
      "dtype: int64\n"
     ]
    }
   ],
   "source": [
    "print(dfls.isna().sum())"
   ]
  },
  {
   "cell_type": "code",
   "execution_count": 6,
   "id": "a1d48f83",
   "metadata": {},
   "outputs": [
    {
     "name": "stdout",
     "output_type": "stream",
     "text": [
      "inning_number        0\n",
      "Bowler               0\n",
      "Runs_Conceded        0\n",
      "total_deliveries     0\n",
      "runs_left            0\n",
      "runs_right           0\n",
      "delivery_left        0\n",
      "delivery_right       0\n",
      "wickets_taken        0\n",
      "wickets_left         0\n",
      "wickets_right        0\n",
      "wide                 0\n",
      "no_ball              0\n",
      "leg_byes             0\n",
      "byes                 0\n",
      "match_number         0\n",
      "P1_balls             0\n",
      "P2_balls             0\n",
      "P3_balls             0\n",
      "P1_Runs_Left         0\n",
      "P2_Runs_Left         0\n",
      "P3_Runs_Left         0\n",
      "P1_Runs_Right        0\n",
      "P2_Runs_Right        0\n",
      "P3_Runs_Right        0\n",
      "P1_Runs              0\n",
      "P2_Runs              0\n",
      "P3_Runs              0\n",
      "bowled               0\n",
      "caught               0\n",
      "lbw                  0\n",
      "runout               0\n",
      "stumped              0\n",
      "economy              0\n",
      "economy_left        10\n",
      "economy_right        7\n",
      "bowler_hand          0\n",
      "bowler_type          0\n",
      "dtype: int64\n"
     ]
    }
   ],
   "source": [
    "print(dfrp.isna().sum())"
   ]
  },
  {
   "cell_type": "code",
   "execution_count": 7,
   "id": "4bc21871",
   "metadata": {},
   "outputs": [
    {
     "name": "stdout",
     "output_type": "stream",
     "text": [
      "inning_number       0\n",
      "Bowler              0\n",
      "Runs_Conceded       0\n",
      "total_deliveries    0\n",
      "runs_left           0\n",
      "runs_right          0\n",
      "delivery_left       0\n",
      "delivery_right      0\n",
      "wickets_taken       0\n",
      "wickets_left        0\n",
      "wickets_right       0\n",
      "wide                0\n",
      "no_ball             0\n",
      "leg_byes            0\n",
      "byes                0\n",
      "match_number        0\n",
      "P1_balls            0\n",
      "P2_balls            0\n",
      "P3_balls            0\n",
      "P1_Runs_Left        0\n",
      "P2_Runs_Left        0\n",
      "P3_Runs_Left        0\n",
      "P1_Runs_Right       0\n",
      "P2_Runs_Right       0\n",
      "P3_Runs_Right       0\n",
      "P1_Runs             0\n",
      "P2_Runs             0\n",
      "P3_Runs             0\n",
      "bowled              0\n",
      "caught              0\n",
      "lbw                 0\n",
      "runout              0\n",
      "stumped             0\n",
      "economy             0\n",
      "economy_left        4\n",
      "economy_right       9\n",
      "bowler_hand         0\n",
      "bowler_type         0\n",
      "dtype: int64\n"
     ]
    }
   ],
   "source": [
    "print(dfrs.isna().sum())"
   ]
  },
  {
   "cell_type": "code",
   "execution_count": 8,
   "id": "5880a6d0",
   "metadata": {},
   "outputs": [
    {
     "name": "stderr",
     "output_type": "stream",
     "text": [
      "C:\\Users\\LENOVO\\AppData\\Local\\Temp\\ipykernel_11200\\1848378165.py:5: SettingWithCopyWarning: \n",
      "A value is trying to be set on a copy of a slice from a DataFrame\n",
      "\n",
      "See the caveats in the documentation: https://pandas.pydata.org/pandas-docs/stable/user_guide/indexing.html#returning-a-view-versus-a-copy\n",
      "  dflp['economy_right'][i]=dflp['economy'][i]\n",
      "C:\\Users\\LENOVO\\AppData\\Local\\Temp\\ipykernel_11200\\1848378165.py:11: SettingWithCopyWarning: \n",
      "A value is trying to be set on a copy of a slice from a DataFrame\n",
      "\n",
      "See the caveats in the documentation: https://pandas.pydata.org/pandas-docs/stable/user_guide/indexing.html#returning-a-view-versus-a-copy\n",
      "  dfls['economy_right'][i]=dfls['economy'][i]\n",
      "C:\\Users\\LENOVO\\AppData\\Local\\Temp\\ipykernel_11200\\1848378165.py:17: SettingWithCopyWarning: \n",
      "A value is trying to be set on a copy of a slice from a DataFrame\n",
      "\n",
      "See the caveats in the documentation: https://pandas.pydata.org/pandas-docs/stable/user_guide/indexing.html#returning-a-view-versus-a-copy\n",
      "  dfrp['economy_right'][i]=dfrp['economy'][i]\n",
      "C:\\Users\\LENOVO\\AppData\\Local\\Temp\\ipykernel_11200\\1848378165.py:15: SettingWithCopyWarning: \n",
      "A value is trying to be set on a copy of a slice from a DataFrame\n",
      "\n",
      "See the caveats in the documentation: https://pandas.pydata.org/pandas-docs/stable/user_guide/indexing.html#returning-a-view-versus-a-copy\n",
      "  dfrp['economy_left'][i]=dfrp['economy'][i]\n",
      "C:\\Users\\LENOVO\\AppData\\Local\\Temp\\ipykernel_11200\\1848378165.py:23: SettingWithCopyWarning: \n",
      "A value is trying to be set on a copy of a slice from a DataFrame\n",
      "\n",
      "See the caveats in the documentation: https://pandas.pydata.org/pandas-docs/stable/user_guide/indexing.html#returning-a-view-versus-a-copy\n",
      "  dfrs['economy_right'][i]=dfrs['economy'][i]\n",
      "C:\\Users\\LENOVO\\AppData\\Local\\Temp\\ipykernel_11200\\1848378165.py:21: SettingWithCopyWarning: \n",
      "A value is trying to be set on a copy of a slice from a DataFrame\n",
      "\n",
      "See the caveats in the documentation: https://pandas.pydata.org/pandas-docs/stable/user_guide/indexing.html#returning-a-view-versus-a-copy\n",
      "  dfrs['economy_left'][i]=dfrs['economy'][i]\n"
     ]
    }
   ],
   "source": [
    "for i in range(dflp.shape[0]):\n",
    "    if(pd.isnull(dflp.iloc[i,34])):\n",
    "        dflp['economy_left'][i]=dflp['economy'][i]\n",
    "    if(pd.isnull(dflp.iloc[i,35])):\n",
    "        dflp['economy_right'][i]=dflp['economy'][i]\n",
    "        \n",
    "for i in range(dfls.shape[0]):\n",
    "    if(pd.isnull(dfls.iloc[i,34])):\n",
    "        dfls['economy_left'][i]=dfls['economy'][i]\n",
    "    if(pd.isnull(dfls.iloc[i,35])):\n",
    "        dfls['economy_right'][i]=dfls['economy'][i]\n",
    "        \n",
    "for i in range(dfrp.shape[0]):\n",
    "    if(pd.isnull(dfrp.iloc[i,34])):\n",
    "        dfrp['economy_left'][i]=dfrp['economy'][i]\n",
    "    if(pd.isnull(dfrp.iloc[i,35])):\n",
    "        dfrp['economy_right'][i]=dfrp['economy'][i]\n",
    "        \n",
    "for i in range(dfrs.shape[0]):\n",
    "    if(pd.isnull(dfrs.iloc[i,34])):\n",
    "        dfrs['economy_left'][i]=dfrs['economy'][i]\n",
    "    if(pd.isnull(dfrs.iloc[i,35])):\n",
    "        dfrs['economy_right'][i]=dfrs['economy'][i]"
   ]
  },
  {
   "cell_type": "markdown",
   "id": "e354946d",
   "metadata": {},
   "source": [
    "## Various bowlers in Innings 1"
   ]
  },
  {
   "cell_type": "code",
   "execution_count": 9,
   "id": "d9f7ac48",
   "metadata": {},
   "outputs": [],
   "source": [
    "bowllp=[]\n",
    "for i in range(len(dflp)):\n",
    "    if(dflp['inning_number'][i]==1.0):\n",
    "        bowllp.append(dflp['Bowler'][i])\n",
    "    else:\n",
    "        break\n",
    "    \n",
    "\n",
    "bowlls=[]\n",
    "for i in range(len(dfls)):\n",
    "    if(dfls['inning_number'][i]==1.0):\n",
    "        bowlls.append(dfls['Bowler'][i])\n",
    "    else:\n",
    "        break\n",
    "\n",
    "bowlrp=[]\n",
    "for i in range(len(dfrp)):\n",
    "    if(dfrp['inning_number'][i]==1.0):\n",
    "        bowlrp.append(dfrp['Bowler'][i])\n",
    "    else:\n",
    "        break\n",
    "\n",
    "bowlrs=[]\n",
    "for i in range(len(dfrs)):\n",
    "    if(dfrs['inning_number'][i]==1.0):\n",
    "        bowlrs.append(dfrs['Bowler'][i])\n",
    "    else:\n",
    "        break"
   ]
  },
  {
   "cell_type": "markdown",
   "id": "3e81bde0",
   "metadata": {},
   "source": [
    "# Analysis on the economy of the bowlers "
   ]
  },
  {
   "cell_type": "code",
   "execution_count": 10,
   "id": "c7aa2c24",
   "metadata": {},
   "outputs": [],
   "source": [
    "ecolp=[]\n",
    "for i in range(len(dflp)):\n",
    "    if(dflp['inning_number'][i]==1.0):\n",
    "        ecolp.append(dflp['economy'][i])\n",
    "    else:\n",
    "        break\n",
    "ecols=[]\n",
    "for i in range(len(dfls)):\n",
    "    if(dfls['inning_number'][i]==1.0):\n",
    "        ecols.append(dfls['economy'][i])\n",
    "    else:\n",
    "        break\n",
    "ecorp=[]\n",
    "for i in range(len(dfrp)):\n",
    "    if(dfrp['inning_number'][i]==1.0):\n",
    "        ecorp.append(dfrp['economy'][i])\n",
    "    else:\n",
    "        break\n",
    "        \n",
    "ecors=[]\n",
    "for i in range(len(dfrs)):\n",
    "    if(dfrs['inning_number'][i]==1.0):\n",
    "        ecors.append(dfrs['economy'][i])\n",
    "    else:\n",
    "        break"
   ]
  },
  {
   "cell_type": "code",
   "execution_count": 11,
   "id": "00107af3",
   "metadata": {},
   "outputs": [
    {
     "name": "stdout",
     "output_type": "stream",
     "text": [
      "No. of left hand pacers: 84\n",
      "No. of left hand spinners: 135\n",
      "No. of right hand pacers: 548\n",
      "No. of right hand spinners: 291\n",
      "\n",
      "\n",
      "\n",
      "Percentage of left hand bowlers: 20.699432892249526\n",
      "Percentage of right hand bowlers: 79.30056710775047\n"
     ]
    }
   ],
   "source": [
    "print(\"No. of left hand pacers:\",len(bowllp))\n",
    "print(\"No. of left hand spinners:\",len(bowlls))\n",
    "print(\"No. of right hand pacers:\",len(bowlrp))\n",
    "print(\"No. of right hand spinners:\",len(bowlrs))\n",
    "\n",
    "print(\"\\n\\n\")\n",
    "\n",
    "tot=len(bowllp)+len(bowlls)+len(bowlrp)+len(bowlrs)\n",
    "print(\"Percentage of left hand bowlers:\", (len(bowllp)*100+len(bowlls)*100)/tot)\n",
    "print(\"Percentage of right hand bowlers:\", (len(bowlrp)*100+len(bowlrs)*100)/tot)"
   ]
  },
  {
   "cell_type": "code",
   "execution_count": 12,
   "id": "961c1e10",
   "metadata": {},
   "outputs": [],
   "source": [
    "# plt.figure(figsize=(20,10))\n",
    "# plt.title('Economy of left handed pacers')\n",
    "# tips={'bowlers': bowllp, 'eco' : ecolp}\n",
    "# tips=pd.DataFrame(tips)\n",
    "# sns.set_theme(style=\"whitegrid\")\n",
    "# ax=sns.barplot(x='bowlers', y=\"eco\", data=tips)\n",
    "# ax.set(xlabel='BOWLER LIST', ylabel='ECONOMY')\n",
    "# cv=ax.set_xticklabels(labels=bowllp, rotation=90)"
   ]
  },
  {
   "cell_type": "code",
   "execution_count": 13,
   "id": "ae6a3540",
   "metadata": {},
   "outputs": [],
   "source": [
    "# plt.figure(figsize=(30,15))\n",
    "# plt.title('Economy of left handed spinners')\n",
    "# tips={'bowlers': bowlls, 'eco' : ecols}\n",
    "# tips=pd.DataFrame(tips)\n",
    "# sns.set_theme(style=\"whitegrid\")\n",
    "# ax=sns.barplot(x='bowlers', y=\"eco\", data=tips)\n",
    "# ax.set(xlabel='BOWLER LIST', ylabel='ECONOMY')\n",
    "# cv=ax.set_xticklabels(labels=bowlls, rotation=90)"
   ]
  },
  {
   "cell_type": "code",
   "execution_count": 14,
   "id": "49566b08",
   "metadata": {},
   "outputs": [],
   "source": [
    "# plt.figure(figsize=(40,20))\n",
    "# plt.title('Economy of right handed pacers')\n",
    "# tips={'bowlers': bowlrp, 'eco' : ecorp}\n",
    "# tips=pd.DataFrame(tips)\n",
    "# sns.set_theme(style=\"whitegrid\")\n",
    "# ax=sns.barplot(x='bowlers', y=\"eco\", data=tips)\n",
    "# ax.set(xlabel='BOWLER LIST', ylabel='ECONOMY')\n",
    "# cv=ax.set_xticklabels(labels=bowlrp, rotation=90)"
   ]
  },
  {
   "cell_type": "code",
   "execution_count": 15,
   "id": "e35deae1",
   "metadata": {},
   "outputs": [],
   "source": [
    "# plt.figure(figsize=(35,20))\n",
    "# plt.title('Economy of right handed spinners')\n",
    "# tips={'bowlers': bowlrs, 'eco' : ecors}\n",
    "# tips=pd.DataFrame(tips)\n",
    "# sns.set_theme(style=\"whitegrid\")\n",
    "# ax=sns.barplot(x='bowlers', y=\"eco\", data=tips)\n",
    "# ax.set(xlabel='BOWLER LIST', ylabel='ECONOMY')\n",
    "# cv=ax.set_xticklabels(labels=bowlrs, rotation=90)"
   ]
  },
  {
   "cell_type": "code",
   "execution_count": 16,
   "id": "5c538d06",
   "metadata": {},
   "outputs": [],
   "source": [
    "def variance(data):\n",
    "    n=len(data)\n",
    "    mean=sum(data)/n;\n",
    "    dev=[(x-mean)**2 for x in data]\n",
    "    var=sum(dev)/n\n",
    "    return var\n",
    "\n",
    "def stddev(data):\n",
    "    n=len(data)\n",
    "    var=variance(data)\n",
    "    return math.sqrt(var)"
   ]
  },
  {
   "cell_type": "code",
   "execution_count": 17,
   "id": "76363f06",
   "metadata": {},
   "outputs": [
    {
     "name": "stdout",
     "output_type": "stream",
     "text": [
      "The mean economy of the bowlers of left pace are: 5.1708653088994065\n",
      "The variance of economy of the bowlers of left pace are: 2.1920850182756833\n",
      "The standard deviation of economy of the bowlers of left pace are: 1.480569153493238\n"
     ]
    }
   ],
   "source": [
    "#variance and standard deviation for left pace\n",
    "print(\"The mean economy of the bowlers of left pace are:\",np.mean(ecolp))\n",
    "print(\"The variance of economy of the bowlers of left pace are:\",variance(ecolp))\n",
    "print(\"The standard deviation of economy of the bowlers of left pace are:\",stddev(ecolp))"
   ]
  },
  {
   "cell_type": "code",
   "execution_count": 18,
   "id": "180d0120",
   "metadata": {},
   "outputs": [
    {
     "name": "stdout",
     "output_type": "stream",
     "text": [
      "The mean economy of the bowlers of left spin are: 4.703162748281728\n",
      "The variance of economy of the bowlers of left spin are: 1.6921964804586596\n",
      "The standard deviation of economy of the bowlers of left spin are: 1.3008445258595123\n"
     ]
    }
   ],
   "source": [
    "#variance and standard deviation for left spin\n",
    "print(\"The mean economy of the bowlers of left spin are:\",np.mean(ecols))\n",
    "print(\"The variance of economy of the bowlers of left spin are:\",variance(ecols))\n",
    "print(\"The standard deviation of economy of the bowlers of left spin are:\",stddev(ecols))"
   ]
  },
  {
   "cell_type": "code",
   "execution_count": 19,
   "id": "e028deb7",
   "metadata": {},
   "outputs": [
    {
     "name": "stdout",
     "output_type": "stream",
     "text": [
      "The mean economy of the bowlers of right pace are: 5.267144767404741\n",
      "The variance of economy of the bowlers of right pace are: 2.7819574984881976\n",
      "The standard deviation of economy of the bowlers of right pace are: 1.6679201115425755\n"
     ]
    }
   ],
   "source": [
    "#variance and standard deviation for right pace\n",
    "print(\"The mean economy of the bowlers of right pace are:\",np.mean(ecorp))\n",
    "print(\"The variance of economy of the bowlers of right pace are:\",variance(ecorp))\n",
    "print(\"The standard deviation of economy of the bowlers of right pace are:\",stddev(ecorp))"
   ]
  },
  {
   "cell_type": "code",
   "execution_count": 20,
   "id": "c5d8036f",
   "metadata": {},
   "outputs": [
    {
     "name": "stdout",
     "output_type": "stream",
     "text": [
      "The mean economy of the bowlers of right spin are: 5.159088928260189\n",
      "The variance of economy of the bowlers of right spin are: 2.496690411582702\n",
      "The standard deviation of economy of the bowlers of right spin are: 1.5800918997269437\n"
     ]
    }
   ],
   "source": [
    "#variance and standard deviation for right spin\n",
    "print(\"The mean economy of the bowlers of right spin are:\",np.mean(ecors))\n",
    "print(\"The variance of economy of the bowlers of right spin are:\",variance(ecors))\n",
    "print(\"The standard deviation of economy of the bowlers of right spin are:\",stddev(ecors))"
   ]
  },
  {
   "cell_type": "code",
   "execution_count": 21,
   "id": "12e299e1",
   "metadata": {},
   "outputs": [
    {
     "name": "stdout",
     "output_type": "stream",
     "text": [
      "Ttest_indResult(statistic=-3.128540043316516, pvalue=0.0019226297293025735)\n",
      "Ttest_indResult(statistic=-3.6584718472979474, pvalue=0.00027332639638036636)\n",
      "Ttest_indResult(statistic=-2.3671208687137, pvalue=0.019131583490339107)\n"
     ]
    }
   ],
   "source": [
    "################ double tailed t-test #####################\n",
    "print(stats.ttest_ind(a=ecols, b=ecors, equal_var=False, random_state=1))\n",
    "print(stats.ttest_ind(a=ecols, b=ecorp, equal_var=True, random_state=1))\n",
    "print(stats.ttest_ind(a=ecols, b=ecolp, equal_var=False, random_state=1))\n",
    "################         end          #####################"
   ]
  },
  {
   "cell_type": "code",
   "execution_count": 22,
   "id": "794c8692",
   "metadata": {},
   "outputs": [
    {
     "name": "stdout",
     "output_type": "stream",
     "text": [
      "84\n",
      "135\n",
      "548\n",
      "291\n"
     ]
    }
   ],
   "source": [
    "print(len(ecolp))\n",
    "print(len(ecols))\n",
    "print(len(ecorp))\n",
    "print(len(ecors))"
   ]
  },
  {
   "cell_type": "code",
   "execution_count": 23,
   "id": "76c5bc87",
   "metadata": {},
   "outputs": [
    {
     "data": {
      "image/png": "[encoded data removed]",
      "text/plain": [
       "<Figure size 720x504 with 1 Axes>"
      ]
     },
     "metadata": {
      "needs_background": "light"
     },
     "output_type": "display_data"
    }
   ],
   "source": [
    "fig = plt.figure(figsize =(10, 7))\n",
    "ax = fig.add_subplot(111)\n",
    " \n",
    "# Creating axes instance\n",
    "bp = ax.boxplot([ecolp,ecols,ecorp,ecors], patch_artist = True,notch ='True', vert = 0)\n",
    " \n",
    "colors = ['#0000FF', '#00FF00', '#FFFF00', '#FF00FF']\n",
    " \n",
    "for patch, color in zip(bp['boxes'], colors):\n",
    "    patch.set_facecolor(color)\n",
    "\n",
    "#whiskers\n",
    "for whisker in bp['whiskers']:\n",
    "    whisker.set(color ='#8B008B',linewidth = 1.5,linestyle =\":\")\n",
    "\n",
    "#caps\n",
    "for cap in bp['caps']:\n",
    "    cap.set(color ='#8B008B',linewidth = 2)\n",
    "\n",
    "for median in bp['medians']:\n",
    "    median.set(color ='red',linewidth = 3)\n",
    "\n",
    "# changing style of fliers\n",
    "for flier in bp['fliers']:\n",
    "    flier.set(marker ='D',color ='#e7298a',alpha = 0.5)\n",
    "     \n",
    "# x-axis labels\n",
    "ax.set_yticklabels(['Left pace', 'Left spin','Right pace', 'Right Spin'])\n",
    " \n",
    "# Adding title\n",
    "plt.title(\"Average economy of different types of bowlers\")\n",
    " \n",
    "# Removing top axes and right axes\n",
    "# ticks\n",
    "ax.get_xaxis().tick_bottom()\n",
    "ax.get_yaxis().tick_left()\n",
    "ax.set(xlabel='ECONOMY', ylabel='TYPE OF BOWLER')\n",
    "# show plot\n",
    "plt.show()"
   ]
  },
  {
   "cell_type": "markdown",
   "id": "eff51510",
   "metadata": {},
   "source": [
    "# Some inferences drawn\n",
    "> The no. of right handed bowlers (=79%) are much more than the number of left handed bowlers (=21%)\n",
    "\n",
    "> The economy of left handed spinners is the least (4.70) among all the four types of bowlers \n",
    "\n",
    "> On the whole, the economy of left handed bowlers is lower compared to the economy of right handed bowlers"
   ]
  },
  {
   "cell_type": "markdown",
   "id": "64849fea",
   "metadata": {},
   "source": [
    "# Analysis on the economy of the bowlers on left handed batsman"
   ]
  },
  {
   "cell_type": "code",
   "execution_count": 24,
   "id": "c8688965",
   "metadata": {},
   "outputs": [],
   "source": [
    "ecolp=[]\n",
    "for i in range(len(dflp)):\n",
    "    if(dflp['inning_number'][i]==1.0):\n",
    "        ecolp.append(dflp['economy_left'][i])\n",
    "    else:\n",
    "        break\n",
    "ecols=[]\n",
    "for i in range(len(dfls)):\n",
    "    if(dfls['inning_number'][i]==1.0):\n",
    "        ecols.append(dfls['economy_left'][i])\n",
    "    else:\n",
    "        break\n",
    "ecorp=[]\n",
    "for i in range(len(dfrp)):\n",
    "    if(dfrp['inning_number'][i]==1.0):\n",
    "        ecorp.append(dfrp['economy_left'][i])\n",
    "    else:\n",
    "        break\n",
    "        \n",
    "ecors=[]\n",
    "for i in range(len(dfrs)):\n",
    "    if(dfrs['inning_number'][i]==1.0):\n",
    "        ecors.append(dfrs['economy_left'][i])\n",
    "    else:\n",
    "        break"
   ]
  },
  {
   "cell_type": "code",
   "execution_count": 25,
   "id": "63819aa8",
   "metadata": {},
   "outputs": [],
   "source": [
    "# plt.figure(figsize=(20,10))\n",
    "# plt.title('Economy of left handed pacers vs. left handed batsman')\n",
    "# tips={'bowlers': bowllp, 'eco' : ecolp}\n",
    "# tips=pd.DataFrame(tips)\n",
    "# sns.set_theme(style=\"whitegrid\")\n",
    "# ax=sns.barplot(x='bowlers', y=\"eco\", data=tips)\n",
    "# ax.set(xlabel='BOWLER LIST', ylabel='ECONOMY')\n",
    "# cv=ax.set_xticklabels(labels=bowllp, rotation=90)"
   ]
  },
  {
   "cell_type": "code",
   "execution_count": 26,
   "id": "712c64f3",
   "metadata": {},
   "outputs": [],
   "source": [
    "# plt.figure(figsize=(30,15))\n",
    "# plt.title('Economy of left handed spinners vs. left handed batsman')\n",
    "# tips={'bowlers': bowlls, 'eco' : ecols}\n",
    "# tips=pd.DataFrame(tips)\n",
    "# sns.set_theme(style=\"whitegrid\")\n",
    "# ax=sns.barplot(x='bowlers', y=\"eco\", data=tips)\n",
    "# ax.set(xlabel='BOWLER LIST', ylabel='ECONOMY')\n",
    "# cv=ax.set_xticklabels(labels=bowlls, rotation=90)"
   ]
  },
  {
   "cell_type": "code",
   "execution_count": 27,
   "id": "9539cf7e",
   "metadata": {},
   "outputs": [],
   "source": [
    "# plt.figure(figsize=(40,20))\n",
    "# plt.title('Economy of right handed pacers vs. left handed batsman')\n",
    "# tips={'bowlers': bowlrp, 'eco' : ecorp}\n",
    "# tips=pd.DataFrame(tips)\n",
    "# sns.set_theme(style=\"whitegrid\")\n",
    "# ax=sns.barplot(x='bowlers', y=\"eco\", data=tips)\n",
    "# ax.set(xlabel='BOWLER LIST', ylabel='ECONOMY')\n",
    "# cv=ax.set_xticklabels(labels=bowlrp, rotation=90)"
   ]
  },
  {
   "cell_type": "code",
   "execution_count": 28,
   "id": "1f3e9287",
   "metadata": {},
   "outputs": [],
   "source": [
    "# plt.figure(figsize=(35,20))\n",
    "# plt.title('Economy of right handed spinners vs. left handed batsman')\n",
    "# tips={'bowlers': bowlrs, 'eco' : ecors}\n",
    "# tips=pd.DataFrame(tips)\n",
    "# sns.set_theme(style=\"whitegrid\")\n",
    "# ax=sns.barplot(x='bowlers', y=\"eco\", data=tips)\n",
    "# ax.set(xlabel='BOWLER LIST', ylabel='ECONOMY')\n",
    "# cv=ax.set_xticklabels(labels=bowlrs, rotation=90)"
   ]
  },
  {
   "cell_type": "code",
   "execution_count": 29,
   "id": "3f896a64",
   "metadata": {},
   "outputs": [
    {
     "name": "stdout",
     "output_type": "stream",
     "text": [
      "The mean economy of the bowlers of left pace vs. left handed batsman are: 4.957570721974918\n",
      "The variance of economy of the bowlers of left pace vs. left handed batsman are: 4.208800955428198\n",
      "The standard deviation of economy of the bowlers of left pace vs. left handed batsman are: 2.051536242777153\n"
     ]
    }
   ],
   "source": [
    "#variance and standard deviation for left pace\n",
    "print(\"The mean economy of the bowlers of left pace vs. left handed batsman are:\",np.mean(ecolp))\n",
    "print(\"The variance of economy of the bowlers of left pace vs. left handed batsman are:\",variance(ecolp))\n",
    "print(\"The standard deviation of economy of the bowlers of left pace vs. left handed batsman are:\",stddev(ecolp))"
   ]
  },
  {
   "cell_type": "code",
   "execution_count": 30,
   "id": "a28245ac",
   "metadata": {},
   "outputs": [
    {
     "name": "stdout",
     "output_type": "stream",
     "text": [
      "The mean economy of the bowlers of left spin vs. left handed batsman are: 4.647483083649987\n",
      "The variance of economy of the bowlers of left spin vs. left handed batsman are: 2.7548568069321737\n",
      "The standard deviation of economy of the bowlers of left spin vs. left handed batsman are: 1.6597761315708133\n"
     ]
    }
   ],
   "source": [
    "#variance and standard deviation for left spin\n",
    "print(\"The mean economy of the bowlers of left spin vs. left handed batsman are:\",np.mean(ecols))\n",
    "print(\"The variance of economy of the bowlers of left spin vs. left handed batsman are:\",variance(ecols))\n",
    "print(\"The standard deviation of economy of the bowlers of left spin vs. left handed batsman are:\",stddev(ecols))"
   ]
  },
  {
   "cell_type": "code",
   "execution_count": 31,
   "id": "73489571",
   "metadata": {},
   "outputs": [
    {
     "name": "stdout",
     "output_type": "stream",
     "text": [
      "The mean economy of the bowlers of right pace vs. left handed batsman are: 5.038097111207685\n",
      "The variance of economy of the bowlers of right pace vs. left handed batsman are: 3.964263203961315\n",
      "The standard deviation of economy of the bowlers of right pace vs. left handed batsman are: 1.991045756370585\n"
     ]
    }
   ],
   "source": [
    "#variance and standard deviation for right pace\n",
    "print(\"The mean economy of the bowlers of right pace vs. left handed batsman are:\",np.mean(ecorp))\n",
    "print(\"The variance of economy of the bowlers of right pace vs. left handed batsman are:\",variance(ecorp))\n",
    "print(\"The standard deviation of economy of the bowlers of right pace vs. left handed batsman are:\",stddev(ecorp))"
   ]
  },
  {
   "cell_type": "code",
   "execution_count": 32,
   "id": "eea7c1ff",
   "metadata": {},
   "outputs": [
    {
     "name": "stdout",
     "output_type": "stream",
     "text": [
      "The mean economy of the bowlers of right spin vs. left handed batsman are: 5.006304099168618\n",
      "The variance of economy of the bowlers of right spin vs. left handed batsman are: 3.428164963659721\n",
      "The standard deviation of economy of the bowlers of right spin vs. left handed batsman are: 1.8515304382212356\n"
     ]
    }
   ],
   "source": [
    "#variance and standard deviation for right pace\n",
    "print(\"The mean economy of the bowlers of right spin vs. left handed batsman are:\",np.mean(ecors))\n",
    "print(\"The variance of economy of the bowlers of right spin vs. left handed batsman are:\",variance(ecors))\n",
    "print(\"The standard deviation of economy of the bowlers of right spin vs. left handed batsman are:\",stddev(ecors))"
   ]
  },
  {
   "cell_type": "code",
   "execution_count": 33,
   "id": "e2f0d25a",
   "metadata": {},
   "outputs": [
    {
     "name": "stdout",
     "output_type": "stream",
     "text": [
      "84\n",
      "135\n",
      "548\n",
      "291\n"
     ]
    }
   ],
   "source": [
    "print(len(ecolp))\n",
    "print(len(ecols))\n",
    "print(len(ecorp))\n",
    "print(len(ecors))"
   ]
  },
  {
   "cell_type": "code",
   "execution_count": 34,
   "id": "6ef40727",
   "metadata": {},
   "outputs": [
    {
     "name": "stdout",
     "output_type": "stream",
     "text": [
      "Ttest_indResult(statistic=-1.994068978081645, pvalue=0.04708606878368738)\n",
      "Ttest_indResult(statistic=-2.342498069230405, pvalue=0.019980500768955377)\n",
      "Ttest_indResult(statistic=-1.1615555295235467, pvalue=0.24727596914861796)\n"
     ]
    }
   ],
   "source": [
    "################ double tailed t-test #####################\n",
    "print(stats.ttest_ind(a=ecols, b=ecors, equal_var=False, random_state=1))\n",
    "print(stats.ttest_ind(a=ecols, b=ecorp, equal_var=False, random_state=1))\n",
    "print(stats.ttest_ind(a=ecols, b=ecolp, equal_var=False, random_state=1))\n",
    "################         end          #####################"
   ]
  },
  {
   "cell_type": "code",
   "execution_count": 35,
   "id": "0c4404c5",
   "metadata": {},
   "outputs": [
    {
     "name": "stdout",
     "output_type": "stream",
     "text": [
      "84\n",
      "135\n",
      "548\n",
      "291\n"
     ]
    }
   ],
   "source": [
    "print(len(ecolp))\n",
    "print(len(ecols))\n",
    "print(len(ecorp))\n",
    "print(len(ecors))"
   ]
  },
  {
   "cell_type": "markdown",
   "id": "e55e05f7",
   "metadata": {},
   "source": [
    "# Some inferences drawn\n",
    "> The economy of left handed spinners against left handed batsman is the least (4.64) among all the four types of bowlers \n",
    "\n",
    "> On the whole, the economy of left handed bowlers is lower compared to the economy of right handed bowlers against left handed batsman\n",
    "\n",
    "> The performance of right handed pacers and spinners is almost the same against the left handed batsman"
   ]
  },
  {
   "cell_type": "markdown",
   "id": "92914844",
   "metadata": {},
   "source": [
    "# Analysis on the economy of the bowlers on right handed batsman"
   ]
  },
  {
   "cell_type": "code",
   "execution_count": 36,
   "id": "74c4d906",
   "metadata": {},
   "outputs": [],
   "source": [
    "ecolp=[]\n",
    "for i in range(len(dflp)):\n",
    "    if(dflp['inning_number'][i]==1.0):\n",
    "        ecolp.append(dflp['economy_right'][i])\n",
    "    else:\n",
    "        break\n",
    "ecols=[]\n",
    "for i in range(len(dfls)):\n",
    "    if(dfls['inning_number'][i]==1.0):\n",
    "        ecols.append(dfls['economy_right'][i])\n",
    "    else:\n",
    "        break\n",
    "ecorp=[]\n",
    "for i in range(len(dfrp)):\n",
    "    if(dfrp['inning_number'][i]==1.0):\n",
    "        ecorp.append(dfrp['economy_right'][i])\n",
    "    else:\n",
    "        break\n",
    "        \n",
    "ecors=[]\n",
    "for i in range(len(dfrs)):\n",
    "    if(dfrs['inning_number'][i]==1.0):\n",
    "        ecors.append(dfrs['economy_right'][i])\n",
    "    else:\n",
    "        break"
   ]
  },
  {
   "cell_type": "code",
   "execution_count": 37,
   "id": "2c538059",
   "metadata": {},
   "outputs": [],
   "source": [
    "# plt.figure(figsize=(20,10))\n",
    "# plt.title('Economy of left handed pacers vs. right handed batsman')\n",
    "# tips={'bowlers': bowllp, 'eco' : ecolp}\n",
    "# tips=pd.DataFrame(tips)\n",
    "# sns.set_theme(style=\"whitegrid\")\n",
    "# ax=sns.barplot(x='bowlers', y=\"eco\", data=tips)\n",
    "# ax.set(xlabel='BOWLER LIST', ylabel='ECONOMY')\n",
    "# cv=ax.set_xticklabels(labels=bowllp, rotation=90)"
   ]
  },
  {
   "cell_type": "code",
   "execution_count": 38,
   "id": "35a0911d",
   "metadata": {},
   "outputs": [],
   "source": [
    "# plt.figure(figsize=(30,15))\n",
    "# plt.title('Economy of left handed spinners vs. right handed batsman')\n",
    "# tips={'bowlers': bowlls, 'eco' : ecols}\n",
    "# tips=pd.DataFrame(tips)\n",
    "# sns.set_theme(style=\"whitegrid\")\n",
    "# ax=sns.barplot(x='bowlers', y=\"eco\", data=tips)\n",
    "# ax.set(xlabel='BOWLER LIST', ylabel='ECONOMY')\n",
    "# cv=ax.set_xticklabels(labels=bowlls, rotation=90)"
   ]
  },
  {
   "cell_type": "code",
   "execution_count": 39,
   "id": "63716a8c",
   "metadata": {},
   "outputs": [],
   "source": [
    "# plt.figure(figsize=(40,20))\n",
    "# plt.title('Economy of right handed pacers vs. right handed batsman')\n",
    "# tips={'bowlers': bowlrp, 'eco' : ecorp}\n",
    "# tips=pd.DataFrame(tips)\n",
    "# sns.set_theme(style=\"whitegrid\")\n",
    "# ax=sns.barplot(x='bowlers', y=\"eco\", data=tips)\n",
    "# ax.set(xlabel='BOWLER LIST', ylabel='ECONOMY')\n",
    "# cv=ax.set_xticklabels(labels=bowlrp, rotation=90)"
   ]
  },
  {
   "cell_type": "code",
   "execution_count": 40,
   "id": "d67a2966",
   "metadata": {},
   "outputs": [],
   "source": [
    "# plt.figure(figsize=(35,20))\n",
    "# plt.title('Economy of right handed spinners vs. right handed batsman')\n",
    "# tips={'bowlers': bowlrs, 'eco' : ecors}\n",
    "# tips=pd.DataFrame(tips)\n",
    "# sns.set_theme(style=\"whitegrid\")\n",
    "# ax=sns.barplot(x='bowlers', y=\"eco\", data=tips)\n",
    "# ax.set(xlabel='BOWLER LIST', ylabel='ECONOMY')\n",
    "# cv=ax.set_xticklabels(labels=bowlrs, rotation=90)"
   ]
  },
  {
   "cell_type": "code",
   "execution_count": 41,
   "id": "dc350fa9",
   "metadata": {},
   "outputs": [
    {
     "name": "stdout",
     "output_type": "stream",
     "text": [
      "The mean economy of the bowlers of left pace vs. right handed batsman are: 4.878572834004551\n",
      "The variance of economy of the bowlers of left pace vs. right handed batsman are: 3.3901740646549703\n",
      "The standard deviation of economy of the bowlers of left pace vs. right handed batsman are: 1.8412425328171653\n"
     ]
    }
   ],
   "source": [
    "#variance and standard deviation for left pace\n",
    "print(\"The mean economy of the bowlers of left pace vs. right handed batsman are:\",np.mean(ecolp))\n",
    "print(\"The variance of economy of the bowlers of left pace vs. right handed batsman are:\",variance(ecolp))\n",
    "print(\"The standard deviation of economy of the bowlers of left pace vs. right handed batsman are:\",stddev(ecolp))"
   ]
  },
  {
   "cell_type": "code",
   "execution_count": 42,
   "id": "74d88528",
   "metadata": {},
   "outputs": [
    {
     "name": "stdout",
     "output_type": "stream",
     "text": [
      "The mean economy of the bowlers of left spin vs. right handed batsman are: 4.669411025410084\n",
      "The variance of economy of the bowlers of left spin vs. right handed batsman are: 5.941401585753466\n",
      "The standard deviation of economy of the bowlers of left spin vs. right handed batsman are: 2.4374990432312926\n"
     ]
    }
   ],
   "source": [
    "#variance and standard deviation for left spin\n",
    "print(\"The mean economy of the bowlers of left spin vs. right handed batsman are:\",np.mean(ecols))\n",
    "print(\"The variance of economy of the bowlers of left spin vs. right handed batsman are:\",variance(ecols))\n",
    "print(\"The standard deviation of economy of the bowlers of left spin vs. right handed batsman are:\",stddev(ecols))"
   ]
  },
  {
   "cell_type": "code",
   "execution_count": 43,
   "id": "5211e654",
   "metadata": {},
   "outputs": [
    {
     "name": "stdout",
     "output_type": "stream",
     "text": [
      "The mean economy of the bowlers of right pace vs. right handed batsman are: 4.989067140497487\n",
      "The variance of economy of the bowlers of right pace vs. right handed batsman are: 4.155428850379032\n",
      "The standard deviation of economy of the bowlers of right pace vs. left handed batsman are: 2.038486902184812\n"
     ]
    }
   ],
   "source": [
    "#variance and standard deviation for right pace\n",
    "print(\"The mean economy of the bowlers of right pace vs. right handed batsman are:\",np.mean(ecorp))\n",
    "print(\"The variance of economy of the bowlers of right pace vs. right handed batsman are:\",variance(ecorp))\n",
    "print(\"The standard deviation of economy of the bowlers of right pace vs. left handed batsman are:\",stddev(ecorp))"
   ]
  },
  {
   "cell_type": "code",
   "execution_count": 44,
   "id": "3fe4934e",
   "metadata": {},
   "outputs": [
    {
     "name": "stdout",
     "output_type": "stream",
     "text": [
      "The mean economy of the bowlers of right spin vs. right handed batsman are: 4.991324650245375\n",
      "The variance of economy of the bowlers of right spin vs. right handed batsman are: 4.82554876057929\n",
      "The standard deviation of economy of the bowlers of right spin vs. right handed batsman are: 2.1967131721231357\n"
     ]
    }
   ],
   "source": [
    "#variance and standard deviation for right pace\n",
    "print(\"The mean economy of the bowlers of right spin vs. right handed batsman are:\",np.mean(ecors))\n",
    "print(\"The variance of economy of the bowlers of right spin vs. right handed batsman are:\",variance(ecors))\n",
    "print(\"The standard deviation of economy of the bowlers of right spin vs. right handed batsman are:\",stddev(ecors))"
   ]
  },
  {
   "cell_type": "code",
   "execution_count": 45,
   "id": "b2050183",
   "metadata": {},
   "outputs": [
    {
     "name": "stdout",
     "output_type": "stream",
     "text": [
      "Ttest_indResult(statistic=-1.3036184168973155, pvalue=0.1936234753376141)\n",
      "Ttest_indResult(statistic=-1.4026539029873482, pvalue=0.16241855398646945)\n",
      "Ttest_indResult(statistic=-0.7166426291418473, pvalue=0.47439588820563183)\n"
     ]
    }
   ],
   "source": [
    "################ double tailed t-test #####################\n",
    "print(stats.ttest_ind(a=ecols, b=ecors, equal_var=False, random_state=1))\n",
    "print(stats.ttest_ind(a=ecols, b=ecorp, equal_var=False, random_state=1))\n",
    "print(stats.ttest_ind(a=ecols, b=ecolp, equal_var=False, random_state=1))\n",
    "################         end          #####################"
   ]
  },
  {
   "cell_type": "code",
   "execution_count": 46,
   "id": "80d2865a",
   "metadata": {},
   "outputs": [
    {
     "name": "stdout",
     "output_type": "stream",
     "text": [
      "84\n",
      "135\n",
      "548\n",
      "291\n"
     ]
    }
   ],
   "source": [
    "print(len(ecolp))\n",
    "print(len(ecols))\n",
    "print(len(ecorp))\n",
    "print(len(ecors))"
   ]
  },
  {
   "cell_type": "markdown",
   "id": "293365a6",
   "metadata": {},
   "source": [
    "# Some inferences drawn\n",
    "> The economy of left handed spinners against right handed batsman is the least (4.66) among all the four types of bowlers \n",
    "\n",
    "> On the whole, the economy of left handed bowlers is lower compared to the economy of right handed bowlers against right handed batsman\n",
    "\n",
    "> The performance of right handed pacers and spinners is almost the same against the right handed batsman"
   ]
  },
  {
   "cell_type": "markdown",
   "id": "4a1af3af",
   "metadata": {},
   "source": [
    "### On the whole, it can be seen that the right handed batsman very slightly make less runs per over compared to left handed batsman"
   ]
  }
 ],
 "metadata": {
  "kernelspec": {
   "display_name": "Python 3 (ipykernel)",
   "language": "python",
   "name": "python3"
  },
  "language_info": {
   "codemirror_mode": {
    "name": "ipython",
    "version": 3
   },
   "file_extension": ".py",
   "mimetype": "text/x-python",
   "name": "python",
   "nbconvert_exporter": "python",
   "pygments_lexer": "ipython3",
   "version": "3.9.12"
  }
 },
 "nbformat": 4,
 "nbformat_minor": 5
}
