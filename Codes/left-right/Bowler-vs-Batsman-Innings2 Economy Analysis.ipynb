{
 "cells": [
  {
   "cell_type": "markdown",
   "id": "596a9ff8",
   "metadata": {},
   "source": [
    "# Importing the necessary libraries and data"
   ]
  },
  {
   "cell_type": "code",
   "execution_count": 1,
   "id": "cdfdb01a",
   "metadata": {},
   "outputs": [],
   "source": [
    "import pandas as pd\n",
    "import numpy as np\n",
    "import matplotlib.pyplot as plt \n",
    "import os\n",
    "import glob\n",
    "import shutil\n",
    "import seaborn as sns\n",
    "import math\n",
    "import scipy.stats as stats"
   ]
  },
  {
   "cell_type": "code",
   "execution_count": 2,
   "id": "2008568c",
   "metadata": {},
   "outputs": [],
   "source": [
    "dflp=pd.read_csv(r\"C:\\ime_project\\left-right\\file2_elaborated_bowlers_perspective\\leftpace_aggr.csv\")\n",
    "dfls=pd.read_csv(r\"C:\\ime_project\\left-right\\file2_elaborated_bowlers_perspective\\leftspin_aggr.csv\")\n",
    "dfrp=pd.read_csv(r\"C:\\ime_project\\left-right\\file2_elaborated_bowlers_perspective\\rightpace_aggr.csv\")\n",
    "dfrs=pd.read_csv(r\"C:\\ime_project\\left-right\\file2_elaborated_bowlers_perspective\\rightspin_aggr.csv\")"
   ]
  },
  {
   "cell_type": "code",
   "execution_count": 3,
   "id": "16f27b32",
   "metadata": {},
   "outputs": [
    {
     "data": {
      "text/html": [
       "<div>\n",
       "<style scoped>\n",
       "    .dataframe tbody tr th:only-of-type {\n",
       "        vertical-align: middle;\n",
       "    }\n",
       "\n",
       "    .dataframe tbody tr th {\n",
       "        vertical-align: top;\n",
       "    }\n",
       "\n",
       "    .dataframe thead th {\n",
       "        text-align: right;\n",
       "    }\n",
       "</style>\n",
       "<table border=\"1\" class=\"dataframe\">\n",
       "  <thead>\n",
       "    <tr style=\"text-align: right;\">\n",
       "      <th></th>\n",
       "      <th>inning_number</th>\n",
       "      <th>Bowler</th>\n",
       "      <th>Runs_Conceded</th>\n",
       "      <th>total_deliveries</th>\n",
       "      <th>runs_left</th>\n",
       "      <th>runs_right</th>\n",
       "      <th>delivery_left</th>\n",
       "      <th>delivery_right</th>\n",
       "      <th>wickets_taken</th>\n",
       "      <th>wickets_left</th>\n",
       "      <th>...</th>\n",
       "      <th>bowled</th>\n",
       "      <th>caught</th>\n",
       "      <th>lbw</th>\n",
       "      <th>runout</th>\n",
       "      <th>stumped</th>\n",
       "      <th>economy</th>\n",
       "      <th>economy_left</th>\n",
       "      <th>economy_right</th>\n",
       "      <th>bowler_hand</th>\n",
       "      <th>bowler_type</th>\n",
       "    </tr>\n",
       "  </thead>\n",
       "  <tbody>\n",
       "    <tr>\n",
       "      <th>0</th>\n",
       "      <td>1.0</td>\n",
       "      <td>A Nehra</td>\n",
       "      <td>709.0</td>\n",
       "      <td>718.0</td>\n",
       "      <td>335.0</td>\n",
       "      <td>341.0</td>\n",
       "      <td>349.0</td>\n",
       "      <td>369.0</td>\n",
       "      <td>28.0</td>\n",
       "      <td>19.0</td>\n",
       "      <td>...</td>\n",
       "      <td>2.0</td>\n",
       "      <td>18.0</td>\n",
       "      <td>3.0</td>\n",
       "      <td>0.0</td>\n",
       "      <td>0.0</td>\n",
       "      <td>5.924791</td>\n",
       "      <td>5.759312</td>\n",
       "      <td>5.544715</td>\n",
       "      <td>left</td>\n",
       "      <td>pace</td>\n",
       "    </tr>\n",
       "    <tr>\n",
       "      <th>1</th>\n",
       "      <td>1.0</td>\n",
       "      <td>AJ McKay</td>\n",
       "      <td>121.0</td>\n",
       "      <td>173.0</td>\n",
       "      <td>53.0</td>\n",
       "      <td>52.0</td>\n",
       "      <td>96.0</td>\n",
       "      <td>77.0</td>\n",
       "      <td>7.0</td>\n",
       "      <td>5.0</td>\n",
       "      <td>...</td>\n",
       "      <td>2.0</td>\n",
       "      <td>5.0</td>\n",
       "      <td>0.0</td>\n",
       "      <td>0.0</td>\n",
       "      <td>0.0</td>\n",
       "      <td>4.196532</td>\n",
       "      <td>3.312500</td>\n",
       "      <td>4.051948</td>\n",
       "      <td>left</td>\n",
       "      <td>pace</td>\n",
       "    </tr>\n",
       "    <tr>\n",
       "      <th>2</th>\n",
       "      <td>1.0</td>\n",
       "      <td>AK Peters</td>\n",
       "      <td>4.0</td>\n",
       "      <td>6.0</td>\n",
       "      <td>1.0</td>\n",
       "      <td>3.0</td>\n",
       "      <td>2.0</td>\n",
       "      <td>4.0</td>\n",
       "      <td>0.0</td>\n",
       "      <td>0.0</td>\n",
       "      <td>...</td>\n",
       "      <td>0.0</td>\n",
       "      <td>0.0</td>\n",
       "      <td>0.0</td>\n",
       "      <td>0.0</td>\n",
       "      <td>0.0</td>\n",
       "      <td>4.000000</td>\n",
       "      <td>3.000000</td>\n",
       "      <td>4.500000</td>\n",
       "      <td>left</td>\n",
       "      <td>pace</td>\n",
       "    </tr>\n",
       "    <tr>\n",
       "      <th>3</th>\n",
       "      <td>1.0</td>\n",
       "      <td>AM Guruge</td>\n",
       "      <td>27.0</td>\n",
       "      <td>32.0</td>\n",
       "      <td>9.0</td>\n",
       "      <td>16.0</td>\n",
       "      <td>12.0</td>\n",
       "      <td>20.0</td>\n",
       "      <td>1.0</td>\n",
       "      <td>1.0</td>\n",
       "      <td>...</td>\n",
       "      <td>0.0</td>\n",
       "      <td>1.0</td>\n",
       "      <td>0.0</td>\n",
       "      <td>0.0</td>\n",
       "      <td>0.0</td>\n",
       "      <td>5.062500</td>\n",
       "      <td>4.500000</td>\n",
       "      <td>4.800000</td>\n",
       "      <td>left</td>\n",
       "      <td>pace</td>\n",
       "    </tr>\n",
       "    <tr>\n",
       "      <th>4</th>\n",
       "      <td>1.0</td>\n",
       "      <td>APC Kilowan</td>\n",
       "      <td>20.0</td>\n",
       "      <td>42.0</td>\n",
       "      <td>5.0</td>\n",
       "      <td>9.0</td>\n",
       "      <td>20.0</td>\n",
       "      <td>22.0</td>\n",
       "      <td>0.0</td>\n",
       "      <td>0.0</td>\n",
       "      <td>...</td>\n",
       "      <td>0.0</td>\n",
       "      <td>0.0</td>\n",
       "      <td>0.0</td>\n",
       "      <td>0.0</td>\n",
       "      <td>0.0</td>\n",
       "      <td>2.857143</td>\n",
       "      <td>1.500000</td>\n",
       "      <td>2.454545</td>\n",
       "      <td>left</td>\n",
       "      <td>pace</td>\n",
       "    </tr>\n",
       "  </tbody>\n",
       "</table>\n",
       "<p>5 rows × 38 columns</p>\n",
       "</div>"
      ],
      "text/plain": [
       "   inning_number       Bowler  Runs_Conceded  total_deliveries  runs_left  \\\n",
       "0            1.0      A Nehra          709.0             718.0      335.0   \n",
       "1            1.0     AJ McKay          121.0             173.0       53.0   \n",
       "2            1.0    AK Peters            4.0               6.0        1.0   \n",
       "3            1.0    AM Guruge           27.0              32.0        9.0   \n",
       "4            1.0  APC Kilowan           20.0              42.0        5.0   \n",
       "\n",
       "   runs_right  delivery_left  delivery_right  wickets_taken  wickets_left  \\\n",
       "0       341.0          349.0           369.0           28.0          19.0   \n",
       "1        52.0           96.0            77.0            7.0           5.0   \n",
       "2         3.0            2.0             4.0            0.0           0.0   \n",
       "3        16.0           12.0            20.0            1.0           1.0   \n",
       "4         9.0           20.0            22.0            0.0           0.0   \n",
       "\n",
       "   ...  bowled  caught  lbw  runout  stumped   economy  economy_left  \\\n",
       "0  ...     2.0    18.0  3.0     0.0      0.0  5.924791      5.759312   \n",
       "1  ...     2.0     5.0  0.0     0.0      0.0  4.196532      3.312500   \n",
       "2  ...     0.0     0.0  0.0     0.0      0.0  4.000000      3.000000   \n",
       "3  ...     0.0     1.0  0.0     0.0      0.0  5.062500      4.500000   \n",
       "4  ...     0.0     0.0  0.0     0.0      0.0  2.857143      1.500000   \n",
       "\n",
       "   economy_right  bowler_hand  bowler_type  \n",
       "0       5.544715         left         pace  \n",
       "1       4.051948         left         pace  \n",
       "2       4.500000         left         pace  \n",
       "3       4.800000         left         pace  \n",
       "4       2.454545         left         pace  \n",
       "\n",
       "[5 rows x 38 columns]"
      ]
     },
     "execution_count": 3,
     "metadata": {},
     "output_type": "execute_result"
    }
   ],
   "source": [
    "dflp.head()"
   ]
  },
  {
   "cell_type": "code",
   "execution_count": 4,
   "id": "30a9a838",
   "metadata": {},
   "outputs": [
    {
     "name": "stdout",
     "output_type": "stream",
     "text": [
      "inning_number       0\n",
      "Bowler              0\n",
      "Runs_Conceded       0\n",
      "total_deliveries    0\n",
      "runs_left           0\n",
      "runs_right          0\n",
      "delivery_left       0\n",
      "delivery_right      0\n",
      "wickets_taken       0\n",
      "wickets_left        0\n",
      "wickets_right       0\n",
      "wide                0\n",
      "no_ball             0\n",
      "leg_byes            0\n",
      "byes                0\n",
      "match_number        0\n",
      "P1_balls            0\n",
      "P2_balls            0\n",
      "P3_balls            0\n",
      "P1_Runs_Left        0\n",
      "P2_Runs_Left        0\n",
      "P3_Runs_Left        0\n",
      "P1_Runs_Right       0\n",
      "P2_Runs_Right       0\n",
      "P3_Runs_Right       0\n",
      "P1_Runs             0\n",
      "P2_Runs             0\n",
      "P3_Runs             0\n",
      "bowled              0\n",
      "caught              0\n",
      "lbw                 0\n",
      "runout              0\n",
      "stumped             0\n",
      "economy             0\n",
      "economy_left        0\n",
      "economy_right       1\n",
      "bowler_hand         0\n",
      "bowler_type         0\n",
      "dtype: int64\n"
     ]
    }
   ],
   "source": [
    "print(dflp.isna().sum())"
   ]
  },
  {
   "cell_type": "code",
   "execution_count": 5,
   "id": "3e76a21e",
   "metadata": {},
   "outputs": [
    {
     "name": "stdout",
     "output_type": "stream",
     "text": [
      "inning_number       0\n",
      "Bowler              0\n",
      "Runs_Conceded       0\n",
      "total_deliveries    0\n",
      "runs_left           0\n",
      "runs_right          0\n",
      "delivery_left       0\n",
      "delivery_right      0\n",
      "wickets_taken       0\n",
      "wickets_left        0\n",
      "wickets_right       0\n",
      "wide                0\n",
      "no_ball             0\n",
      "leg_byes            0\n",
      "byes                0\n",
      "match_number        0\n",
      "P1_balls            0\n",
      "P2_balls            0\n",
      "P3_balls            0\n",
      "P1_Runs_Left        0\n",
      "P2_Runs_Left        0\n",
      "P3_Runs_Left        0\n",
      "P1_Runs_Right       0\n",
      "P2_Runs_Right       0\n",
      "P3_Runs_Right       0\n",
      "P1_Runs             0\n",
      "P2_Runs             0\n",
      "P3_Runs             0\n",
      "bowled              0\n",
      "caught              0\n",
      "lbw                 0\n",
      "runout              0\n",
      "stumped             0\n",
      "economy             0\n",
      "economy_left        0\n",
      "economy_right       2\n",
      "bowler_hand         0\n",
      "bowler_type         0\n",
      "dtype: int64\n"
     ]
    }
   ],
   "source": [
    "print(dfls.isna().sum())"
   ]
  },
  {
   "cell_type": "code",
   "execution_count": 6,
   "id": "f26f3676",
   "metadata": {},
   "outputs": [
    {
     "name": "stdout",
     "output_type": "stream",
     "text": [
      "inning_number        0\n",
      "Bowler               0\n",
      "Runs_Conceded        0\n",
      "total_deliveries     0\n",
      "runs_left            0\n",
      "runs_right           0\n",
      "delivery_left        0\n",
      "delivery_right       0\n",
      "wickets_taken        0\n",
      "wickets_left         0\n",
      "wickets_right        0\n",
      "wide                 0\n",
      "no_ball              0\n",
      "leg_byes             0\n",
      "byes                 0\n",
      "match_number         0\n",
      "P1_balls             0\n",
      "P2_balls             0\n",
      "P3_balls             0\n",
      "P1_Runs_Left         0\n",
      "P2_Runs_Left         0\n",
      "P3_Runs_Left         0\n",
      "P1_Runs_Right        0\n",
      "P2_Runs_Right        0\n",
      "P3_Runs_Right        0\n",
      "P1_Runs              0\n",
      "P2_Runs              0\n",
      "P3_Runs              0\n",
      "bowled               0\n",
      "caught               0\n",
      "lbw                  0\n",
      "runout               0\n",
      "stumped              0\n",
      "economy              0\n",
      "economy_left        10\n",
      "economy_right        7\n",
      "bowler_hand          0\n",
      "bowler_type          0\n",
      "dtype: int64\n"
     ]
    }
   ],
   "source": [
    "print(dfrp.isna().sum())"
   ]
  },
  {
   "cell_type": "code",
   "execution_count": 7,
   "id": "be9755dd",
   "metadata": {},
   "outputs": [
    {
     "name": "stdout",
     "output_type": "stream",
     "text": [
      "inning_number       0\n",
      "Bowler              0\n",
      "Runs_Conceded       0\n",
      "total_deliveries    0\n",
      "runs_left           0\n",
      "runs_right          0\n",
      "delivery_left       0\n",
      "delivery_right      0\n",
      "wickets_taken       0\n",
      "wickets_left        0\n",
      "wickets_right       0\n",
      "wide                0\n",
      "no_ball             0\n",
      "leg_byes            0\n",
      "byes                0\n",
      "match_number        0\n",
      "P1_balls            0\n",
      "P2_balls            0\n",
      "P3_balls            0\n",
      "P1_Runs_Left        0\n",
      "P2_Runs_Left        0\n",
      "P3_Runs_Left        0\n",
      "P1_Runs_Right       0\n",
      "P2_Runs_Right       0\n",
      "P3_Runs_Right       0\n",
      "P1_Runs             0\n",
      "P2_Runs             0\n",
      "P3_Runs             0\n",
      "bowled              0\n",
      "caught              0\n",
      "lbw                 0\n",
      "runout              0\n",
      "stumped             0\n",
      "economy             0\n",
      "economy_left        4\n",
      "economy_right       9\n",
      "bowler_hand         0\n",
      "bowler_type         0\n",
      "dtype: int64\n"
     ]
    }
   ],
   "source": [
    "print(dfrs.isna().sum())"
   ]
  },
  {
   "cell_type": "code",
   "execution_count": 8,
   "id": "d8ff6807",
   "metadata": {},
   "outputs": [
    {
     "name": "stderr",
     "output_type": "stream",
     "text": [
      "C:\\Users\\LENOVO\\AppData\\Local\\Temp\\ipykernel_7172\\1848378165.py:5: SettingWithCopyWarning: \n",
      "A value is trying to be set on a copy of a slice from a DataFrame\n",
      "\n",
      "See the caveats in the documentation: https://pandas.pydata.org/pandas-docs/stable/user_guide/indexing.html#returning-a-view-versus-a-copy\n",
      "  dflp['economy_right'][i]=dflp['economy'][i]\n",
      "C:\\Users\\LENOVO\\AppData\\Local\\Temp\\ipykernel_7172\\1848378165.py:11: SettingWithCopyWarning: \n",
      "A value is trying to be set on a copy of a slice from a DataFrame\n",
      "\n",
      "See the caveats in the documentation: https://pandas.pydata.org/pandas-docs/stable/user_guide/indexing.html#returning-a-view-versus-a-copy\n",
      "  dfls['economy_right'][i]=dfls['economy'][i]\n",
      "C:\\Users\\LENOVO\\AppData\\Local\\Temp\\ipykernel_7172\\1848378165.py:17: SettingWithCopyWarning: \n",
      "A value is trying to be set on a copy of a slice from a DataFrame\n",
      "\n",
      "See the caveats in the documentation: https://pandas.pydata.org/pandas-docs/stable/user_guide/indexing.html#returning-a-view-versus-a-copy\n",
      "  dfrp['economy_right'][i]=dfrp['economy'][i]\n",
      "C:\\Users\\LENOVO\\AppData\\Local\\Temp\\ipykernel_7172\\1848378165.py:15: SettingWithCopyWarning: \n",
      "A value is trying to be set on a copy of a slice from a DataFrame\n",
      "\n",
      "See the caveats in the documentation: https://pandas.pydata.org/pandas-docs/stable/user_guide/indexing.html#returning-a-view-versus-a-copy\n",
      "  dfrp['economy_left'][i]=dfrp['economy'][i]\n",
      "C:\\Users\\LENOVO\\AppData\\Local\\Temp\\ipykernel_7172\\1848378165.py:23: SettingWithCopyWarning: \n",
      "A value is trying to be set on a copy of a slice from a DataFrame\n",
      "\n",
      "See the caveats in the documentation: https://pandas.pydata.org/pandas-docs/stable/user_guide/indexing.html#returning-a-view-versus-a-copy\n",
      "  dfrs['economy_right'][i]=dfrs['economy'][i]\n",
      "C:\\Users\\LENOVO\\AppData\\Local\\Temp\\ipykernel_7172\\1848378165.py:21: SettingWithCopyWarning: \n",
      "A value is trying to be set on a copy of a slice from a DataFrame\n",
      "\n",
      "See the caveats in the documentation: https://pandas.pydata.org/pandas-docs/stable/user_guide/indexing.html#returning-a-view-versus-a-copy\n",
      "  dfrs['economy_left'][i]=dfrs['economy'][i]\n"
     ]
    }
   ],
   "source": [
    "for i in range(dflp.shape[0]):\n",
    "    if(pd.isnull(dflp.iloc[i,34])):\n",
    "        dflp['economy_left'][i]=dflp['economy'][i]\n",
    "    if(pd.isnull(dflp.iloc[i,35])):\n",
    "        dflp['economy_right'][i]=dflp['economy'][i]\n",
    "        \n",
    "for i in range(dfls.shape[0]):\n",
    "    if(pd.isnull(dfls.iloc[i,34])):\n",
    "        dfls['economy_left'][i]=dfls['economy'][i]\n",
    "    if(pd.isnull(dfls.iloc[i,35])):\n",
    "        dfls['economy_right'][i]=dfls['economy'][i]\n",
    "        \n",
    "for i in range(dfrp.shape[0]):\n",
    "    if(pd.isnull(dfrp.iloc[i,34])):\n",
    "        dfrp['economy_left'][i]=dfrp['economy'][i]\n",
    "    if(pd.isnull(dfrp.iloc[i,35])):\n",
    "        dfrp['economy_right'][i]=dfrp['economy'][i]\n",
    "        \n",
    "for i in range(dfrs.shape[0]):\n",
    "    if(pd.isnull(dfrs.iloc[i,34])):\n",
    "        dfrs['economy_left'][i]=dfrs['economy'][i]\n",
    "    if(pd.isnull(dfrs.iloc[i,35])):\n",
    "        dfrs['economy_right'][i]=dfrs['economy'][i]"
   ]
  },
  {
   "cell_type": "markdown",
   "id": "3ba90fbb",
   "metadata": {},
   "source": [
    "## Various bowlers in Innings 1"
   ]
  },
  {
   "cell_type": "code",
   "execution_count": 9,
   "id": "d9f7ac48",
   "metadata": {},
   "outputs": [],
   "source": [
    "bowllp=[]\n",
    "for i in range(len(dflp)):\n",
    "    if(dflp['inning_number'][i]==2.0):\n",
    "        bowllp.append(dflp['Bowler'][i])\n",
    "    \n",
    "\n",
    "bowlls=[]\n",
    "for i in range(len(dfls)):\n",
    "    if(dfls['inning_number'][i]==2.0):\n",
    "        bowlls.append(dfls['Bowler'][i])\n",
    "\n",
    "bowlrp=[]\n",
    "for i in range(len(dfrp)):\n",
    "    if(dfrp['inning_number'][i]==2.0):\n",
    "        bowlrp.append(dfrp['Bowler'][i])\n",
    "\n",
    "bowlrs=[]\n",
    "for i in range(len(dfrs)):\n",
    "    if(dfrs['inning_number'][i]==2.0):\n",
    "        bowlrs.append(dfrs['Bowler'][i])"
   ]
  },
  {
   "cell_type": "markdown",
   "id": "f7834ace",
   "metadata": {},
   "source": [
    "# Analysis on the economy of the bowlers "
   ]
  },
  {
   "cell_type": "code",
   "execution_count": 10,
   "id": "c7aa2c24",
   "metadata": {},
   "outputs": [],
   "source": [
    "ecolp=[]\n",
    "for i in range(len(dflp)):\n",
    "    if(dflp['inning_number'][i]==2.0):\n",
    "        ecolp.append(dflp['economy'][i])\n",
    "ecols=[]\n",
    "for i in range(len(dfls)):\n",
    "    if(dfls['inning_number'][i]==2.0):\n",
    "        ecols.append(dfls['economy'][i])\n",
    "ecorp=[]\n",
    "for i in range(len(dfrp)):\n",
    "    if(dfrp['inning_number'][i]==2.0):\n",
    "        ecorp.append(dfrp['economy'][i])      \n",
    "ecors=[]\n",
    "for i in range(len(dfrs)):\n",
    "    if(dfrs['inning_number'][i]==2.0):\n",
    "        ecors.append(dfrs['economy'][i])"
   ]
  },
  {
   "cell_type": "code",
   "execution_count": 11,
   "id": "b9ee6b3f",
   "metadata": {},
   "outputs": [
    {
     "name": "stdout",
     "output_type": "stream",
     "text": [
      "No. of left hand pacers: 83\n",
      "No. of left hand spinners: 126\n",
      "No. of right hand pacers: 527\n",
      "No. of right hand spinners: 289\n",
      "\n",
      "\n",
      "\n",
      "Percentage of left hand bowlers: 20.390243902439025\n",
      "Percentage of right hand bowlers: 79.60975609756098\n"
     ]
    }
   ],
   "source": [
    "print(\"No. of left hand pacers:\",len(bowllp))\n",
    "print(\"No. of left hand spinners:\",len(bowlls))\n",
    "print(\"No. of right hand pacers:\",len(bowlrp))\n",
    "print(\"No. of right hand spinners:\",len(bowlrs))\n",
    "\n",
    "print(\"\\n\\n\")\n",
    "\n",
    "tot=len(bowllp)+len(bowlls)+len(bowlrp)+len(bowlrs)\n",
    "print(\"Percentage of left hand bowlers:\", (len(bowllp)*100+len(bowlls)*100)/tot)\n",
    "print(\"Percentage of right hand bowlers:\", (len(bowlrp)*100+len(bowlrs)*100)/tot)"
   ]
  },
  {
   "cell_type": "code",
   "execution_count": 12,
   "id": "961c1e10",
   "metadata": {},
   "outputs": [],
   "source": [
    "# plt.figure(figsize=(20,10))\n",
    "# plt.title('Economy of left handed pacers')\n",
    "# tips={'bowlers': bowllp, 'eco' : ecolp}\n",
    "# tips=pd.DataFrame(tips)\n",
    "# sns.set_theme(style=\"whitegrid\")\n",
    "# ax=sns.barplot(x='bowlers', y=\"eco\", data=tips)\n",
    "# ax.set(xlabel='BOWLER LIST', ylabel='ECONOMY')\n",
    "# cv=ax.set_xticklabels(labels=bowllp, rotation=90)"
   ]
  },
  {
   "cell_type": "code",
   "execution_count": 13,
   "id": "42637681",
   "metadata": {},
   "outputs": [],
   "source": [
    "# plt.figure(figsize=(30,15))\n",
    "# plt.title('Economy of left handed spinners')\n",
    "# tips={'bowlers': bowlls, 'eco' : ecols}\n",
    "# tips=pd.DataFrame(tips)\n",
    "# sns.set_theme(style=\"whitegrid\")\n",
    "# ax=sns.barplot(x='bowlers', y=\"eco\", data=tips)\n",
    "# ax.set(xlabel='BOWLER LIST', ylabel='ECONOMY')\n",
    "# cv=ax.set_xticklabels(labels=bowlls, rotation=90)"
   ]
  },
  {
   "cell_type": "code",
   "execution_count": 14,
   "id": "49566b08",
   "metadata": {},
   "outputs": [],
   "source": [
    "# plt.figure(figsize=(40,20))\n",
    "# plt.title('Economy of right handed pacers')\n",
    "# tips={'bowlers': bowlrp, 'eco' : ecorp}\n",
    "# tips=pd.DataFrame(tips)\n",
    "# sns.set_theme(style=\"whitegrid\")\n",
    "# ax=sns.barplot(x='bowlers', y=\"eco\", data=tips)\n",
    "# ax.set(xlabel='BOWLER LIST', ylabel='ECONOMY')\n",
    "# cv=ax.set_xticklabels(labels=bowlrp, rotation=90)"
   ]
  },
  {
   "cell_type": "code",
   "execution_count": 15,
   "id": "4ec08f44",
   "metadata": {},
   "outputs": [],
   "source": [
    "# plt.figure(figsize=(35,20))\n",
    "# plt.title('Economy of right handed spinners')\n",
    "# tips={'bowlers': bowlrs, 'eco' : ecors}\n",
    "# tips=pd.DataFrame(tips)\n",
    "# sns.set_theme(style=\"whitegrid\")\n",
    "# ax=sns.barplot(x='bowlers', y=\"eco\", data=tips)\n",
    "# ax.set(xlabel='BOWLER LIST', ylabel='ECONOMY')\n",
    "# cv=ax.set_xticklabels(labels=bowlrs, rotation=90)"
   ]
  },
  {
   "cell_type": "code",
   "execution_count": 16,
   "id": "5c538d06",
   "metadata": {},
   "outputs": [],
   "source": [
    "def coun(data):\n",
    "    con=0\n",
    "    for i in data:\n",
    "        if(i==np.nan):\n",
    "            con=con+1\n",
    "    return con\n",
    "            \n",
    "def variance(data):\n",
    "    n=len(data)\n",
    "    mean=sum(data)/n;\n",
    "    dev=[(x-mean)**2 for x in data]\n",
    "    var=sum(dev)/n\n",
    "    return var\n",
    "\n",
    "def stddev(data):\n",
    "    n=len(data)\n",
    "    var=variance(data)\n",
    "    return math.sqrt(var)"
   ]
  },
  {
   "cell_type": "code",
   "execution_count": 17,
   "id": "0dbecaa8",
   "metadata": {},
   "outputs": [
    {
     "name": "stdout",
     "output_type": "stream",
     "text": [
      "The mean economy of the bowlers of left pace are: 4.855477217239316\n",
      "The variance of economy of the bowlers of left pace are: 2.59365461034679\n",
      "The standard deviation of economy of the bowlers of left pace are: 1.6104827258765584\n"
     ]
    }
   ],
   "source": [
    "#variance and standard deviation for left pace\n",
    "print(\"The mean economy of the bowlers of left pace are:\",np.mean(ecolp))\n",
    "print(\"The variance of economy of the bowlers of left pace are:\",variance(ecolp))\n",
    "print(\"The standard deviation of economy of the bowlers of left pace are:\",stddev(ecolp))"
   ]
  },
  {
   "cell_type": "code",
   "execution_count": 18,
   "id": "b85d5b5e",
   "metadata": {},
   "outputs": [
    {
     "name": "stdout",
     "output_type": "stream",
     "text": [
      "The mean economy of the bowlers of left spin are: 5.0949725863031565\n",
      "The variance of economy of the bowlers of left spin are: 4.163078332042895\n",
      "The standard deviation of economy of the bowlers of left spin are: 2.040362304112408\n"
     ]
    }
   ],
   "source": [
    "#variance and standard deviation for left spin\n",
    "print(\"The mean economy of the bowlers of left spin are:\",np.mean(ecols))\n",
    "print(\"The variance of economy of the bowlers of left spin are:\",variance(ecols))\n",
    "print(\"The standard deviation of economy of the bowlers of left spin are:\",stddev(ecols))"
   ]
  },
  {
   "cell_type": "code",
   "execution_count": 19,
   "id": "4bee0136",
   "metadata": {},
   "outputs": [
    {
     "name": "stdout",
     "output_type": "stream",
     "text": [
      "The mean economy of the bowlers of right pace are: 5.210232567907454\n",
      "The variance of economy of the bowlers of right pace are: 3.6675763763061755\n",
      "The standard deviation of economy of the bowlers of right pace are: 1.9150917409633867\n"
     ]
    }
   ],
   "source": [
    "#variance and standard deviation for right pace\n",
    "print(\"The mean economy of the bowlers of right pace are:\",np.mean(ecorp))\n",
    "print(\"The variance of economy of the bowlers of right pace are:\",variance(ecorp))\n",
    "print(\"The standard deviation of economy of the bowlers of right pace are:\",stddev(ecorp))"
   ]
  },
  {
   "cell_type": "code",
   "execution_count": 20,
   "id": "70e20c27",
   "metadata": {},
   "outputs": [
    {
     "name": "stdout",
     "output_type": "stream",
     "text": [
      "The mean economy of the bowlers of right spin are: 5.095389679552598\n",
      "The variance of economy of the bowlers of right spin are: 3.73017675923574\n",
      "The standard deviation of economy of the bowlers of right spin are: 1.9313665522721832\n"
     ]
    }
   ],
   "source": [
    "#variance and standard deviation for right spin\n",
    "print(\"The mean economy of the bowlers of right spin are:\",np.mean(ecors))\n",
    "print(\"The variance of economy of the bowlers of right spin are:\",variance(ecors))\n",
    "print(\"The standard deviation of economy of the bowlers of right spin are:\",stddev(ecors))"
   ]
  },
  {
   "cell_type": "code",
   "execution_count": 24,
   "id": "866b2ba5",
   "metadata": {},
   "outputs": [
    {
     "name": "stdout",
     "output_type": "stream",
     "text": [
      "Ttest_indResult(statistic=-0.0019393052341414741, pvalue=0.9984543678958356)\n",
      "Ttest_indResult(statistic=-0.5743133101250286, pvalue=0.5664691234434986)\n",
      "Ttest_indResult(statistic=0.9398513424109556, pvalue=0.34842708696913793)\n"
     ]
    }
   ],
   "source": [
    "################ double tailed t-test #####################\n",
    "print(stats.ttest_ind(a=ecols, b=ecors, equal_var=False, random_state=1))\n",
    "print(stats.ttest_ind(a=ecols, b=ecorp, equal_var=False, random_state=1))\n",
    "print(stats.ttest_ind(a=ecols, b=ecolp, equal_var=False, random_state=1))\n",
    "################         end          #####################"
   ]
  },
  {
   "cell_type": "code",
   "execution_count": 25,
   "id": "8798f1ab",
   "metadata": {},
   "outputs": [
    {
     "name": "stdout",
     "output_type": "stream",
     "text": [
      "83\n",
      "126\n",
      "527\n",
      "289\n"
     ]
    }
   ],
   "source": [
    "print(len(ecolp))\n",
    "print(len(ecols))\n",
    "print(len(ecorp))\n",
    "print(len(ecors))"
   ]
  },
  {
   "cell_type": "code",
   "execution_count": 26,
   "id": "27bccb01",
   "metadata": {},
   "outputs": [],
   "source": [
    "# fig = plt.figure(figsize =(10, 7))\n",
    "# ax = fig.add_subplot(111)\n",
    " \n",
    "# # Creating axes instance\n",
    "# bp = ax.boxplot([ecolp,ecols,ecorp,ecors], patch_artist = True,notch ='True', vert = 0)\n",
    " \n",
    "# colors = ['#0000FF', '#00FF00', '#FFFF00', '#FF00FF']\n",
    " \n",
    "# for patch, color in zip(bp['boxes'], colors):\n",
    "#     patch.set_facecolor(color)\n",
    "\n",
    "# #whiskers\n",
    "# for whisker in bp['whiskers']:\n",
    "#     whisker.set(color ='#8B008B',linewidth = 1.5,linestyle =\":\")\n",
    "\n",
    "# #caps\n",
    "# for cap in bp['caps']:\n",
    "#     cap.set(color ='#8B008B',linewidth = 2)\n",
    "\n",
    "# for median in bp['medians']:\n",
    "#     median.set(color ='red',linewidth = 3)\n",
    "\n",
    "# # changing style of fliers\n",
    "# for flier in bp['fliers']:\n",
    "#     flier.set(marker ='D',color ='#e7298a',alpha = 0.5)\n",
    "     \n",
    "# # x-axis labels\n",
    "# ax.set_yticklabels(['Left pace', 'Left spin','Right pace', 'Right Spin'])\n",
    " \n",
    "# # Adding title\n",
    "# plt.title(\"Average economy of different types of bowlers\")\n",
    " \n",
    "# # Removing top axes and right axes\n",
    "# # ticks\n",
    "# ax.get_xaxis().tick_bottom()\n",
    "# ax.get_yaxis().tick_left()\n",
    "# ax.set(xlabel='ECONOMY', ylabel='TYPE OF BOWLER')\n",
    "# # show plot\n",
    "# plt.show()"
   ]
  },
  {
   "cell_type": "markdown",
   "id": "517e62b4",
   "metadata": {},
   "source": [
    "# Some inferences drawn\n",
    "> The no. of right handed bowlers (=79%) are much more than the number of left handed bowlers (=21%)\n",
    "\n",
    "> The economy of left handed pacers is the least (4.85) among all the four types of bowlers \n",
    "\n",
    "> On the whole, the economy of left handed bowlers is a bit compared to the economy of right handed bowlers"
   ]
  },
  {
   "cell_type": "markdown",
   "id": "80e62262",
   "metadata": {},
   "source": [
    "# Analysis on the economy of the bowlers on left handed batsman"
   ]
  },
  {
   "cell_type": "code",
   "execution_count": 27,
   "id": "2ddf30f9",
   "metadata": {},
   "outputs": [],
   "source": [
    "ecolp=[]\n",
    "for i in range(len(dflp)):\n",
    "    if(dflp['inning_number'][i]==2.0):\n",
    "        ecolp.append(dflp['economy_left'][i])\n",
    "ecols=[]\n",
    "for i in range(len(dfls)):\n",
    "    if(dfls['inning_number'][i]==2.0):\n",
    "        ecols.append(dfls['economy_left'][i])\n",
    "ecorp=[]\n",
    "for i in range(len(dfrp)):\n",
    "    if(dfrp['inning_number'][i]==2.0):\n",
    "        ecorp.append(dfrp['economy_left'][i])\n",
    "        \n",
    "ecors=[]\n",
    "for i in range(len(dfrs)):\n",
    "    if(dfrs['inning_number'][i]==2.0):\n",
    "        ecors.append(dfrs['economy_left'][i])"
   ]
  },
  {
   "cell_type": "code",
   "execution_count": 28,
   "id": "55811500",
   "metadata": {},
   "outputs": [],
   "source": [
    "# plt.figure(figsize=(20,10))\n",
    "# plt.title('Economy of left handed pacers vs. left handed batsman')\n",
    "# tips={'bowlers': bowllp, 'eco' : ecolp}\n",
    "# tips=pd.DataFrame(tips)\n",
    "# sns.set_theme(style=\"whitegrid\")\n",
    "# ax=sns.barplot(x='bowlers', y=\"eco\", data=tips)\n",
    "# ax.set(xlabel='BOWLER LIST', ylabel='ECONOMY')\n",
    "# cv=ax.set_xticklabels(labels=bowllp, rotation=90)"
   ]
  },
  {
   "cell_type": "code",
   "execution_count": 29,
   "id": "885853d1",
   "metadata": {},
   "outputs": [],
   "source": [
    "# plt.figure(figsize=(30,15))\n",
    "# plt.title('Economy of left handed spinners vs. left handed batsman')\n",
    "# tips={'bowlers': bowlls, 'eco' : ecols}\n",
    "# tips=pd.DataFrame(tips)\n",
    "# sns.set_theme(style=\"whitegrid\")\n",
    "# ax=sns.barplot(x='bowlers', y=\"eco\", data=tips)\n",
    "# ax.set(xlabel='BOWLER LIST', ylabel='ECONOMY')\n",
    "# cv=ax.set_xticklabels(labels=bowlls, rotation=90)"
   ]
  },
  {
   "cell_type": "code",
   "execution_count": 30,
   "id": "9708f4f2",
   "metadata": {},
   "outputs": [],
   "source": [
    "# plt.figure(figsize=(40,20))\n",
    "# plt.title('Economy of right handed pacers vs. left handed batsman')\n",
    "# tips={'bowlers': bowlrp, 'eco' : ecorp}\n",
    "# tips=pd.DataFrame(tips)\n",
    "# sns.set_theme(style=\"whitegrid\")\n",
    "# ax=sns.barplot(x='bowlers', y=\"eco\", data=tips)\n",
    "# ax.set(xlabel='BOWLER LIST', ylabel='ECONOMY')\n",
    "# cv=ax.set_xticklabels(labels=bowlrp, rotation=90)"
   ]
  },
  {
   "cell_type": "code",
   "execution_count": 31,
   "id": "885490b9",
   "metadata": {},
   "outputs": [],
   "source": [
    "# plt.figure(figsize=(35,20))\n",
    "# plt.title('Economy of right handed spinners vs. left handed batsman')\n",
    "# tips={'bowlers': bowlrs, 'eco' : ecors}\n",
    "# tips=pd.DataFrame(tips)\n",
    "# sns.set_theme(style=\"whitegrid\")\n",
    "# ax=sns.barplot(x='bowlers', y=\"eco\", data=tips)\n",
    "# ax.set(xlabel='BOWLER LIST', ylabel='ECONOMY')\n",
    "# cv=ax.set_xticklabels(labels=bowlrs, rotation=90)"
   ]
  },
  {
   "cell_type": "code",
   "execution_count": 32,
   "id": "d307f2ea",
   "metadata": {},
   "outputs": [
    {
     "name": "stdout",
     "output_type": "stream",
     "text": [
      "The mean economy of the bowlers of left pace vs. left handed batsman are: 4.664490896147099\n",
      "The variance of economy of the bowlers of left pace vs. left handed batsman are: 3.1249639991138727\n",
      "The standard deviation of economy of the bowlers of left pace vs. left handed batsman are: 1.7677567703487582\n"
     ]
    }
   ],
   "source": [
    "#variance and standard deviation for left pace\n",
    "print(\"The mean economy of the bowlers of left pace vs. left handed batsman are:\",np.mean(ecolp))\n",
    "print(\"The variance of economy of the bowlers of left pace vs. left handed batsman are:\",variance(ecolp))\n",
    "print(\"The standard deviation of economy of the bowlers of left pace vs. left handed batsman are:\",stddev(ecolp))"
   ]
  },
  {
   "cell_type": "code",
   "execution_count": 33,
   "id": "f0fef181",
   "metadata": {},
   "outputs": [
    {
     "name": "stdout",
     "output_type": "stream",
     "text": [
      "The mean economy of the bowlers of left spin vs. left handed batsman are: 4.827154672056787\n",
      "The variance of economy of the bowlers of left spin vs. left handed batsman are: 3.691652231762585\n",
      "The standard deviation of economy of the bowlers of left spin vs. left handed batsman are: 1.921367281849721\n"
     ]
    }
   ],
   "source": [
    "#variance and standard deviation for left spin\n",
    "print(\"The mean economy of the bowlers of left spin vs. left handed batsman are:\",np.mean(ecols))\n",
    "print(\"The variance of economy of the bowlers of left spin vs. left handed batsman are:\",variance(ecols))\n",
    "print(\"The standard deviation of economy of the bowlers of left spin vs. left handed batsman are:\",stddev(ecols))"
   ]
  },
  {
   "cell_type": "code",
   "execution_count": 34,
   "id": "42a7a380",
   "metadata": {},
   "outputs": [
    {
     "name": "stdout",
     "output_type": "stream",
     "text": [
      "The mean economy of the bowlers of right pace vs. left handed batsman are: 5.012435106561808\n",
      "The variance of economy of the bowlers of right pace vs. left handed batsman are: 5.212047606485919\n",
      "The standard deviation of economy of the bowlers of right pace vs. left handed batsman are: 2.2829909343853996\n"
     ]
    }
   ],
   "source": [
    "#variance and standard deviation for right pace\n",
    "print(\"The mean economy of the bowlers of right pace vs. left handed batsman are:\",np.mean(ecorp))\n",
    "print(\"The variance of economy of the bowlers of right pace vs. left handed batsman are:\",variance(ecorp))\n",
    "print(\"The standard deviation of economy of the bowlers of right pace vs. left handed batsman are:\",stddev(ecorp))"
   ]
  },
  {
   "cell_type": "code",
   "execution_count": 35,
   "id": "b7f559c2",
   "metadata": {},
   "outputs": [
    {
     "name": "stdout",
     "output_type": "stream",
     "text": [
      "The mean economy of the bowlers of right spin vs. left handed batsman are: 4.722675704908262\n",
      "The variance of economy of the bowlers of right spin vs. left handed batsman are: 4.082294607054413\n",
      "The standard deviation of economy of the bowlers of right spin vs. left handed batsman are: 2.020468907717813\n"
     ]
    }
   ],
   "source": [
    "#variance and standard deviation for right pace\n",
    "print(\"The mean economy of the bowlers of right spin vs. left handed batsman are:\",np.mean(ecors))\n",
    "print(\"The variance of economy of the bowlers of right spin vs. left handed batsman are:\",variance(ecors))\n",
    "print(\"The standard deviation of economy of the bowlers of right spin vs. left handed batsman are:\",stddev(ecors))"
   ]
  },
  {
   "cell_type": "code",
   "execution_count": 37,
   "id": "d45a04d7",
   "metadata": {},
   "outputs": [
    {
     "name": "stdout",
     "output_type": "stream",
     "text": [
      "Ttest_indResult(statistic=0.4997457842393416, pvalue=0.6176955856150257)\n",
      "Ttest_indResult(statistic=-0.932931594369308, pvalue=0.3518914803222557)\n",
      "Ttest_indResult(statistic=0.6254331724015486, pvalue=0.5324561913227486)\n"
     ]
    }
   ],
   "source": [
    "################ double tailed t-test #####################\n",
    "print(stats.ttest_ind(a=ecols, b=ecors, equal_var=False, random_state=1))\n",
    "print(stats.ttest_ind(a=ecols, b=ecorp, equal_var=False, random_state=1))\n",
    "print(stats.ttest_ind(a=ecols, b=ecolp, equal_var=False, random_state=1))\n",
    "################         end          #####################"
   ]
  },
  {
   "cell_type": "code",
   "execution_count": 38,
   "id": "3ff5149a",
   "metadata": {},
   "outputs": [
    {
     "name": "stdout",
     "output_type": "stream",
     "text": [
      "83\n",
      "126\n",
      "527\n",
      "289\n"
     ]
    }
   ],
   "source": [
    "print(len(ecolp))\n",
    "print(len(ecols))\n",
    "print(len(ecorp))\n",
    "print(len(ecors))"
   ]
  },
  {
   "cell_type": "markdown",
   "id": "52b890e7",
   "metadata": {},
   "source": [
    "# Some inferences drawn\n",
    "> The economy of left handed pacers against left handed batsman is the least (4.66) among all the four types of bowlers \n",
    "\n",
    "> On the whole, the economy of left handed bowlers is comparable to the economy of right handed bowlers against left handed batsman"
   ]
  },
  {
   "cell_type": "markdown",
   "id": "a8a06e1e",
   "metadata": {},
   "source": [
    "# Analysis on the economy of the bowlers on right handed batsman"
   ]
  },
  {
   "cell_type": "code",
   "execution_count": 39,
   "id": "113bb854",
   "metadata": {},
   "outputs": [],
   "source": [
    "ecolp=[]\n",
    "for i in range(len(dflp)):\n",
    "    if(dflp['inning_number'][i]==2.0):\n",
    "        ecolp.append(dflp['economy_right'][i])\n",
    "ecols=[]\n",
    "for i in range(len(dfls)):\n",
    "    if(dfls['inning_number'][i]==2.0):\n",
    "        ecols.append(dfls['economy_right'][i])\n",
    "ecorp=[]\n",
    "for i in range(len(dfrp)):\n",
    "    if(dfrp['inning_number'][i]==2.0):\n",
    "        ecorp.append(dfrp['economy_right'][i])\n",
    "        \n",
    "ecors=[]\n",
    "for i in range(len(dfrs)):\n",
    "    if(dfrs['inning_number'][i]==2.0):\n",
    "        ecors.append(dfrs['economy_right'][i])"
   ]
  },
  {
   "cell_type": "code",
   "execution_count": 40,
   "id": "2e432952",
   "metadata": {},
   "outputs": [],
   "source": [
    "# plt.figure(figsize=(20,10))\n",
    "# plt.title('Economy of left handed pacers vs. right handed batsman')\n",
    "# tips={'bowlers': bowllp, 'eco' : ecolp}\n",
    "# tips=pd.DataFrame(tips)\n",
    "# sns.set_theme(style=\"whitegrid\")\n",
    "# ax=sns.barplot(x='bowlers', y=\"eco\", data=tips)\n",
    "# ax.set(xlabel='BOWLER LIST', ylabel='ECONOMY')\n",
    "# cv=ax.set_xticklabels(labels=bowllp, rotation=90)"
   ]
  },
  {
   "cell_type": "code",
   "execution_count": 41,
   "id": "0761abfa",
   "metadata": {},
   "outputs": [],
   "source": [
    "# plt.figure(figsize=(30,15))\n",
    "# plt.title('Economy of left handed spinners vs. right handed batsman')\n",
    "# tips={'bowlers': bowlls, 'eco' : ecols}\n",
    "# tips=pd.DataFrame(tips)\n",
    "# sns.set_theme(style=\"whitegrid\")\n",
    "# ax=sns.barplot(x='bowlers', y=\"eco\", data=tips)\n",
    "# ax.set(xlabel='BOWLER LIST', ylabel='ECONOMY')\n",
    "# cv=ax.set_xticklabels(labels=bowlls, rotation=90)"
   ]
  },
  {
   "cell_type": "code",
   "execution_count": 42,
   "id": "e1380983",
   "metadata": {},
   "outputs": [],
   "source": [
    "# plt.figure(figsize=(40,20))\n",
    "# plt.title('Economy of right handed pacers vs. right handed batsman')\n",
    "# tips={'bowlers': bowlrp, 'eco' : ecorp}\n",
    "# tips=pd.DataFrame(tips)\n",
    "# sns.set_theme(style=\"whitegrid\")\n",
    "# ax=sns.barplot(x='bowlers', y=\"eco\", data=tips)\n",
    "# ax.set(xlabel='BOWLER LIST', ylabel='ECONOMY')\n",
    "# cv=ax.set_xticklabels(labels=bowlrp, rotation=90)"
   ]
  },
  {
   "cell_type": "code",
   "execution_count": 43,
   "id": "c3ddf2bf",
   "metadata": {},
   "outputs": [],
   "source": [
    "# plt.figure(figsize=(35,20))\n",
    "# plt.title('Economy of right handed spinners vs. right handed batsman')\n",
    "# tips={'bowlers': bowlrs, 'eco' : ecors}\n",
    "# tips=pd.DataFrame(tips)\n",
    "# sns.set_theme(style=\"whitegrid\")\n",
    "# ax=sns.barplot(x='bowlers', y=\"eco\", data=tips)\n",
    "# ax.set(xlabel='BOWLER LIST', ylabel='ECONOMY')\n",
    "# cv=ax.set_xticklabels(labels=bowlrs, rotation=90)"
   ]
  },
  {
   "cell_type": "code",
   "execution_count": 44,
   "id": "3e81361b",
   "metadata": {},
   "outputs": [
    {
     "name": "stdout",
     "output_type": "stream",
     "text": [
      "The mean economy of the bowlers of left pace vs. right handed batsman are: 4.654744990196929\n",
      "The variance of economy of the bowlers of left pace vs. right handed batsman are: 3.0002398144118207\n",
      "The standard deviation of economy of the bowlers of left pace vs. right handed batsman are: 1.7321200346430443\n"
     ]
    }
   ],
   "source": [
    "#variance and standard deviation for left pace\n",
    "print(\"The mean economy of the bowlers of left pace vs. right handed batsman are:\",np.mean(ecolp))\n",
    "print(\"The variance of economy of the bowlers of left pace vs. right handed batsman are:\",variance(ecolp))\n",
    "print(\"The standard deviation of economy of the bowlers of left pace vs. right handed batsman are:\",stddev(ecolp))"
   ]
  },
  {
   "cell_type": "code",
   "execution_count": 45,
   "id": "5ba78004",
   "metadata": {},
   "outputs": [
    {
     "name": "stdout",
     "output_type": "stream",
     "text": [
      "The mean economy of the bowlers of left spin vs. right handed batsman are: 4.928970704478461\n",
      "The variance of economy of the bowlers of left spin vs. right handed batsman are: 6.280111285398697\n",
      "The standard deviation of economy of the bowlers of left spin vs. right handed batsman are: 2.5060150209842513\n"
     ]
    }
   ],
   "source": [
    "#variance and standard deviation for left spin\n",
    "print(\"The mean economy of the bowlers of left spin vs. right handed batsman are:\",np.mean(ecols))\n",
    "print(\"The variance of economy of the bowlers of left spin vs. right handed batsman are:\",variance(ecols))\n",
    "print(\"The standard deviation of economy of the bowlers of left spin vs. right handed batsman are:\",stddev(ecols))"
   ]
  },
  {
   "cell_type": "code",
   "execution_count": 46,
   "id": "e5e79227",
   "metadata": {},
   "outputs": [
    {
     "name": "stdout",
     "output_type": "stream",
     "text": [
      "The mean economy of the bowlers of right pace vs. right handed batsman are: 4.936767520792674\n",
      "The variance of economy of the bowlers of right pace vs. right handed batsman are: 5.610234200168739\n",
      "The standard deviation of economy of the bowlers of right pace vs. right handed batsman are: 2.368593295643796\n"
     ]
    }
   ],
   "source": [
    "#variance and standard deviation for right pace\n",
    "print(\"The mean economy of the bowlers of right pace vs. right handed batsman are:\",np.mean(ecorp))\n",
    "print(\"The variance of economy of the bowlers of right pace vs. right handed batsman are:\",variance(ecorp))\n",
    "print(\"The standard deviation of economy of the bowlers of right pace vs. right handed batsman are:\",stddev(ecorp))"
   ]
  },
  {
   "cell_type": "code",
   "execution_count": 47,
   "id": "618ae845",
   "metadata": {},
   "outputs": [
    {
     "name": "stdout",
     "output_type": "stream",
     "text": [
      "The mean economy of the bowlers of right spin vs. right handed batsman are: 5.04904020397268\n",
      "The variance of economy of the bowlers of right spin vs. right handed batsman are: 6.2046370380166955\n",
      "The standard deviation of economy of the bowlers of right spin vs. right handed batsman are: 2.490910885201776\n"
     ]
    }
   ],
   "source": [
    "#variance and standard deviation for right pace\n",
    "print(\"The mean economy of the bowlers of right spin vs. right handed batsman are:\",np.mean(ecors))\n",
    "print(\"The variance of economy of the bowlers of right spin vs. right handed batsman are:\",variance(ecors))\n",
    "print(\"The standard deviation of economy of the bowlers of right spin vs. right handed batsman are:\",stddev(ecors))"
   ]
  },
  {
   "cell_type": "code",
   "execution_count": 49,
   "id": "18974728",
   "metadata": {},
   "outputs": [
    {
     "name": "stdout",
     "output_type": "stream",
     "text": [
      "Ttest_indResult(statistic=-0.44814292768409586, pvalue=0.6544606145424925)\n",
      "Ttest_indResult(statistic=-0.03159254727470008, pvalue=0.9748316510143978)\n",
      "Ttest_indResult(statistic=0.9306263064903124, pvalue=0.35313383703743817)\n"
     ]
    }
   ],
   "source": [
    "################ double tailed t-test #####################\n",
    "print(stats.ttest_ind(a=ecols, b=ecors, equal_var=False, random_state=1))\n",
    "print(stats.ttest_ind(a=ecols, b=ecorp, equal_var=False, random_state=1))\n",
    "print(stats.ttest_ind(a=ecols, b=ecolp, equal_var=False, random_state=1))\n",
    "################         end          #####################"
   ]
  },
  {
   "cell_type": "code",
   "execution_count": 45,
   "id": "13b08292",
   "metadata": {},
   "outputs": [
    {
     "name": "stdout",
     "output_type": "stream",
     "text": [
      "83\n",
      "126\n",
      "527\n",
      "289\n"
     ]
    }
   ],
   "source": [
    "print(len(ecolp))\n",
    "print(len(ecols))\n",
    "print(len(ecorp))\n",
    "print(len(ecors))"
   ]
  },
  {
   "cell_type": "markdown",
   "id": "917aa561",
   "metadata": {},
   "source": [
    "# Some inferences drawn\n",
    "> The economy of left handed pacers against right handed batsman is the least (4.65) among all the four types of bowlers \n",
    "\n",
    "> On the whole, the economy of left handed bowlers is a bit lower compared to the economy of right handed bowlers against right handed batsman"
   ]
  },
  {
   "cell_type": "markdown",
   "id": "8f26c361",
   "metadata": {},
   "source": [
    "### On the whole, it can be seen that the runs per over made by right handed batsman is almost equal to that of left handed batsman"
   ]
  },
  {
   "cell_type": "markdown",
   "id": "37bd73b4",
   "metadata": {},
   "source": [
    "# Innings 1 vs Innings 2\n",
    "\n",
    "> The economy of bowlers in innings 2 is better than innings 1\n",
    "\n",
    "> The left pacer in innings 2 has the least avg. economy vs. left spinner in innings 1\n",
    "\n",
    "> The economy of four types of bowlers is almost equal in innings 2 compared to thier economy in innings 1"
   ]
  }
 ],
 "metadata": {
  "kernelspec": {
   "display_name": "Python 3 (ipykernel)",
   "language": "python",
   "name": "python3"
  },
  "language_info": {
   "codemirror_mode": {
    "name": "ipython",
    "version": 3
   },
   "file_extension": ".py",
   "mimetype": "text/x-python",
   "name": "python",
   "nbconvert_exporter": "python",
   "pygments_lexer": "ipython3",
   "version": "3.9.12"
  }
 },
 "nbformat": 4,
 "nbformat_minor": 5
}
