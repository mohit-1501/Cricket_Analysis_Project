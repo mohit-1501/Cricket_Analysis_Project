{
 "cells": [
  {
   "cell_type": "markdown",
   "id": "f30c79cd",
   "metadata": {},
   "source": [
    "# Importing the necessary libraries and data"
   ]
  },
  {
   "cell_type": "code",
   "execution_count": 1,
   "id": "cdfdb01a",
   "metadata": {},
   "outputs": [],
   "source": [
    "import pandas as pd\n",
    "import numpy as np\n",
    "import matplotlib.pyplot as plt \n",
    "import os\n",
    "import glob\n",
    "import shutil\n",
    "import seaborn as sns\n",
    "import math\n",
    "import scipy.stats as stats"
   ]
  },
  {
   "cell_type": "code",
   "execution_count": 2,
   "id": "2008568c",
   "metadata": {},
   "outputs": [],
   "source": [
    "dflp=pd.read_csv(r\"C:\\ime_project\\left-right\\file2_elaborated_bowlers_perspective\\leftpace_aggr.csv\")\n",
    "dfls=pd.read_csv(r\"C:\\ime_project\\left-right\\file2_elaborated_bowlers_perspective\\leftspin_aggr.csv\")\n",
    "dfrp=pd.read_csv(r\"C:\\ime_project\\left-right\\file2_elaborated_bowlers_perspective\\rightpace_aggr.csv\")\n",
    "dfrs=pd.read_csv(r\"C:\\ime_project\\left-right\\file2_elaborated_bowlers_perspective\\rightspin_aggr.csv\")"
   ]
  },
  {
   "cell_type": "code",
   "execution_count": 3,
   "id": "16f27b32",
   "metadata": {},
   "outputs": [
    {
     "data": {
      "text/html": [
       "<div>\n",
       "<style scoped>\n",
       "    .dataframe tbody tr th:only-of-type {\n",
       "        vertical-align: middle;\n",
       "    }\n",
       "\n",
       "    .dataframe tbody tr th {\n",
       "        vertical-align: top;\n",
       "    }\n",
       "\n",
       "    .dataframe thead th {\n",
       "        text-align: right;\n",
       "    }\n",
       "</style>\n",
       "<table border=\"1\" class=\"dataframe\">\n",
       "  <thead>\n",
       "    <tr style=\"text-align: right;\">\n",
       "      <th></th>\n",
       "      <th>inning_number</th>\n",
       "      <th>Bowler</th>\n",
       "      <th>Runs_Conceded</th>\n",
       "      <th>total_deliveries</th>\n",
       "      <th>runs_left</th>\n",
       "      <th>runs_right</th>\n",
       "      <th>delivery_left</th>\n",
       "      <th>delivery_right</th>\n",
       "      <th>wickets_taken</th>\n",
       "      <th>wickets_left</th>\n",
       "      <th>...</th>\n",
       "      <th>bowled</th>\n",
       "      <th>caught</th>\n",
       "      <th>lbw</th>\n",
       "      <th>runout</th>\n",
       "      <th>stumped</th>\n",
       "      <th>economy</th>\n",
       "      <th>economy_left</th>\n",
       "      <th>economy_right</th>\n",
       "      <th>bowler_hand</th>\n",
       "      <th>bowler_type</th>\n",
       "    </tr>\n",
       "  </thead>\n",
       "  <tbody>\n",
       "    <tr>\n",
       "      <th>0</th>\n",
       "      <td>1.0</td>\n",
       "      <td>A Nehra</td>\n",
       "      <td>709.0</td>\n",
       "      <td>718.0</td>\n",
       "      <td>335.0</td>\n",
       "      <td>341.0</td>\n",
       "      <td>349.0</td>\n",
       "      <td>369.0</td>\n",
       "      <td>28.0</td>\n",
       "      <td>19.0</td>\n",
       "      <td>...</td>\n",
       "      <td>2.0</td>\n",
       "      <td>18.0</td>\n",
       "      <td>3.0</td>\n",
       "      <td>0.0</td>\n",
       "      <td>0.0</td>\n",
       "      <td>5.924791</td>\n",
       "      <td>5.759312</td>\n",
       "      <td>5.544715</td>\n",
       "      <td>left</td>\n",
       "      <td>pace</td>\n",
       "    </tr>\n",
       "    <tr>\n",
       "      <th>1</th>\n",
       "      <td>1.0</td>\n",
       "      <td>AJ McKay</td>\n",
       "      <td>121.0</td>\n",
       "      <td>173.0</td>\n",
       "      <td>53.0</td>\n",
       "      <td>52.0</td>\n",
       "      <td>96.0</td>\n",
       "      <td>77.0</td>\n",
       "      <td>7.0</td>\n",
       "      <td>5.0</td>\n",
       "      <td>...</td>\n",
       "      <td>2.0</td>\n",
       "      <td>5.0</td>\n",
       "      <td>0.0</td>\n",
       "      <td>0.0</td>\n",
       "      <td>0.0</td>\n",
       "      <td>4.196532</td>\n",
       "      <td>3.312500</td>\n",
       "      <td>4.051948</td>\n",
       "      <td>left</td>\n",
       "      <td>pace</td>\n",
       "    </tr>\n",
       "    <tr>\n",
       "      <th>2</th>\n",
       "      <td>1.0</td>\n",
       "      <td>AK Peters</td>\n",
       "      <td>4.0</td>\n",
       "      <td>6.0</td>\n",
       "      <td>1.0</td>\n",
       "      <td>3.0</td>\n",
       "      <td>2.0</td>\n",
       "      <td>4.0</td>\n",
       "      <td>0.0</td>\n",
       "      <td>0.0</td>\n",
       "      <td>...</td>\n",
       "      <td>0.0</td>\n",
       "      <td>0.0</td>\n",
       "      <td>0.0</td>\n",
       "      <td>0.0</td>\n",
       "      <td>0.0</td>\n",
       "      <td>4.000000</td>\n",
       "      <td>3.000000</td>\n",
       "      <td>4.500000</td>\n",
       "      <td>left</td>\n",
       "      <td>pace</td>\n",
       "    </tr>\n",
       "    <tr>\n",
       "      <th>3</th>\n",
       "      <td>1.0</td>\n",
       "      <td>AM Guruge</td>\n",
       "      <td>27.0</td>\n",
       "      <td>32.0</td>\n",
       "      <td>9.0</td>\n",
       "      <td>16.0</td>\n",
       "      <td>12.0</td>\n",
       "      <td>20.0</td>\n",
       "      <td>1.0</td>\n",
       "      <td>1.0</td>\n",
       "      <td>...</td>\n",
       "      <td>0.0</td>\n",
       "      <td>1.0</td>\n",
       "      <td>0.0</td>\n",
       "      <td>0.0</td>\n",
       "      <td>0.0</td>\n",
       "      <td>5.062500</td>\n",
       "      <td>4.500000</td>\n",
       "      <td>4.800000</td>\n",
       "      <td>left</td>\n",
       "      <td>pace</td>\n",
       "    </tr>\n",
       "    <tr>\n",
       "      <th>4</th>\n",
       "      <td>1.0</td>\n",
       "      <td>APC Kilowan</td>\n",
       "      <td>20.0</td>\n",
       "      <td>42.0</td>\n",
       "      <td>5.0</td>\n",
       "      <td>9.0</td>\n",
       "      <td>20.0</td>\n",
       "      <td>22.0</td>\n",
       "      <td>0.0</td>\n",
       "      <td>0.0</td>\n",
       "      <td>...</td>\n",
       "      <td>0.0</td>\n",
       "      <td>0.0</td>\n",
       "      <td>0.0</td>\n",
       "      <td>0.0</td>\n",
       "      <td>0.0</td>\n",
       "      <td>2.857143</td>\n",
       "      <td>1.500000</td>\n",
       "      <td>2.454545</td>\n",
       "      <td>left</td>\n",
       "      <td>pace</td>\n",
       "    </tr>\n",
       "  </tbody>\n",
       "</table>\n",
       "<p>5 rows × 38 columns</p>\n",
       "</div>"
      ],
      "text/plain": [
       "   inning_number       Bowler  Runs_Conceded  total_deliveries  runs_left  \\\n",
       "0            1.0      A Nehra          709.0             718.0      335.0   \n",
       "1            1.0     AJ McKay          121.0             173.0       53.0   \n",
       "2            1.0    AK Peters            4.0               6.0        1.0   \n",
       "3            1.0    AM Guruge           27.0              32.0        9.0   \n",
       "4            1.0  APC Kilowan           20.0              42.0        5.0   \n",
       "\n",
       "   runs_right  delivery_left  delivery_right  wickets_taken  wickets_left  \\\n",
       "0       341.0          349.0           369.0           28.0          19.0   \n",
       "1        52.0           96.0            77.0            7.0           5.0   \n",
       "2         3.0            2.0             4.0            0.0           0.0   \n",
       "3        16.0           12.0            20.0            1.0           1.0   \n",
       "4         9.0           20.0            22.0            0.0           0.0   \n",
       "\n",
       "   ...  bowled  caught  lbw  runout  stumped   economy  economy_left  \\\n",
       "0  ...     2.0    18.0  3.0     0.0      0.0  5.924791      5.759312   \n",
       "1  ...     2.0     5.0  0.0     0.0      0.0  4.196532      3.312500   \n",
       "2  ...     0.0     0.0  0.0     0.0      0.0  4.000000      3.000000   \n",
       "3  ...     0.0     1.0  0.0     0.0      0.0  5.062500      4.500000   \n",
       "4  ...     0.0     0.0  0.0     0.0      0.0  2.857143      1.500000   \n",
       "\n",
       "   economy_right  bowler_hand  bowler_type  \n",
       "0       5.544715         left         pace  \n",
       "1       4.051948         left         pace  \n",
       "2       4.500000         left         pace  \n",
       "3       4.800000         left         pace  \n",
       "4       2.454545         left         pace  \n",
       "\n",
       "[5 rows x 38 columns]"
      ]
     },
     "execution_count": 3,
     "metadata": {},
     "output_type": "execute_result"
    }
   ],
   "source": [
    "dflp.head()"
   ]
  },
  {
   "cell_type": "code",
   "execution_count": 4,
   "id": "34b05a98",
   "metadata": {},
   "outputs": [
    {
     "name": "stdout",
     "output_type": "stream",
     "text": [
      "inning_number       0\n",
      "Bowler              0\n",
      "Runs_Conceded       0\n",
      "total_deliveries    0\n",
      "runs_left           0\n",
      "runs_right          0\n",
      "delivery_left       0\n",
      "delivery_right      0\n",
      "wickets_taken       0\n",
      "wickets_left        0\n",
      "wickets_right       0\n",
      "wide                0\n",
      "no_ball             0\n",
      "leg_byes            0\n",
      "byes                0\n",
      "match_number        0\n",
      "P1_balls            0\n",
      "P2_balls            0\n",
      "P3_balls            0\n",
      "P1_Runs_Left        0\n",
      "P2_Runs_Left        0\n",
      "P3_Runs_Left        0\n",
      "P1_Runs_Right       0\n",
      "P2_Runs_Right       0\n",
      "P3_Runs_Right       0\n",
      "P1_Runs             0\n",
      "P2_Runs             0\n",
      "P3_Runs             0\n",
      "bowled              0\n",
      "caught              0\n",
      "lbw                 0\n",
      "runout              0\n",
      "stumped             0\n",
      "economy             0\n",
      "economy_left        0\n",
      "economy_right       1\n",
      "bowler_hand         0\n",
      "bowler_type         0\n",
      "dtype: int64\n"
     ]
    }
   ],
   "source": [
    "print(dflp.isna().sum())"
   ]
  },
  {
   "cell_type": "code",
   "execution_count": 5,
   "id": "87b25743",
   "metadata": {},
   "outputs": [
    {
     "name": "stdout",
     "output_type": "stream",
     "text": [
      "inning_number       0\n",
      "Bowler              0\n",
      "Runs_Conceded       0\n",
      "total_deliveries    0\n",
      "runs_left           0\n",
      "runs_right          0\n",
      "delivery_left       0\n",
      "delivery_right      0\n",
      "wickets_taken       0\n",
      "wickets_left        0\n",
      "wickets_right       0\n",
      "wide                0\n",
      "no_ball             0\n",
      "leg_byes            0\n",
      "byes                0\n",
      "match_number        0\n",
      "P1_balls            0\n",
      "P2_balls            0\n",
      "P3_balls            0\n",
      "P1_Runs_Left        0\n",
      "P2_Runs_Left        0\n",
      "P3_Runs_Left        0\n",
      "P1_Runs_Right       0\n",
      "P2_Runs_Right       0\n",
      "P3_Runs_Right       0\n",
      "P1_Runs             0\n",
      "P2_Runs             0\n",
      "P3_Runs             0\n",
      "bowled              0\n",
      "caught              0\n",
      "lbw                 0\n",
      "runout              0\n",
      "stumped             0\n",
      "economy             0\n",
      "economy_left        0\n",
      "economy_right       2\n",
      "bowler_hand         0\n",
      "bowler_type         0\n",
      "dtype: int64\n"
     ]
    }
   ],
   "source": [
    "print(dfls.isna().sum())"
   ]
  },
  {
   "cell_type": "code",
   "execution_count": 6,
   "id": "8fe8bc9a",
   "metadata": {},
   "outputs": [
    {
     "name": "stdout",
     "output_type": "stream",
     "text": [
      "inning_number        0\n",
      "Bowler               0\n",
      "Runs_Conceded        0\n",
      "total_deliveries     0\n",
      "runs_left            0\n",
      "runs_right           0\n",
      "delivery_left        0\n",
      "delivery_right       0\n",
      "wickets_taken        0\n",
      "wickets_left         0\n",
      "wickets_right        0\n",
      "wide                 0\n",
      "no_ball              0\n",
      "leg_byes             0\n",
      "byes                 0\n",
      "match_number         0\n",
      "P1_balls             0\n",
      "P2_balls             0\n",
      "P3_balls             0\n",
      "P1_Runs_Left         0\n",
      "P2_Runs_Left         0\n",
      "P3_Runs_Left         0\n",
      "P1_Runs_Right        0\n",
      "P2_Runs_Right        0\n",
      "P3_Runs_Right        0\n",
      "P1_Runs              0\n",
      "P2_Runs              0\n",
      "P3_Runs              0\n",
      "bowled               0\n",
      "caught               0\n",
      "lbw                  0\n",
      "runout               0\n",
      "stumped              0\n",
      "economy              0\n",
      "economy_left        10\n",
      "economy_right        7\n",
      "bowler_hand          0\n",
      "bowler_type          0\n",
      "dtype: int64\n"
     ]
    }
   ],
   "source": [
    "print(dfrp.isna().sum())"
   ]
  },
  {
   "cell_type": "code",
   "execution_count": 7,
   "id": "cfd326a5",
   "metadata": {},
   "outputs": [
    {
     "name": "stdout",
     "output_type": "stream",
     "text": [
      "inning_number       0\n",
      "Bowler              0\n",
      "Runs_Conceded       0\n",
      "total_deliveries    0\n",
      "runs_left           0\n",
      "runs_right          0\n",
      "delivery_left       0\n",
      "delivery_right      0\n",
      "wickets_taken       0\n",
      "wickets_left        0\n",
      "wickets_right       0\n",
      "wide                0\n",
      "no_ball             0\n",
      "leg_byes            0\n",
      "byes                0\n",
      "match_number        0\n",
      "P1_balls            0\n",
      "P2_balls            0\n",
      "P3_balls            0\n",
      "P1_Runs_Left        0\n",
      "P2_Runs_Left        0\n",
      "P3_Runs_Left        0\n",
      "P1_Runs_Right       0\n",
      "P2_Runs_Right       0\n",
      "P3_Runs_Right       0\n",
      "P1_Runs             0\n",
      "P2_Runs             0\n",
      "P3_Runs             0\n",
      "bowled              0\n",
      "caught              0\n",
      "lbw                 0\n",
      "runout              0\n",
      "stumped             0\n",
      "economy             0\n",
      "economy_left        4\n",
      "economy_right       9\n",
      "bowler_hand         0\n",
      "bowler_type         0\n",
      "dtype: int64\n"
     ]
    }
   ],
   "source": [
    "print(dfrs.isna().sum())"
   ]
  },
  {
   "cell_type": "code",
   "execution_count": 8,
   "id": "46f15674",
   "metadata": {},
   "outputs": [
    {
     "name": "stderr",
     "output_type": "stream",
     "text": [
      "C:\\Users\\LENOVO\\AppData\\Local\\Temp\\ipykernel_2748\\1848378165.py:5: SettingWithCopyWarning: \n",
      "A value is trying to be set on a copy of a slice from a DataFrame\n",
      "\n",
      "See the caveats in the documentation: https://pandas.pydata.org/pandas-docs/stable/user_guide/indexing.html#returning-a-view-versus-a-copy\n",
      "  dflp['economy_right'][i]=dflp['economy'][i]\n",
      "C:\\Users\\LENOVO\\AppData\\Local\\Temp\\ipykernel_2748\\1848378165.py:11: SettingWithCopyWarning: \n",
      "A value is trying to be set on a copy of a slice from a DataFrame\n",
      "\n",
      "See the caveats in the documentation: https://pandas.pydata.org/pandas-docs/stable/user_guide/indexing.html#returning-a-view-versus-a-copy\n",
      "  dfls['economy_right'][i]=dfls['economy'][i]\n",
      "C:\\Users\\LENOVO\\AppData\\Local\\Temp\\ipykernel_2748\\1848378165.py:17: SettingWithCopyWarning: \n",
      "A value is trying to be set on a copy of a slice from a DataFrame\n",
      "\n",
      "See the caveats in the documentation: https://pandas.pydata.org/pandas-docs/stable/user_guide/indexing.html#returning-a-view-versus-a-copy\n",
      "  dfrp['economy_right'][i]=dfrp['economy'][i]\n",
      "C:\\Users\\LENOVO\\AppData\\Local\\Temp\\ipykernel_2748\\1848378165.py:15: SettingWithCopyWarning: \n",
      "A value is trying to be set on a copy of a slice from a DataFrame\n",
      "\n",
      "See the caveats in the documentation: https://pandas.pydata.org/pandas-docs/stable/user_guide/indexing.html#returning-a-view-versus-a-copy\n",
      "  dfrp['economy_left'][i]=dfrp['economy'][i]\n",
      "C:\\Users\\LENOVO\\AppData\\Local\\Temp\\ipykernel_2748\\1848378165.py:23: SettingWithCopyWarning: \n",
      "A value is trying to be set on a copy of a slice from a DataFrame\n",
      "\n",
      "See the caveats in the documentation: https://pandas.pydata.org/pandas-docs/stable/user_guide/indexing.html#returning-a-view-versus-a-copy\n",
      "  dfrs['economy_right'][i]=dfrs['economy'][i]\n",
      "C:\\Users\\LENOVO\\AppData\\Local\\Temp\\ipykernel_2748\\1848378165.py:21: SettingWithCopyWarning: \n",
      "A value is trying to be set on a copy of a slice from a DataFrame\n",
      "\n",
      "See the caveats in the documentation: https://pandas.pydata.org/pandas-docs/stable/user_guide/indexing.html#returning-a-view-versus-a-copy\n",
      "  dfrs['economy_left'][i]=dfrs['economy'][i]\n"
     ]
    }
   ],
   "source": [
    "for i in range(dflp.shape[0]):\n",
    "    if(pd.isnull(dflp.iloc[i,34])):\n",
    "        dflp['economy_left'][i]=dflp['economy'][i]\n",
    "    if(pd.isnull(dflp.iloc[i,35])):\n",
    "        dflp['economy_right'][i]=dflp['economy'][i]\n",
    "        \n",
    "for i in range(dfls.shape[0]):\n",
    "    if(pd.isnull(dfls.iloc[i,34])):\n",
    "        dfls['economy_left'][i]=dfls['economy'][i]\n",
    "    if(pd.isnull(dfls.iloc[i,35])):\n",
    "        dfls['economy_right'][i]=dfls['economy'][i]\n",
    "        \n",
    "for i in range(dfrp.shape[0]):\n",
    "    if(pd.isnull(dfrp.iloc[i,34])):\n",
    "        dfrp['economy_left'][i]=dfrp['economy'][i]\n",
    "    if(pd.isnull(dfrp.iloc[i,35])):\n",
    "        dfrp['economy_right'][i]=dfrp['economy'][i]\n",
    "        \n",
    "for i in range(dfrs.shape[0]):\n",
    "    if(pd.isnull(dfrs.iloc[i,34])):\n",
    "        dfrs['economy_left'][i]=dfrs['economy'][i]\n",
    "    if(pd.isnull(dfrs.iloc[i,35])):\n",
    "        dfrs['economy_right'][i]=dfrs['economy'][i]"
   ]
  },
  {
   "cell_type": "code",
   "execution_count": 9,
   "id": "89d295b7",
   "metadata": {},
   "outputs": [],
   "source": [
    "h1=0\n",
    "h2=0\n",
    "h3=0\n",
    "h4=0\n",
    "f1=0\n",
    "f2=0\n",
    "f3=0\n",
    "f4=0"
   ]
  },
  {
   "cell_type": "markdown",
   "id": "5307e7bf",
   "metadata": {},
   "source": [
    "## Various bowlers in Innings 1"
   ]
  },
  {
   "cell_type": "code",
   "execution_count": 10,
   "id": "d9f7ac48",
   "metadata": {},
   "outputs": [],
   "source": [
    "bowllp=[]\n",
    "for i in range(len(dflp)):\n",
    "    if(dflp['inning_number'][i]==2.0):\n",
    "        bowllp.append(dflp['Bowler'][i])\n",
    "        if(f1==0):\n",
    "            h1=i\n",
    "            f1=1\n",
    "    \n",
    "\n",
    "bowlls=[]\n",
    "for i in range(len(dfls)):\n",
    "    if(dfls['inning_number'][i]==2.0):\n",
    "        bowlls.append(dfls['Bowler'][i])\n",
    "        if(f2==0):\n",
    "            h2=i\n",
    "            f2=1\n",
    "\n",
    "bowlrp=[]\n",
    "for i in range(len(dfrp)):\n",
    "    if(dfrp['inning_number'][i]==2.0):\n",
    "        bowlrp.append(dfrp['Bowler'][i])\n",
    "        if(f3==0):\n",
    "            h3=i\n",
    "            f3=1\n",
    "\n",
    "bowlrs=[]\n",
    "for i in range(len(dfrs)):\n",
    "    if(dfrs['inning_number'][i]==2.0):\n",
    "        bowlrs.append(dfrs['Bowler'][i])\n",
    "        if(f4==0):\n",
    "            h4=i\n",
    "            f4=1"
   ]
  },
  {
   "cell_type": "markdown",
   "id": "c4ffdb3d",
   "metadata": {},
   "source": [
    "# Analysis on the deliveries per wicket of the bowlers "
   ]
  },
  {
   "cell_type": "code",
   "execution_count": 11,
   "id": "5cede809",
   "metadata": {},
   "outputs": [],
   "source": [
    "dellp=[]\n",
    "dells=[]\n",
    "delrp=[]\n",
    "delrs=[]\n",
    "dellp=dflp['Runs_Conceded']/dflp['wickets_taken']\n",
    "dells=dfls['Runs_Conceded']/dfls['wickets_taken']\n",
    "delrp=dfrp['Runs_Conceded']/dfrp['wickets_taken']\n",
    "delrs=dfrs['Runs_Conceded']/dfrs['wickets_taken']"
   ]
  },
  {
   "cell_type": "code",
   "execution_count": 12,
   "id": "91f4c936",
   "metadata": {},
   "outputs": [],
   "source": [
    "dellp=dellp[h1:]\n",
    "dells=dells[h2:]\n",
    "delrp=delrp[h3:]\n",
    "delrs=delrs[h4:]"
   ]
  },
  {
   "cell_type": "code",
   "execution_count": 13,
   "id": "9d3a689e",
   "metadata": {},
   "outputs": [],
   "source": [
    "# plt.figure(figsize=(20,10))\n",
    "# plt.title('Runs per wicket of left handed pacers')\n",
    "# tips={'BOWLER LIST': bowllp, 'Runs per wicket' : dellp}\n",
    "# tips=pd.DataFrame(tips)\n",
    "# sns.set_theme(style=\"whitegrid\")\n",
    "# ax=sns.barplot(x='BOWLER LIST', y=\"Runs per wicket\", data=tips)\n",
    "# cv=ax.set_xticklabels(labels=bowllp, rotation=90)"
   ]
  },
  {
   "cell_type": "code",
   "execution_count": 14,
   "id": "3bea95d3",
   "metadata": {},
   "outputs": [],
   "source": [
    "# plt.figure(figsize=(20,10))\n",
    "# plt.title('Runs per wicket of left handed spinners')\n",
    "# tips={'BOWLER LIST': bowlls, 'Runs per wicket' : dells}\n",
    "# tips=pd.DataFrame(tips)\n",
    "# sns.set_theme(style=\"whitegrid\")\n",
    "# ax=sns.barplot(x='BOWLER LIST', y=\"Runs per wicket\", data=tips)\n",
    "# cv=ax.set_xticklabels(labels=bowlls, rotation=90)"
   ]
  },
  {
   "cell_type": "code",
   "execution_count": 15,
   "id": "90b89b50",
   "metadata": {},
   "outputs": [],
   "source": [
    "# plt.figure(figsize=(40,20))\n",
    "# plt.title('Runs per wicket of left handed pacers')\n",
    "# tips={'BOWLER LIST': bowlrp, 'Runs per wicket' : delrp}\n",
    "# tips=pd.DataFrame(tips)\n",
    "# sns.set_theme(style=\"whitegrid\")\n",
    "# ax=sns.barplot(x='BOWLER LIST', y=\"Runs per wicket\", data=tips)\n",
    "# cv=ax.set_xticklabels(labels=bowlrp, rotation=90)"
   ]
  },
  {
   "cell_type": "code",
   "execution_count": 16,
   "id": "932aca5d",
   "metadata": {},
   "outputs": [],
   "source": [
    "# plt.figure(figsize=(40,20))\n",
    "# plt.title('Runs per wicket of left handed pacers')\n",
    "# tips={'BOWLER LIST': bowlrs, 'Runs per wicket' : delrs}\n",
    "# tips=pd.DataFrame(tips)\n",
    "# sns.set_theme(style=\"whitegrid\")\n",
    "# ax=sns.barplot(x='BOWLER LIST', y=\"Runs per wicket\", data=tips)\n",
    "# cv=ax.set_xticklabels(labels=bowlrs, rotation=90)"
   ]
  },
  {
   "cell_type": "code",
   "execution_count": 17,
   "id": "99649094",
   "metadata": {},
   "outputs": [],
   "source": [
    "def variance(data):\n",
    "    n=len(data)\n",
    "    mean=sum(data)/n;\n",
    "    dev=[(x-mean)**2 for x in data]\n",
    "    var=sum(dev)/n\n",
    "    return var\n",
    "\n",
    "def stddev(data):\n",
    "    n=len(data)\n",
    "    var=variance(data)\n",
    "    return math.sqrt(var)"
   ]
  },
  {
   "cell_type": "code",
   "execution_count": 18,
   "id": "d78d0dcd",
   "metadata": {},
   "outputs": [],
   "source": [
    "dellpup=[]\n",
    "dellsup=[]\n",
    "delrpup=[]\n",
    "delrsup=[]\n",
    "\n",
    "for i in dellp:\n",
    "    if(i<1000):\n",
    "        dellpup.append(i)\n",
    "for i in dells:\n",
    "    if(i<1000):\n",
    "        dellsup.append(i)\n",
    "for i in delrp:\n",
    "    if(i<1000):\n",
    "        delrpup.append(i)\n",
    "for i in delrs:\n",
    "    if(i<1000):\n",
    "        delrsup.append(i)\n",
    "        \n",
    "dellp=dellpup\n",
    "dells=dellsup\n",
    "delrp=delrpup\n",
    "delrs=delrsup"
   ]
  },
  {
   "cell_type": "code",
   "execution_count": 19,
   "id": "33901673",
   "metadata": {},
   "outputs": [
    {
     "name": "stdout",
     "output_type": "stream",
     "text": [
      "The mean Runs per wicket of the bowlers of left pace are: 31.69497138910668\n",
      "The variance of Runs per wicket  of the bowlers of left pace are: 387.0864658109442\n",
      "The standard deviation of Runs per wicket of the bowlers of left pace are: 19.674513102258572\n"
     ]
    }
   ],
   "source": [
    "#variance and standard deviation for left pace\n",
    "print(\"The mean Runs per wicket of the bowlers of left pace are:\",np.mean(dellp))\n",
    "print(\"The variance of Runs per wicket  of the bowlers of left pace are:\",variance(dellp))\n",
    "print(\"The standard deviation of Runs per wicket of the bowlers of left pace are:\",stddev(dellp))"
   ]
  },
  {
   "cell_type": "code",
   "execution_count": 20,
   "id": "4b9a1814",
   "metadata": {},
   "outputs": [
    {
     "name": "stdout",
     "output_type": "stream",
     "text": [
      "The mean Runs per wicket of the bowlers of left spin are: 38.747571465825374\n",
      "The variance of Runs per wicket  of the bowlers of left spin are: 760.3050160797092\n",
      "The standard deviation of runs per wicket of the bowlers of left spin are: 27.573628997281247\n"
     ]
    }
   ],
   "source": [
    "#variance and standard deviation for left spin\n",
    "print(\"The mean Runs per wicket of the bowlers of left spin are:\",np.mean(dells))\n",
    "print(\"The variance of Runs per wicket  of the bowlers of left spin are:\",variance(dells))\n",
    "print(\"The standard deviation of runs per wicket of the bowlers of left spin are:\",stddev(dells))"
   ]
  },
  {
   "cell_type": "code",
   "execution_count": 21,
   "id": "da73e91e",
   "metadata": {},
   "outputs": [
    {
     "name": "stdout",
     "output_type": "stream",
     "text": [
      "The mean Runs per wicket of the bowlers of right pace are: 35.46042024225751\n",
      "The variance of Runs per wicket  of the bowlers of right pace are: 612.1522409429894\n",
      "The standard deviation of Runs per wicket of the bowlers of right pace are: 24.741710550060787\n"
     ]
    }
   ],
   "source": [
    "#variance and standard deviation for right pace\n",
    "print(\"The mean Runs per wicket of the bowlers of right pace are:\",np.mean(delrp))\n",
    "print(\"The variance of Runs per wicket  of the bowlers of right pace are:\",variance(delrp))\n",
    "print(\"The standard deviation of Runs per wicket of the bowlers of right pace are:\",stddev(delrp))"
   ]
  },
  {
   "cell_type": "code",
   "execution_count": 22,
   "id": "2385c44e",
   "metadata": {},
   "outputs": [
    {
     "name": "stdout",
     "output_type": "stream",
     "text": [
      "The mean Runs per wicket of the bowlers of right spin are: 34.636061817701574\n",
      "The variance of Runs per wicket  of the bowlers of right spin are: 534.9411155283062\n",
      "The standard deviation of Runs per wicket of the bowlers of right spin are: 23.128794078557277\n"
     ]
    }
   ],
   "source": [
    "#variance and standard deviation for right spin\n",
    "print(\"The mean Runs per wicket of the bowlers of right spin are:\",np.mean(delrs))\n",
    "print(\"The variance of Runs per wicket  of the bowlers of right spin are:\",variance(delrs))\n",
    "print(\"The standard deviation of Runs per wicket of the bowlers of right spin are:\",stddev(delrs))"
   ]
  },
  {
   "cell_type": "code",
   "execution_count": 23,
   "id": "08027aa2",
   "metadata": {},
   "outputs": [
    {
     "name": "stdout",
     "output_type": "stream",
     "text": [
      "75\n",
      "101\n",
      "390\n",
      "203\n"
     ]
    }
   ],
   "source": [
    "print(len(dellp))\n",
    "print(len(dells))\n",
    "print(len(delrp))\n",
    "print(len(delrs))"
   ]
  },
  {
   "cell_type": "code",
   "execution_count": 26,
   "id": "4ccf6876",
   "metadata": {},
   "outputs": [
    {
     "name": "stdout",
     "output_type": "stream",
     "text": [
      "Ttest_indResult(statistic=1.284140086454484, pvalue=0.20082505923612395)\n",
      "Ttest_indResult(statistic=1.968652732611517, pvalue=0.050583332318734006)\n",
      "Ttest_indResult(statistic=1.085116251066712, pvalue=0.2796823095249729)\n"
     ]
    }
   ],
   "source": [
    "################ double tailed t-test #####################\n",
    "print(stats.ttest_ind(a=dells, b=delrs, equal_var=False, random_state=1))\n",
    "print(stats.ttest_ind(a=dells, b=dellp, equal_var=False, random_state=1))\n",
    "print(stats.ttest_ind(a=dells, b=delrp, equal_var=False, random_state=1))\n",
    "################         end          #####################"
   ]
  },
  {
   "cell_type": "code",
   "execution_count": 27,
   "id": "035ea647",
   "metadata": {},
   "outputs": [],
   "source": [
    "# fig = plt.figure(figsize =(10, 7))\n",
    "# ax = fig.add_subplot(111)\n",
    " \n",
    "# # Creating axes instance\n",
    "# bp = ax.boxplot([dellp,dells,delrp,delrs], patch_artist = True,notch ='True', vert = 0)\n",
    " \n",
    "# colors = ['#0000FF', '#00FF00', '#FFFF00', '#FF00FF']\n",
    " \n",
    "# for patch, color in zip(bp['boxes'], colors):\n",
    "#     patch.set_facecolor(color)\n",
    "\n",
    "# #whiskers\n",
    "# for whisker in bp['whiskers']:\n",
    "#     whisker.set(color ='#8B008B',linewidth = 1.5,linestyle =\":\")\n",
    "\n",
    "# #caps\n",
    "# for cap in bp['caps']:\n",
    "#     cap.set(color ='#8B008B',linewidth = 2)\n",
    "\n",
    "# for median in bp['medians']:\n",
    "#     median.set(color ='red',linewidth = 3)\n",
    "\n",
    "# # changing style of fliers\n",
    "# for flier in bp['fliers']:\n",
    "#     flier.set(marker ='D',color ='#e7298a',alpha = 0.5)\n",
    "     \n",
    "# # x-axis labels\n",
    "# ax.set_yticklabels(['Left pace', 'Left spin','Right pace', 'Right Spin'])\n",
    " \n",
    "# # Adding title\n",
    "# plt.title(\"Average runs per wicket of different types of bowlers\")\n",
    " \n",
    "# # Removing top axes and right axes\n",
    "# # ticks\n",
    "# ax.get_xaxis().tick_bottom()\n",
    "# ax.get_yaxis().tick_left()\n",
    "# ax.set(xlabel='DELIVERY PER WICKET', ylabel='TYPE OF BOWLER')\n",
    "# # show plot\n",
    "# plt.show()"
   ]
  },
  {
   "cell_type": "markdown",
   "id": "a7218958",
   "metadata": {},
   "source": [
    "# Some inferences drawn\n",
    "> The left pace bowlers have the lowest avg. deliveries per wicket among all the four types of bowlers\n",
    "\n",
    "> There is a very high standard deviation (~60% of the mean) in avg. deliveries per wicket for all the four types of bowlers"
   ]
  },
  {
   "cell_type": "markdown",
   "id": "1a918c56",
   "metadata": {},
   "source": [
    "# Analysis on the deliveries per wicket of the bowlers against left handed batsman"
   ]
  },
  {
   "cell_type": "code",
   "execution_count": 28,
   "id": "d599ebdb",
   "metadata": {},
   "outputs": [],
   "source": [
    "dellp=[]\n",
    "dells=[]\n",
    "delrp=[]\n",
    "delrs=[]\n",
    "dellp=dflp['runs_left']/dflp['wickets_left']\n",
    "dells=dfls['runs_left']/dfls['wickets_left']\n",
    "delrp=dfrp['runs_left']/dfrp['wickets_left']\n",
    "delrs=dfrs['runs_left']/dfrs['wickets_left']"
   ]
  },
  {
   "cell_type": "code",
   "execution_count": 29,
   "id": "be6abce3",
   "metadata": {},
   "outputs": [],
   "source": [
    "dellp=dellp[h1:]\n",
    "dells=dells[h2:]\n",
    "delrp=delrp[h3:]\n",
    "delrs=delrs[h4:]"
   ]
  },
  {
   "cell_type": "code",
   "execution_count": 30,
   "id": "8895a67b",
   "metadata": {},
   "outputs": [],
   "source": [
    "# plt.figure(figsize=(20,10))\n",
    "# plt.title('runs per wicket of left handed pacers vs. left handed batsman')\n",
    "# tips={'BOWLER LIST': bowllp, 'runs per wicket' : dellp}\n",
    "# tips=pd.DataFrame(tips)\n",
    "# sns.set_theme(style=\"whitegrid\")\n",
    "# ax=sns.barplot(x='BOWLER LIST', y=\"runs per wicket\", data=tips)\n",
    "# cv=ax.set_xticklabels(labels=bowllp, rotation=90)"
   ]
  },
  {
   "cell_type": "code",
   "execution_count": 31,
   "id": "d7a29921",
   "metadata": {},
   "outputs": [],
   "source": [
    "# plt.figure(figsize=(20,10))\n",
    "# plt.title('runs per wicket of left handed spinners vs. left handed batsman')\n",
    "# tips={'BOWLER LIST': bowlls, 'runs per wicket' : dells}\n",
    "# tips=pd.DataFrame(tips)\n",
    "# sns.set_theme(style=\"whitegrid\")\n",
    "# ax=sns.barplot(x='BOWLER LIST', y=\"runs per wicket\", data=tips)\n",
    "# cv=ax.set_xticklabels(labels=bowlls, rotation=90)"
   ]
  },
  {
   "cell_type": "code",
   "execution_count": 32,
   "id": "3735bbf5",
   "metadata": {},
   "outputs": [],
   "source": [
    "# plt.figure(figsize=(40,20))\n",
    "# plt.title('runs per wicket of left handed pacers vs. left handed batsman')\n",
    "# tips={'BOWLER LIST': bowlrp, 'runs per wicket' : delrp}\n",
    "# tips=pd.DataFrame(tips)\n",
    "# sns.set_theme(style=\"whitegrid\")\n",
    "# ax=sns.barplot(x='BOWLER LIST', y=\"runs per wicket\", data=tips)\n",
    "# cv=ax.set_xticklabels(labels=bowlrp, rotation=90)"
   ]
  },
  {
   "cell_type": "code",
   "execution_count": 33,
   "id": "8564dfff",
   "metadata": {},
   "outputs": [],
   "source": [
    "# plt.figure(figsize=(40,20))\n",
    "# plt.title('runs per wicket of left handed pacers vs. left handed batsman')\n",
    "# tips={'BOWLER LIST': bowlrs, 'runs per wicket' : delrs}\n",
    "# tips=pd.DataFrame(tips)\n",
    "# sns.set_theme(style=\"whitegrid\")\n",
    "# ax=sns.barplot(x='BOWLER LIST', y=\"runs per wicket\", data=tips)\n",
    "# cv=ax.set_xticklabels(labels=bowlrs, rotation=90)"
   ]
  },
  {
   "cell_type": "code",
   "execution_count": 34,
   "id": "b535ebc6",
   "metadata": {},
   "outputs": [],
   "source": [
    "dellpup=[]\n",
    "dellsup=[]\n",
    "delrpup=[]\n",
    "delrsup=[]\n",
    "\n",
    "for i in dellp:\n",
    "    if(i<1000):\n",
    "        dellpup.append(i)\n",
    "for i in dells:\n",
    "    if(i<1000):\n",
    "        dellsup.append(i)\n",
    "for i in delrp:\n",
    "    if(i<1000):\n",
    "        delrpup.append(i)\n",
    "for i in delrs:\n",
    "    if(i<1000):\n",
    "        delrsup.append(i)\n",
    "        \n",
    "dellp=dellpup\n",
    "dells=dellsup\n",
    "delrp=delrpup\n",
    "delrs=delrsup"
   ]
  },
  {
   "cell_type": "code",
   "execution_count": 35,
   "id": "dc3c1e5c",
   "metadata": {},
   "outputs": [
    {
     "name": "stdout",
     "output_type": "stream",
     "text": [
      "The mean runs per wicket of the bowlers of left pace vs. left handed batsman are: 25.167325203285163\n",
      "The variance of runs per wicket  of the bowlers of left pace vs. left handed batsman are: 275.9414491756842\n",
      "The standard deviation of runs per wicket of the bowlers of left pace vs. left handed batsman are: 16.611485459635578\n"
     ]
    }
   ],
   "source": [
    "#variance and standard deviation for left pace\n",
    "print(\"The mean runs per wicket of the bowlers of left pace vs. left handed batsman are:\",np.mean(dellp))\n",
    "print(\"The variance of runs per wicket  of the bowlers of left pace vs. left handed batsman are:\",variance(dellp))\n",
    "print(\"The standard deviation of runs per wicket of the bowlers of left pace vs. left handed batsman are:\",stddev(dellp))"
   ]
  },
  {
   "cell_type": "code",
   "execution_count": 36,
   "id": "9e4455ad",
   "metadata": {},
   "outputs": [
    {
     "name": "stdout",
     "output_type": "stream",
     "text": [
      "The mean runs per wicket of the bowlers of left spin vs. left handed batsman are: 34.07354648095389\n",
      "The variance of runs per wicket  of the bowlers of left spin vs. left handed batsman are: 530.8244170177599\n",
      "The standard deviation of runs per wicket of the bowlers of left spin vs. left handed batsman are: 23.039627102402502\n"
     ]
    }
   ],
   "source": [
    "#variance and standard deviation for left spin\n",
    "print(\"The mean runs per wicket of the bowlers of left spin vs. left handed batsman are:\",np.mean(dells))\n",
    "print(\"The variance of runs per wicket  of the bowlers of left spin vs. left handed batsman are:\",variance(dells))\n",
    "print(\"The standard deviation of runs per wicket of the bowlers of left spin vs. left handed batsman are:\",stddev(dells))"
   ]
  },
  {
   "cell_type": "code",
   "execution_count": 37,
   "id": "e7c732f6",
   "metadata": {},
   "outputs": [
    {
     "name": "stdout",
     "output_type": "stream",
     "text": [
      "The mean runs per wicket of the bowlers of right pace vs. left handed batsman are: 31.217933479048884\n",
      "The variance of runs per wicket  of the bowlers of right pace vs. left handed batsman are: 406.5904599051252\n",
      "The standard deviation of runs per wicket of the bowlers of right pace vs. left handed batsman are: 20.164088372776124\n"
     ]
    }
   ],
   "source": [
    "#variance and standard deviation for right pace\n",
    "print(\"The mean runs per wicket of the bowlers of right pace vs. left handed batsman are:\",np.mean(delrp))\n",
    "print(\"The variance of runs per wicket  of the bowlers of right pace vs. left handed batsman are:\",variance(delrp))\n",
    "print(\"The standard deviation of runs per wicket of the bowlers of right pace vs. left handed batsman are:\",stddev(delrp))"
   ]
  },
  {
   "cell_type": "code",
   "execution_count": 38,
   "id": "573f5d24",
   "metadata": {},
   "outputs": [
    {
     "name": "stdout",
     "output_type": "stream",
     "text": [
      "The mean runs per wicket of the bowlers of right spin vs. left handed batsman are: 29.53403484927556\n",
      "The variance of runs per wicket  of the bowlers of right spin vs. left handed batsman are: 635.5750161900932\n",
      "The standard deviation of runs per wicket of the bowlers of right spin vs. left handed batsman are: 25.210613165690617\n"
     ]
    }
   ],
   "source": [
    "#variance and standard deviation for right spin\n",
    "print(\"The mean runs per wicket of the bowlers of right spin vs. left handed batsman are:\",np.mean(delrs))\n",
    "print(\"The variance of runs per wicket  of the bowlers of right spin vs. left handed batsman are:\",variance(delrs))\n",
    "print(\"The standard deviation of runs per wicket of the bowlers of right spin vs. left handed batsman are:\",stddev(delrs))"
   ]
  },
  {
   "cell_type": "code",
   "execution_count": 39,
   "id": "18d93f88",
   "metadata": {},
   "outputs": [
    {
     "name": "stdout",
     "output_type": "stream",
     "text": [
      "69\n",
      "81\n",
      "322\n",
      "170\n"
     ]
    }
   ],
   "source": [
    "print(len(dellp))\n",
    "print(len(dells))\n",
    "print(len(delrp))\n",
    "print(len(delrs))"
   ]
  },
  {
   "cell_type": "code",
   "execution_count": 41,
   "id": "2a60ab09",
   "metadata": {},
   "outputs": [
    {
     "name": "stdout",
     "output_type": "stream",
     "text": [
      "Ttest_indResult(statistic=1.4079065289561679, pvalue=0.1609797991582786)\n",
      "Ttest_indResult(statistic=1.0158566489481828, pvalue=0.31187864073502136)\n",
      "Ttest_indResult(statistic=2.723568241865481, pvalue=0.0072558312120691295)\n"
     ]
    }
   ],
   "source": [
    "################ double tailed t-test #####################\n",
    "print(stats.ttest_ind(a=dells, b=delrs, equal_var=False, random_state=1))\n",
    "print(stats.ttest_ind(a=dells, b=delrp, equal_var=False, random_state=1))\n",
    "print(stats.ttest_ind(a=dells, b=dellp, equal_var=False, random_state=1))\n",
    "################         end          #####################"
   ]
  },
  {
   "cell_type": "markdown",
   "id": "2f60a3f0",
   "metadata": {},
   "source": [
    "# Some inferences drawn\n",
    "> The left pace bowlers have the lowest avg. deliveries per wicket vs. left handed batsman among all the four types of bowlers\n",
    "\n",
    "> There is a very high standard deviation (~65% of the mean) in avg. deliveries per wicket for all the four types of bowlers"
   ]
  },
  {
   "cell_type": "code",
   "execution_count": 42,
   "id": "0fd15f07",
   "metadata": {},
   "outputs": [],
   "source": [
    "dellp=[]\n",
    "dells=[]\n",
    "delrp=[]\n",
    "delrs=[]\n",
    "dellp=dflp['delivery_right']/dflp['wickets_right']\n",
    "dells=dfls['delivery_right']/dfls['wickets_right']\n",
    "delrp=dfrp['delivery_right']/dfrp['wickets_right']\n",
    "delrs=dfrs['delivery_right']/dfrs['wickets_right']"
   ]
  },
  {
   "cell_type": "code",
   "execution_count": 43,
   "id": "deebf160",
   "metadata": {},
   "outputs": [],
   "source": [
    "dellp=dellp[h1:]\n",
    "dells=dells[h2:]\n",
    "delrp=delrp[h3:]\n",
    "delrs=delrs[h4:]"
   ]
  },
  {
   "cell_type": "code",
   "execution_count": 44,
   "id": "13f8a509",
   "metadata": {},
   "outputs": [],
   "source": [
    "# plt.figure(figsize=(20,10))\n",
    "# plt.title('runs per wicket of left handed pacers vs. right handed batsman')\n",
    "# tips={'BOWLER LIST': bowllp, 'runs per wicket' : dellp}\n",
    "# tips=pd.DataFrame(tips)\n",
    "# sns.set_theme(style=\"whitegrid\")\n",
    "# ax=sns.barplot(x='BOWLER LIST', y=\"runs per wicket\", data=tips)\n",
    "# cv=ax.set_xticklabels(labels=bowllp, rotation=90)"
   ]
  },
  {
   "cell_type": "code",
   "execution_count": 45,
   "id": "87b41bdf",
   "metadata": {},
   "outputs": [],
   "source": [
    "# plt.figure(figsize=(20,10))\n",
    "# plt.title('runs per wicket of left handed spinners vs. right handed batsman')\n",
    "# tips={'BOWLER LIST': bowlls, 'runs per wicket' : dells}\n",
    "# tips=pd.DataFrame(tips)\n",
    "# sns.set_theme(style=\"whitegrid\")\n",
    "# ax=sns.barplot(x='BOWLER LIST', y=\"runs per wicket\", data=tips)\n",
    "# cv=ax.set_xticklabels(labels=bowlls, rotation=90)"
   ]
  },
  {
   "cell_type": "code",
   "execution_count": 46,
   "id": "444294c3",
   "metadata": {},
   "outputs": [],
   "source": [
    "# plt.figure(figsize=(40,20))\n",
    "# plt.title('runs per wicket of left handed pacers vs. right handed batsman')\n",
    "# tips={'BOWLER LIST': bowlrp, 'runs per wicket' : delrp}\n",
    "# tips=pd.DataFrame(tips)\n",
    "# sns.set_theme(style=\"whitegrid\")\n",
    "# ax=sns.barplot(x='BOWLER LIST', y=\"runs per wicket\", data=tips)\n",
    "# cv=ax.set_xticklabels(labels=bowlrp, rotation=90)"
   ]
  },
  {
   "cell_type": "code",
   "execution_count": 47,
   "id": "34a58d0f",
   "metadata": {},
   "outputs": [],
   "source": [
    "# plt.figure(figsize=(40,20))\n",
    "# plt.title('runs per wicket of left handed pacers vs. right handed batsman')\n",
    "# tips={'BOWLER LIST': bowlrs, 'runs per wicket' : delrs}\n",
    "# tips=pd.DataFrame(tips)\n",
    "# sns.set_theme(style=\"whitegrid\")\n",
    "# ax=sns.barplot(x='BOWLER LIST', y=\"runs per wicket\", data=tips)\n",
    "# cv=ax.set_xticklabels(labels=bowlrs, rotation=90)"
   ]
  },
  {
   "cell_type": "code",
   "execution_count": 48,
   "id": "b423d2d8",
   "metadata": {},
   "outputs": [],
   "source": [
    "dellpup=[]\n",
    "dellsup=[]\n",
    "delrpup=[]\n",
    "delrsup=[]\n",
    "\n",
    "for i in dellp:\n",
    "    if(i<1000):\n",
    "        dellpup.append(i)\n",
    "for i in dells:\n",
    "    if(i<1000):\n",
    "        dellsup.append(i)\n",
    "for i in delrp:\n",
    "    if(i<1000):\n",
    "        delrpup.append(i)\n",
    "for i in delrs:\n",
    "    if(i<1000):\n",
    "        delrsup.append(i)\n",
    "        \n",
    "dellp=dellpup\n",
    "dells=dellsup\n",
    "delrp=delrpup\n",
    "delrs=delrsup"
   ]
  },
  {
   "cell_type": "code",
   "execution_count": 49,
   "id": "6bd96ab1",
   "metadata": {},
   "outputs": [
    {
     "name": "stdout",
     "output_type": "stream",
     "text": [
      "The mean runs per wicket of the bowlers of left pace vs. right handed batsman are: 45.62580086211489\n",
      "The variance of runs per wicket  of the bowlers of left pace vs. right handed batsman are: 928.2410248263554\n",
      "The standard deviation of runs per wicket of the bowlers of left pace vs. right handed batsman are: 30.46704818039246\n"
     ]
    }
   ],
   "source": [
    "#variance and standard deviation for left pace\n",
    "print(\"The mean runs per wicket of the bowlers of left pace vs. right handed batsman are:\",np.mean(dellp))\n",
    "print(\"The variance of runs per wicket  of the bowlers of left pace vs. right handed batsman are:\",variance(dellp))\n",
    "print(\"The standard deviation of runs per wicket of the bowlers of left pace vs. right handed batsman are:\",stddev(dellp))"
   ]
  },
  {
   "cell_type": "code",
   "execution_count": 50,
   "id": "d6b4ca32",
   "metadata": {},
   "outputs": [
    {
     "name": "stdout",
     "output_type": "stream",
     "text": [
      "The mean runs per wicket of the bowlers of left spin vs. right handed batsman are: 43.77009983462894\n",
      "The variance of deliveries per wicket  of the bowlers of left spin vs. right handed batsman are: 1078.580175717151\n",
      "The standard deviation of runs per wicket of the bowlers of left spin vs. right handed batsman are: 32.841744407341565\n"
     ]
    }
   ],
   "source": [
    "#variance and standard deviation for left spin\n",
    "print(\"The mean runs per wicket of the bowlers of left spin vs. right handed batsman are:\",np.mean(dells))\n",
    "print(\"The variance of deliveries per wicket  of the bowlers of left spin vs. right handed batsman are:\",variance(dells))\n",
    "print(\"The standard deviation of runs per wicket of the bowlers of left spin vs. right handed batsman are:\",stddev(dells))"
   ]
  },
  {
   "cell_type": "code",
   "execution_count": 51,
   "id": "93fd27db",
   "metadata": {},
   "outputs": [
    {
     "name": "stdout",
     "output_type": "stream",
     "text": [
      "The mean runs per wicket of the bowlers of right pace vs. right handed batsman are: 39.12939414840947\n",
      "The variance of runs per wicket  of the bowlers of right pace vs. right handed batsman are: 675.697397573238\n",
      "The standard deviation of runs per wicket of the bowlers of right pace vs. right handed batsman are: 25.994180071185898\n"
     ]
    }
   ],
   "source": [
    "#variance and standard deviation for right pace\n",
    "print(\"The mean runs per wicket of the bowlers of right pace vs. right handed batsman are:\",np.mean(delrp))\n",
    "print(\"The variance of runs per wicket  of the bowlers of right pace vs. right handed batsman are:\",variance(delrp))\n",
    "print(\"The standard deviation of runs per wicket of the bowlers of right pace vs. right handed batsman are:\",stddev(delrp))"
   ]
  },
  {
   "cell_type": "code",
   "execution_count": 52,
   "id": "39be27cb",
   "metadata": {},
   "outputs": [
    {
     "name": "stdout",
     "output_type": "stream",
     "text": [
      "The mean runs per wicket of the bowlers of right spin vs. right handed batsman are: 43.44080413927397\n",
      "The variance of runs per wicket  of the bowlers of right spin vs. right handed batsman are: 1178.1385459042192\n",
      "The standard deviation of runs per wicket of the bowlers of right spin vs. right handed batsman are: 34.32402286889197\n"
     ]
    }
   ],
   "source": [
    "#variance and standard deviation for right spin\n",
    "print(\"The mean runs per wicket of the bowlers of right spin vs. right handed batsman are:\",np.mean(delrs))\n",
    "print(\"The variance of runs per wicket  of the bowlers of right spin vs. right handed batsman are:\",variance(delrs))\n",
    "print(\"The standard deviation of runs per wicket of the bowlers of right spin vs. right handed batsman are:\",stddev(delrs))"
   ]
  },
  {
   "cell_type": "code",
   "execution_count": 53,
   "id": "a20a355d",
   "metadata": {},
   "outputs": [
    {
     "name": "stdout",
     "output_type": "stream",
     "text": [
      "62\n",
      "81\n",
      "318\n",
      "152\n"
     ]
    }
   ],
   "source": [
    "print(len(dellp))\n",
    "print(len(dells))\n",
    "print(len(delrp))\n",
    "print(len(delrs))"
   ]
  },
  {
   "cell_type": "code",
   "execution_count": 54,
   "id": "427cb2a3",
   "metadata": {},
   "outputs": [
    {
     "name": "stdout",
     "output_type": "stream",
     "text": [
      "Ttest_indResult(statistic=0.4554121970953795, pvalue=0.6495953679036239)\n",
      "Ttest_indResult(statistic=0.3463954817810144, pvalue=0.7295819136255461)\n",
      "Ttest_indResult(statistic=1.5596995456766576, pvalue=0.1228288083553771)\n"
     ]
    }
   ],
   "source": [
    "################ double tailed t-test #####################\n",
    "print(stats.ttest_ind(a=dellp, b=delrs, equal_var=False, random_state=1))\n",
    "print(stats.ttest_ind(a=dellp, b=dells, equal_var=False, random_state=1))\n",
    "print(stats.ttest_ind(a=dellp, b=delrp, equal_var=False, random_state=1))\n",
    "################         end          #####################"
   ]
  },
  {
   "cell_type": "markdown",
   "id": "ba3bfb8a",
   "metadata": {},
   "source": [
    "# Some inferences drawn\n",
    "> The left pace bowlers have the lowest avg. deliveries per wicket vs. right handed batsman among all the four types of bowlers\n",
    "\n",
    "> There is a very high standard deviation (~70% of the mean) in avg. deliveries per wicket for all the four types of bowlers"
   ]
  }
 ],
 "metadata": {
  "kernelspec": {
   "display_name": "Python 3 (ipykernel)",
   "language": "python",
   "name": "python3"
  },
  "language_info": {
   "codemirror_mode": {
    "name": "ipython",
    "version": 3
   },
   "file_extension": ".py",
   "mimetype": "text/x-python",
   "name": "python",
   "nbconvert_exporter": "python",
   "pygments_lexer": "ipython3",
   "version": "3.9.12"
  }
 },
 "nbformat": 4,
 "nbformat_minor": 5
}
